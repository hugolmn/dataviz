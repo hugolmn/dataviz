{
 "cells": [
  {
   "cell_type": "code",
   "execution_count": 273,
   "metadata": {},
   "outputs": [],
   "source": [
    "import pandas as pd\n",
    "import numpy as np\n",
    "import chart_studio.plotly as py\n",
    "import plotly.colors\n",
    "import plotly.graph_objects as go\n",
    "import matplotlib.pyplot as plt"
   ]
  },
  {
   "cell_type": "code",
   "execution_count": 344,
   "metadata": {},
   "outputs": [],
   "source": [
    "# Reading attendance data\n",
    "df_frequentation = pd.read_csv('data/frequentation-gares.csv', sep=';')\n",
    "# Reading train station data\n",
    "df_gares = pd.read_csv('data/referentiel-gares-voyageurs.csv', sep=';')\n",
    "df = df_gares.merge(\n",
    "    right=df_frequentation, \n",
    "    left_on='Code UIC', \n",
    "    right_on='Code UIC complet', \n",
    "    how='inner')\n",
    "\n",
    "# Reading found items data\n",
    "df_items = pd.read_csv('data/objets-trouves-restitution.csv', sep=';')\n",
    "df = df.merge(df_items, on='Code UIC', how='right')"
   ]
  },
  {
   "cell_type": "code",
   "execution_count": 345,
   "metadata": {},
   "outputs": [],
   "source": [
    "# Filtering by date\n",
    "df['Date'] = pd.to_datetime(df.Date, utc=True).dt.tz_convert('Europe/Paris')"
   ]
  },
  {
   "cell_type": "code",
   "execution_count": 346,
   "metadata": {},
   "outputs": [],
   "source": [
    "df = df.loc[(df.Date.dt.year >= 2015) & (df.Date.dt.year <= 2018)]\n",
    "\n",
    "df['Passengers'] =(df['Total Voyageurs 2018'] \n",
    "                    + df['Total Voyageurs 2017'] \n",
    "                    + df['Total Voyageurs 2016'] \n",
    "                    + df['Total Voyageurs 2015'])\n",
    "\n",
    "df = (df.groupby(by=\"Intitulé gare\")\n",
    "        .agg({'Longitude WGS84': 'first',\n",
    "              'Latitude WGS84': 'first',\n",
    "              'Nature d\\'objets': len,\n",
    "              'Passengers': 'first'})\n",
    "        .rename(columns={'Nature d\\'objets': 'item_count'})\n",
    ")"
   ]
  },
  {
   "cell_type": "code",
   "execution_count": 347,
   "metadata": {},
   "outputs": [],
   "source": [
    "df['count_per_100kpax'] = df.item_count / df.Passengers * 1e5\n",
    "df = df.sort_values(by='count_per_100kpax', ascending=False)\n",
    "\n",
    "df = df[df.item_count >= 10]\n",
    "df['group'] = pd.qcut(df['count_per_100kpax'], q=np.linspace(0, 1, 6))"
   ]
  },
  {
   "cell_type": "code",
   "execution_count": 348,
   "metadata": {},
   "outputs": [
    {
     "data": {
      "text/html": [
       "<div>\n",
       "<style scoped>\n",
       "    .dataframe tbody tr th:only-of-type {\n",
       "        vertical-align: middle;\n",
       "    }\n",
       "\n",
       "    .dataframe tbody tr th {\n",
       "        vertical-align: top;\n",
       "    }\n",
       "\n",
       "    .dataframe thead th {\n",
       "        text-align: right;\n",
       "    }\n",
       "</style>\n",
       "<table border=\"1\" class=\"dataframe\">\n",
       "  <thead>\n",
       "    <tr style=\"text-align: right;\">\n",
       "      <th></th>\n",
       "      <th>Longitude WGS84</th>\n",
       "      <th>Latitude WGS84</th>\n",
       "      <th>item_count</th>\n",
       "      <th>Passengers</th>\n",
       "      <th>count_per_100kpax</th>\n",
       "      <th>group</th>\n",
       "    </tr>\n",
       "    <tr>\n",
       "      <th>Intitulé gare</th>\n",
       "      <th></th>\n",
       "      <th></th>\n",
       "      <th></th>\n",
       "      <th></th>\n",
       "      <th></th>\n",
       "      <th></th>\n",
       "    </tr>\n",
       "  </thead>\n",
       "  <tbody>\n",
       "    <tr>\n",
       "      <th>Versailles Rive Droite</th>\n",
       "      <td>2.134752</td>\n",
       "      <td>48.809653</td>\n",
       "      <td>39</td>\n",
       "      <td>21309519.0</td>\n",
       "      <td>0.183017</td>\n",
       "      <td>(0.182, 3.623]</td>\n",
       "    </tr>\n",
       "    <tr>\n",
       "      <th>Poissy</th>\n",
       "      <td>2.041368</td>\n",
       "      <td>48.932901</td>\n",
       "      <td>80</td>\n",
       "      <td>43120958.0</td>\n",
       "      <td>0.185525</td>\n",
       "      <td>(0.182, 3.623]</td>\n",
       "    </tr>\n",
       "    <tr>\n",
       "      <th>Cergy le Haut</th>\n",
       "      <td>2.011872</td>\n",
       "      <td>49.048493</td>\n",
       "      <td>55</td>\n",
       "      <td>26956324.0</td>\n",
       "      <td>0.204034</td>\n",
       "      <td>(0.182, 3.623]</td>\n",
       "    </tr>\n",
       "    <tr>\n",
       "      <th>Saint-Cloud</th>\n",
       "      <td>2.216870</td>\n",
       "      <td>48.845410</td>\n",
       "      <td>69</td>\n",
       "      <td>33312044.0</td>\n",
       "      <td>0.207132</td>\n",
       "      <td>(0.182, 3.623]</td>\n",
       "    </tr>\n",
       "    <tr>\n",
       "      <th>Conflans-Sainte-Honorine</th>\n",
       "      <td>2.097830</td>\n",
       "      <td>48.996460</td>\n",
       "      <td>91</td>\n",
       "      <td>18585957.0</td>\n",
       "      <td>0.489617</td>\n",
       "      <td>(0.182, 3.623]</td>\n",
       "    </tr>\n",
       "    <tr>\n",
       "      <th>...</th>\n",
       "      <td>...</td>\n",
       "      <td>...</td>\n",
       "      <td>...</td>\n",
       "      <td>...</td>\n",
       "      <td>...</td>\n",
       "      <td>...</td>\n",
       "    </tr>\n",
       "    <tr>\n",
       "      <th>Quimper</th>\n",
       "      <td>-4.092103</td>\n",
       "      <td>47.994455</td>\n",
       "      <td>4629</td>\n",
       "      <td>3700023.0</td>\n",
       "      <td>125.107330</td>\n",
       "      <td>(24.664, 323.36]</td>\n",
       "    </tr>\n",
       "    <tr>\n",
       "      <th>Brest</th>\n",
       "      <td>-4.478903</td>\n",
       "      <td>48.388110</td>\n",
       "      <td>8549</td>\n",
       "      <td>6716665.0</td>\n",
       "      <td>127.280429</td>\n",
       "      <td>(24.664, 323.36]</td>\n",
       "    </tr>\n",
       "    <tr>\n",
       "      <th>Cherbourg</th>\n",
       "      <td>-1.621515</td>\n",
       "      <td>49.633505</td>\n",
       "      <td>2934</td>\n",
       "      <td>2236652.0</td>\n",
       "      <td>131.178207</td>\n",
       "      <td>(24.664, 323.36]</td>\n",
       "    </tr>\n",
       "    <tr>\n",
       "      <th>Hendaye</th>\n",
       "      <td>-1.781724</td>\n",
       "      <td>43.353132</td>\n",
       "      <td>2873</td>\n",
       "      <td>1422622.0</td>\n",
       "      <td>201.951045</td>\n",
       "      <td>(24.664, 323.36]</td>\n",
       "    </tr>\n",
       "    <tr>\n",
       "      <th>Le Croisic</th>\n",
       "      <td>-2.507442</td>\n",
       "      <td>47.289836</td>\n",
       "      <td>1358</td>\n",
       "      <td>419966.0</td>\n",
       "      <td>323.359510</td>\n",
       "      <td>(24.664, 323.36]</td>\n",
       "    </tr>\n",
       "  </tbody>\n",
       "</table>\n",
       "<p>173 rows × 6 columns</p>\n",
       "</div>"
      ],
      "text/plain": [
       "                          Longitude WGS84  Latitude WGS84  item_count  \\\n",
       "Intitulé gare                                                           \n",
       "Versailles Rive Droite           2.134752       48.809653          39   \n",
       "Poissy                           2.041368       48.932901          80   \n",
       "Cergy le Haut                    2.011872       49.048493          55   \n",
       "Saint-Cloud                      2.216870       48.845410          69   \n",
       "Conflans-Sainte-Honorine         2.097830       48.996460          91   \n",
       "...                                   ...             ...         ...   \n",
       "Quimper                         -4.092103       47.994455        4629   \n",
       "Brest                           -4.478903       48.388110        8549   \n",
       "Cherbourg                       -1.621515       49.633505        2934   \n",
       "Hendaye                         -1.781724       43.353132        2873   \n",
       "Le Croisic                      -2.507442       47.289836        1358   \n",
       "\n",
       "                          Passengers  count_per_100kpax             group  \n",
       "Intitulé gare                                                              \n",
       "Versailles Rive Droite    21309519.0           0.183017    (0.182, 3.623]  \n",
       "Poissy                    43120958.0           0.185525    (0.182, 3.623]  \n",
       "Cergy le Haut             26956324.0           0.204034    (0.182, 3.623]  \n",
       "Saint-Cloud               33312044.0           0.207132    (0.182, 3.623]  \n",
       "Conflans-Sainte-Honorine  18585957.0           0.489617    (0.182, 3.623]  \n",
       "...                              ...                ...               ...  \n",
       "Quimper                    3700023.0         125.107330  (24.664, 323.36]  \n",
       "Brest                      6716665.0         127.280429  (24.664, 323.36]  \n",
       "Cherbourg                  2236652.0         131.178207  (24.664, 323.36]  \n",
       "Hendaye                    1422622.0         201.951045  (24.664, 323.36]  \n",
       "Le Croisic                  419966.0         323.359510  (24.664, 323.36]  \n",
       "\n",
       "[173 rows x 6 columns]"
      ]
     },
     "execution_count": 348,
     "metadata": {},
     "output_type": "execute_result"
    }
   ],
   "source": [
    "df.sort_values('count_per_100kpax')"
   ]
  },
  {
   "cell_type": "code",
   "execution_count": 339,
   "metadata": {},
   "outputs": [],
   "source": [
    "fig.write_html('sncf-found-items-map.html')"
   ]
  },
  {
   "cell_type": "code",
   "execution_count": 321,
   "metadata": {},
   "outputs": [
    {
     "data": {
      "application/vnd.plotly.v1+json": {
       "config": {
        "displayModeBar": false,
        "plotlyServerURL": "https://plotly.com",
        "scrollZoom": true
       },
       "data": [
        {
         "hovertemplate": "%{text}<br>Found items: %{y}<br>Passengers: %{x}<br>Found items per 100k passengers: %{marker.size:.1f}",
         "marker": {
          "color": "#007bff",
          "size": [
           69.29215142857514,
           68.03257534482265,
           64.96071092079197,
           54.06659523828144,
           49.999549054699976,
           43.514221346557534,
           42.58175014608794,
           41.903943268507575,
           41.721668593159016,
           41.45516925078289,
           40.46702296802866,
           38.714220777440566,
           38.627241355658,
           35.75948516701735,
           35.60047286381317,
           34.53601763025844,
           32.01136300503511,
           30.817926301130534,
           30.17360724729,
           29.04033885445824,
           28.852998813342182,
           28.228282310830657,
           28.163710907078432,
           28.11222094328142,
           28.00089188025989,
           27.440767102406955,
           26.861549409398197,
           25.896962467175296,
           25.39061299974809,
           24.67235379876972,
           24.652234560684338,
           24.45633533413551,
           24.244901722027773,
           23.883652008949845,
           23.88228470607731,
           22.16009597076167,
           22.064417157867805,
           22.050899567747894,
           21.877205137395578,
           21.49268318027207,
           19.648434514262107,
           19.5838317072324,
           18.61056046221714,
           18.24070372530441,
           17.296044788439975,
           17.28919724058094,
           16.71448867593392,
           16.374390341352765,
           16.36841792572133,
           16.27387503532912,
           16.255135245936643,
           15.624527484047862,
           15.402670639176348,
           15.167534995773707,
           15.127535344259776,
           14.39535308199608,
           14.331149423140786,
           13.752780603056218,
           13.732913897039877,
           13.624725919495647,
           13.557258608806668,
           13.517091022346804,
           13.418920678156201,
           13.346413117771537,
           13.308752240522349,
           13.195360542464892,
           13.154311203871147,
           12.87316256823837,
           12.635082570264597,
           12.369049938661526,
           12.041898992324047,
           11.18163910963118,
           10.897312463395041,
           10.826795560187243,
           10.747852900190743,
           10.532680567204354,
           10.372673729531684,
           10.07146947547635,
           9.714868606402097,
           9.69106897785234,
           9.664757412950841,
           9.505522094034186,
           9.393423860235947,
           9.378458032495919,
           9.140335448428292,
           8.544905088589909,
           8.39813124323404,
           8.376763258672005,
           8.369613581379111,
           8.342234155682482,
           8.258186672478613,
           7.805110688146495,
           7.783320262401562,
           7.719304508646619,
           7.666130331264947,
           7.604010764817165,
           7.552831546340194,
           7.525781681777025,
           7.451283695836714,
           7.432672647665992,
           7.420039608878103,
           7.383464321459629,
           7.318046901400306,
           7.250175272987225,
           7.176178262882039,
           7.106644945182746,
           7.041720740486403,
           7.031953933354919,
           6.9344365437252,
           6.748562456953103,
           6.522751368358539,
           6.383622815666408,
           6.368588953786522,
           6.356917497248124,
           6.022576632268832,
           5.992316296016414,
           5.877340457382372,
           5.81253901376186,
           5.664635775519571,
           5.573083388987404,
           5.414655400791703,
           5.3131127312404525,
           5.291209364183484,
           5.23465382710776,
           4.887314480951465,
           4.660244534512488,
           4.590892162630451,
           4.563439588875579,
           4.459855291269271,
           4.153937493709993,
           4.090029282398835,
           3.6411258421040014,
           3.6369115347247116,
           3.613799006205273,
           3.6005496839184117,
           3.4358143783923434,
           3.411796417335878,
           3.40557382764564,
           3.3695024996187897,
           3.2892167506875065,
           2.992701549097139,
           2.9499764001887985,
           2.841167969503873,
           2.673578716403718,
           2.5333833576015374,
           2.5086740130821896,
           2.353842134566591,
           2.2198940508532576,
           1.9031193686385894,
           1.7320076876398365,
           1.7315909372686162,
           1.7145278913503674,
           1.6696972815955902,
           1.618296207958532,
           1.3762793663609798,
           1.323278308585666,
           1.2353631526467657,
           1.2266704798594725,
           1.0327848051640927,
           0.9504044989433539,
           0.7564956211036015,
           0.6814944719440085,
           0.6673253724196926,
           0.489616972642302,
           0.20713229125177668,
           0.20403375475083324,
           0.18552463514377393,
           0.1830168010831216
          ],
          "sizemin": 2.5,
          "sizemode": "area",
          "sizeref": 1
         },
         "mode": "markers",
         "name": "",
         "showlegend": false,
         "text": [
          "La Rochelle",
          "Tourcoing",
          "Lille Europe",
          "Tarbes",
          "Perpignan",
          "Lyon Perrache",
          "Bourges",
          "Brive-la-Gaillarde",
          "Remiremont",
          "Bourg-Saint-Maurice",
          "Granville",
          "Rennes",
          "Le Havre",
          "Caen",
          "Mulhouse",
          "Périgueux",
          "Vierzon",
          "Montpellier Saint-Roch",
          "Orléans",
          "Saint-Nazaire",
          "Nice",
          "Marseille Saint-Charles",
          "Saintes",
          "Nantes",
          "Agen",
          "Boulogne",
          "Nevers",
          "Tours",
          "Limoges Bénédictins",
          "Bordeaux Saint-Jean",
          "Strasbourg",
          "Annecy",
          "Poitiers",
          "Béziers",
          "Montpellier Sud de France",
          "Laroche - Migennes",
          "Le Mans",
          "Valence",
          "Pau",
          "Toulouse Matabiau",
          "Dunkerque",
          "Bayonne",
          "Clermont-Ferrand",
          "Toulon",
          "Paris Bercy Bourgogne - Pays d'Auvergne",
          "Besançon Viotte",
          "Cerbère",
          "Dax",
          "Saint-Lô",
          "Narbonne",
          "Chambéry - Challes-les-Eaux",
          "Roanne",
          "Royan",
          "Briançon",
          "Guingamp",
          "Avignon Centre",
          "Niort",
          "Angers Saint-Laud",
          "Dijon",
          "Saint-Étienne Châteaucreux",
          "Rouen Rive Droite",
          "Lorient Bretagne Sud",
          "Saint-Dié-des-Vosges",
          "Morlaix",
          "Les Aubrais",
          "Aix-en-Provence TGV",
          "Chartres",
          "Saint-Brieuc",
          "Nancy",
          "Paris Montparnasse",
          "Bellegarde",
          "Metz Ville",
          "Marne-la-Vallée Chessy",
          "Grenoble",
          "Modane",
          "Avignon TGV",
          "La Roche-sur-Yon",
          "Calais Ville",
          "Évian-les-Bains",
          "Épinal",
          "Châteauroux",
          "Carcassonne",
          "Saint-Pierre-des-Corps",
          "Massy TGV",
          "Amiens",
          "Paris Austerlitz",
          "Angoulême",
          "Saint-Malo",
          "Bourg-en-Bresse",
          "Arcachon",
          "Argentan",
          "Lourdes",
          "Blois - Chambord",
          "Colmar",
          "Saint-Quentin",
          "Lyon Part Dieu",
          "Trouville - Deauville",
          "Elbeuf - Saint-Aubin",
          "Châlons-en-Champagne",
          "Laon",
          "Troyes",
          "Cannes",
          "Paris Gare de Lyon",
          "Montluçon",
          "Compiègne",
          "Nîmes",
          "Marmande",
          "Reims",
          "Paris Est",
          "Saint-Gervais-les-Bains Le Fayet",
          "Sélestat",
          "Châtellerault",
          "Saverne",
          "Belfort - Montbéliard TGV",
          "Moûtiers - Salins - Brides-les-Bains",
          "Aéroport Charles de Gaulle 2 TGV",
          "Beauvais",
          "Valence TGV Rhône-Alpes Sud",
          "Libourne",
          "Montauban Ville Bourbon",
          "Vannes",
          "Creil",
          "Mantes-la-Jolie",
          "Ambérieu-en-Bugey",
          "Paris Gare du Nord",
          "Étaples - Le Touquet",
          "Lisieux",
          "Douai",
          "Laval",
          "Annemasse",
          "Lunéville",
          "Hazebrouck",
          "Coutances",
          "Redon",
          "Évreux Normandie",
          "Arras",
          "Haguenau",
          "Riom - Châtel-Guyon",
          "Aix-les-Bains le Revard",
          "Paris Saint-Lazare",
          "Saint-Pol-sur-Ternoise",
          "Dieppe",
          "Calais - Fréthun",
          "Valenciennes",
          "Vichy",
          "Yvetot",
          "Charleville-Mézières",
          "Chalon-sur-Saône",
          "Auray",
          "Thionville",
          "Moulins sur Allier",
          "Maubeuge",
          "Belfort",
          "Alençon",
          "Béthune",
          "Lens",
          "Bergerac",
          "Sarrebourg",
          "Mâcon",
          "Abbeville",
          "Vernon - Giverny",
          "Cambrai",
          "Aulnoye-Aymeries",
          "Conflans-Sainte-Honorine",
          "Saint-Cloud",
          "Cergy le Haut",
          "Poissy",
          "Versailles Rive Droite"
         ],
         "type": "scatter",
         "x": [
          7710830,
          2789840,
          28434110,
          1918005,
          6320057,
          22758077,
          3595437,
          3350520,
          1023449,
          1292963,
          835248,
          39649513,
          6764656,
          12354764,
          20193552,
          3434096,
          3401917,
          31935958,
          14081843,
          3564008,
          33868230,
          55270809,
          1981273,
          45485556,
          4628424,
          3421916,
          3406356,
          18963614,
          6510280,
          55321029,
          76865243,
          9052869,
          12192254,
          5288136,
          410346,
          1538802,
          20657695,
          8076768,
          3121971,
          38571266,
          6855508,
          3370127,
          14454159,
          15306427,
          15512217,
          8230573,
          215382,
          3566545,
          824759,
          5671667,
          14635375,
          3769714,
          869979,
          679082,
          2445871,
          9384973,
          4926332,
          21799228,
          24066269,
          13556236,
          23787995,
          4816125,
          1497885,
          2225317,
          6567107,
          14088285,
          10688511,
          4948279,
          31024728,
          211236919,
          5281559,
          28484196,
          21977896,
          29519353,
          809464,
          15124355,
          3528502,
          3951757,
          699958,
          4344206,
          3052327,
          3092939,
          14265299,
          9127300,
          21246485,
          91481414,
          6953928,
          4500545,
          6989570,
          3416351,
          1174592,
          1627139,
          6077098,
          15014306,
          4539448,
          132245999,
          2939295,
          850410,
          3180660,
          3040629,
          3962243,
          14383492,
          437480115,
          1379277,
          9071681,
          15506614,
          1718330,
          15244696,
          145621060,
          1511433,
          8631327,
          2005131,
          4804832,
          2988870,
          1494377,
          55838174,
          5427625,
          10752616,
          5172442,
          4342300,
          5503582,
          19367178,
          17500725,
          4775865,
          981766166,
          1480609,
          4465363,
          11570220,
          5157118,
          2961046,
          3618556,
          6673760,
          577413,
          3154575,
          4499313,
          16706374,
          6477526,
          3464908,
          5253001,
          438919083,
          801951,
          2000016,
          2886137,
          12567425,
          4973586,
          3667276,
          4290857,
          5315569,
          3205264,
          11316347,
          2887518,
          1866403,
          4372050,
          1606628,
          7193307,
          6347871,
          1133270,
          2853252,
          4744454,
          2946114,
          7005989,
          2641254,
          2397631,
          18585957,
          33312044,
          26956324,
          43120958,
          21309519
         ],
         "y": [
          5343,
          1898,
          18471,
          1037,
          3160,
          9903,
          1531,
          1404,
          427,
          536,
          338,
          15350,
          2613,
          4418,
          7189,
          1186,
          1089,
          9842,
          4249,
          1035,
          9772,
          15602,
          558,
          12787,
          1296,
          939,
          915,
          4911,
          1653,
          13649,
          18949,
          2214,
          2956,
          1263,
          98,
          341,
          4558,
          1781,
          683,
          8290,
          1347,
          660,
          2690,
          2792,
          2683,
          1423,
          36,
          584,
          135,
          923,
          2379,
          589,
          134,
          103,
          370,
          1351,
          706,
          2998,
          3305,
          1847,
          3225,
          651,
          201,
          297,
          874,
          1859,
          1406,
          637,
          3920,
          26128,
          636,
          3185,
          2395,
          3196,
          87,
          1593,
          366,
          398,
          68,
          421,
          295,
          294,
          1340,
          856,
          1942,
          7817,
          584,
          377,
          585,
          285,
          97,
          127,
          473,
          1159,
          348,
          10056,
          222,
          64,
          237,
          226,
          294,
          1062,
          32015,
          100,
          651,
          1102,
          121,
          1072,
          10098,
          102,
          563,
          128,
          306,
          190,
          90,
          3346,
          319,
          625,
          293,
          242,
          298,
          1029,
          926,
          250,
          47982,
          69,
          205,
          528,
          230,
          123,
          148,
          243,
          21,
          114,
          162,
          574,
          221,
          118,
          177,
          14437,
          24,
          59,
          82,
          336,
          126,
          92,
          101,
          118,
          61,
          196,
          50,
          32,
          73,
          26,
          99,
          84,
          14,
          35,
          49,
          28,
          53,
          18,
          16,
          91,
          69,
          55,
          80,
          39
         ]
        },
        {
         "hovertemplate": "%{text}<br>Found items: %{y}<br>Passengers: %{x}<br>Found items per 100k passengers: %{marker.size:.1f}",
         "marker": {
          "color": "#007bff",
          "size": [
           131.17820742788777,
           127.28042860556542,
           125.10733041389202
          ],
          "sizemin": 2.5,
          "sizemode": "area",
          "sizeref": 0.5
         },
         "mode": "markers+text",
         "name": "",
         "showlegend": false,
         "text": [
          "Cherbourg",
          "Brest",
          "Quimper"
         ],
         "textposition": "top center",
         "type": "scatter",
         "x": [
          2236652,
          6716665,
          3700023
         ],
         "y": [
          2934,
          8549,
          4629
         ]
        },
        {
         "hovertemplate": "%{text}<br>Found items: %{y:d}<br>Passengers: %{x}<br>Found items per 100k passengers: %{marker.size:.1f}",
         "marker": {
          "color": "#007bff",
          "size": [
           323.3595100555759,
           201.9510453233536
          ],
          "sizemin": 2.5,
          "sizemode": "area",
          "sizeref": 0.5
         },
         "mode": "markers+text",
         "name": "",
         "showlegend": false,
         "text": [
          "Le Croisic",
          "Hendaye"
         ],
         "textposition": "bottom center",
         "type": "scatter",
         "x": [
          419966,
          1422622
         ],
         "y": [
          1358,
          2873
         ]
        },
        {
         "hovertemplate": "%{text}<br>Found items: %{y:d}<br>Passengers: %{x}<br>Found items per 100k passengers: %{marker.size:.1f}",
         "marker": {
          "color": "#007bff",
          "size": [
           0.20403375475083324,
           0.18552463514377393,
           0.1830168010831216
          ],
          "sizemin": 2.5,
          "sizemode": "area",
          "sizeref": 0.5
         },
         "mode": "markers+text",
         "name": "",
         "showlegend": false,
         "text": [
          "Cergy le Haut",
          "Poissy",
          "Versailles Rive Droite"
         ],
         "textposition": "bottom right",
         "type": "scatter",
         "x": [
          26956324,
          43120958,
          21309519
         ],
         "y": [
          55,
          80,
          39
         ]
        },
        {
         "hoverinfo": "skip",
         "marker": {
          "color": "#F16E00"
         },
         "mode": "lines",
         "name": "France average found items per 100k pax:  10.6",
         "type": "scatter",
         "x": [
          100000,
          278255.94022071257,
          774263.6826811278,
          2154434.6900318824,
          5994842.503189409,
          16681005.372000592,
          46415888.33612773,
          129154966.50148827,
          359381366.3804626,
          1000000000
         ],
         "y": [
          10.816959654305785,
          30.0988327893837,
          83.75179017355975,
          233.0443311991166,
          648.4596949091733,
          1804.3776210218844,
          5020.787914506561,
          13970.640617998137,
          38874.13740646749,
          108169.59654305785
         ]
        }
       ],
       "layout": {
        "autosize": true,
        "legend": {
         "orientation": "h",
         "x": 0,
         "y": -0.125
        },
        "margin": {
         "b": 0,
         "l": 0,
         "r": 0,
         "t": 0
        },
        "template": {
         "data": {
          "bar": [
           {
            "error_x": {
             "color": "#2a3f5f"
            },
            "error_y": {
             "color": "#2a3f5f"
            },
            "marker": {
             "line": {
              "color": "#E5ECF6",
              "width": 0.5
             }
            },
            "type": "bar"
           }
          ],
          "barpolar": [
           {
            "marker": {
             "line": {
              "color": "#E5ECF6",
              "width": 0.5
             }
            },
            "type": "barpolar"
           }
          ],
          "carpet": [
           {
            "aaxis": {
             "endlinecolor": "#2a3f5f",
             "gridcolor": "white",
             "linecolor": "white",
             "minorgridcolor": "white",
             "startlinecolor": "#2a3f5f"
            },
            "baxis": {
             "endlinecolor": "#2a3f5f",
             "gridcolor": "white",
             "linecolor": "white",
             "minorgridcolor": "white",
             "startlinecolor": "#2a3f5f"
            },
            "type": "carpet"
           }
          ],
          "choropleth": [
           {
            "colorbar": {
             "outlinewidth": 0,
             "ticks": ""
            },
            "type": "choropleth"
           }
          ],
          "contour": [
           {
            "colorbar": {
             "outlinewidth": 0,
             "ticks": ""
            },
            "colorscale": [
             [
              0,
              "#0d0887"
             ],
             [
              0.1111111111111111,
              "#46039f"
             ],
             [
              0.2222222222222222,
              "#7201a8"
             ],
             [
              0.3333333333333333,
              "#9c179e"
             ],
             [
              0.4444444444444444,
              "#bd3786"
             ],
             [
              0.5555555555555556,
              "#d8576b"
             ],
             [
              0.6666666666666666,
              "#ed7953"
             ],
             [
              0.7777777777777778,
              "#fb9f3a"
             ],
             [
              0.8888888888888888,
              "#fdca26"
             ],
             [
              1,
              "#f0f921"
             ]
            ],
            "type": "contour"
           }
          ],
          "contourcarpet": [
           {
            "colorbar": {
             "outlinewidth": 0,
             "ticks": ""
            },
            "type": "contourcarpet"
           }
          ],
          "heatmap": [
           {
            "colorbar": {
             "outlinewidth": 0,
             "ticks": ""
            },
            "colorscale": [
             [
              0,
              "#0d0887"
             ],
             [
              0.1111111111111111,
              "#46039f"
             ],
             [
              0.2222222222222222,
              "#7201a8"
             ],
             [
              0.3333333333333333,
              "#9c179e"
             ],
             [
              0.4444444444444444,
              "#bd3786"
             ],
             [
              0.5555555555555556,
              "#d8576b"
             ],
             [
              0.6666666666666666,
              "#ed7953"
             ],
             [
              0.7777777777777778,
              "#fb9f3a"
             ],
             [
              0.8888888888888888,
              "#fdca26"
             ],
             [
              1,
              "#f0f921"
             ]
            ],
            "type": "heatmap"
           }
          ],
          "heatmapgl": [
           {
            "colorbar": {
             "outlinewidth": 0,
             "ticks": ""
            },
            "colorscale": [
             [
              0,
              "#0d0887"
             ],
             [
              0.1111111111111111,
              "#46039f"
             ],
             [
              0.2222222222222222,
              "#7201a8"
             ],
             [
              0.3333333333333333,
              "#9c179e"
             ],
             [
              0.4444444444444444,
              "#bd3786"
             ],
             [
              0.5555555555555556,
              "#d8576b"
             ],
             [
              0.6666666666666666,
              "#ed7953"
             ],
             [
              0.7777777777777778,
              "#fb9f3a"
             ],
             [
              0.8888888888888888,
              "#fdca26"
             ],
             [
              1,
              "#f0f921"
             ]
            ],
            "type": "heatmapgl"
           }
          ],
          "histogram": [
           {
            "marker": {
             "colorbar": {
              "outlinewidth": 0,
              "ticks": ""
             }
            },
            "type": "histogram"
           }
          ],
          "histogram2d": [
           {
            "colorbar": {
             "outlinewidth": 0,
             "ticks": ""
            },
            "colorscale": [
             [
              0,
              "#0d0887"
             ],
             [
              0.1111111111111111,
              "#46039f"
             ],
             [
              0.2222222222222222,
              "#7201a8"
             ],
             [
              0.3333333333333333,
              "#9c179e"
             ],
             [
              0.4444444444444444,
              "#bd3786"
             ],
             [
              0.5555555555555556,
              "#d8576b"
             ],
             [
              0.6666666666666666,
              "#ed7953"
             ],
             [
              0.7777777777777778,
              "#fb9f3a"
             ],
             [
              0.8888888888888888,
              "#fdca26"
             ],
             [
              1,
              "#f0f921"
             ]
            ],
            "type": "histogram2d"
           }
          ],
          "histogram2dcontour": [
           {
            "colorbar": {
             "outlinewidth": 0,
             "ticks": ""
            },
            "colorscale": [
             [
              0,
              "#0d0887"
             ],
             [
              0.1111111111111111,
              "#46039f"
             ],
             [
              0.2222222222222222,
              "#7201a8"
             ],
             [
              0.3333333333333333,
              "#9c179e"
             ],
             [
              0.4444444444444444,
              "#bd3786"
             ],
             [
              0.5555555555555556,
              "#d8576b"
             ],
             [
              0.6666666666666666,
              "#ed7953"
             ],
             [
              0.7777777777777778,
              "#fb9f3a"
             ],
             [
              0.8888888888888888,
              "#fdca26"
             ],
             [
              1,
              "#f0f921"
             ]
            ],
            "type": "histogram2dcontour"
           }
          ],
          "mesh3d": [
           {
            "colorbar": {
             "outlinewidth": 0,
             "ticks": ""
            },
            "type": "mesh3d"
           }
          ],
          "parcoords": [
           {
            "line": {
             "colorbar": {
              "outlinewidth": 0,
              "ticks": ""
             }
            },
            "type": "parcoords"
           }
          ],
          "pie": [
           {
            "automargin": true,
            "type": "pie"
           }
          ],
          "scatter": [
           {
            "marker": {
             "colorbar": {
              "outlinewidth": 0,
              "ticks": ""
             }
            },
            "type": "scatter"
           }
          ],
          "scatter3d": [
           {
            "line": {
             "colorbar": {
              "outlinewidth": 0,
              "ticks": ""
             }
            },
            "marker": {
             "colorbar": {
              "outlinewidth": 0,
              "ticks": ""
             }
            },
            "type": "scatter3d"
           }
          ],
          "scattercarpet": [
           {
            "marker": {
             "colorbar": {
              "outlinewidth": 0,
              "ticks": ""
             }
            },
            "type": "scattercarpet"
           }
          ],
          "scattergeo": [
           {
            "marker": {
             "colorbar": {
              "outlinewidth": 0,
              "ticks": ""
             }
            },
            "type": "scattergeo"
           }
          ],
          "scattergl": [
           {
            "marker": {
             "colorbar": {
              "outlinewidth": 0,
              "ticks": ""
             }
            },
            "type": "scattergl"
           }
          ],
          "scattermapbox": [
           {
            "marker": {
             "colorbar": {
              "outlinewidth": 0,
              "ticks": ""
             }
            },
            "type": "scattermapbox"
           }
          ],
          "scatterpolar": [
           {
            "marker": {
             "colorbar": {
              "outlinewidth": 0,
              "ticks": ""
             }
            },
            "type": "scatterpolar"
           }
          ],
          "scatterpolargl": [
           {
            "marker": {
             "colorbar": {
              "outlinewidth": 0,
              "ticks": ""
             }
            },
            "type": "scatterpolargl"
           }
          ],
          "scatterternary": [
           {
            "marker": {
             "colorbar": {
              "outlinewidth": 0,
              "ticks": ""
             }
            },
            "type": "scatterternary"
           }
          ],
          "surface": [
           {
            "colorbar": {
             "outlinewidth": 0,
             "ticks": ""
            },
            "colorscale": [
             [
              0,
              "#0d0887"
             ],
             [
              0.1111111111111111,
              "#46039f"
             ],
             [
              0.2222222222222222,
              "#7201a8"
             ],
             [
              0.3333333333333333,
              "#9c179e"
             ],
             [
              0.4444444444444444,
              "#bd3786"
             ],
             [
              0.5555555555555556,
              "#d8576b"
             ],
             [
              0.6666666666666666,
              "#ed7953"
             ],
             [
              0.7777777777777778,
              "#fb9f3a"
             ],
             [
              0.8888888888888888,
              "#fdca26"
             ],
             [
              1,
              "#f0f921"
             ]
            ],
            "type": "surface"
           }
          ],
          "table": [
           {
            "cells": {
             "fill": {
              "color": "#EBF0F8"
             },
             "line": {
              "color": "white"
             }
            },
            "header": {
             "fill": {
              "color": "#C8D4E3"
             },
             "line": {
              "color": "white"
             }
            },
            "type": "table"
           }
          ]
         },
         "layout": {
          "annotationdefaults": {
           "arrowcolor": "#2a3f5f",
           "arrowhead": 0,
           "arrowwidth": 1
          },
          "coloraxis": {
           "colorbar": {
            "outlinewidth": 0,
            "ticks": ""
           }
          },
          "colorscale": {
           "diverging": [
            [
             0,
             "#8e0152"
            ],
            [
             0.1,
             "#c51b7d"
            ],
            [
             0.2,
             "#de77ae"
            ],
            [
             0.3,
             "#f1b6da"
            ],
            [
             0.4,
             "#fde0ef"
            ],
            [
             0.5,
             "#f7f7f7"
            ],
            [
             0.6,
             "#e6f5d0"
            ],
            [
             0.7,
             "#b8e186"
            ],
            [
             0.8,
             "#7fbc41"
            ],
            [
             0.9,
             "#4d9221"
            ],
            [
             1,
             "#276419"
            ]
           ],
           "sequential": [
            [
             0,
             "#0d0887"
            ],
            [
             0.1111111111111111,
             "#46039f"
            ],
            [
             0.2222222222222222,
             "#7201a8"
            ],
            [
             0.3333333333333333,
             "#9c179e"
            ],
            [
             0.4444444444444444,
             "#bd3786"
            ],
            [
             0.5555555555555556,
             "#d8576b"
            ],
            [
             0.6666666666666666,
             "#ed7953"
            ],
            [
             0.7777777777777778,
             "#fb9f3a"
            ],
            [
             0.8888888888888888,
             "#fdca26"
            ],
            [
             1,
             "#f0f921"
            ]
           ],
           "sequentialminus": [
            [
             0,
             "#0d0887"
            ],
            [
             0.1111111111111111,
             "#46039f"
            ],
            [
             0.2222222222222222,
             "#7201a8"
            ],
            [
             0.3333333333333333,
             "#9c179e"
            ],
            [
             0.4444444444444444,
             "#bd3786"
            ],
            [
             0.5555555555555556,
             "#d8576b"
            ],
            [
             0.6666666666666666,
             "#ed7953"
            ],
            [
             0.7777777777777778,
             "#fb9f3a"
            ],
            [
             0.8888888888888888,
             "#fdca26"
            ],
            [
             1,
             "#f0f921"
            ]
           ]
          },
          "colorway": [
           "#636efa",
           "#EF553B",
           "#00cc96",
           "#ab63fa",
           "#FFA15A",
           "#19d3f3",
           "#FF6692",
           "#B6E880",
           "#FF97FF",
           "#FECB52"
          ],
          "font": {
           "color": "#2a3f5f"
          },
          "geo": {
           "bgcolor": "white",
           "lakecolor": "white",
           "landcolor": "#E5ECF6",
           "showlakes": true,
           "showland": true,
           "subunitcolor": "white"
          },
          "hoverlabel": {
           "align": "left"
          },
          "hovermode": "closest",
          "mapbox": {
           "style": "light"
          },
          "paper_bgcolor": "white",
          "plot_bgcolor": "#E5ECF6",
          "polar": {
           "angularaxis": {
            "gridcolor": "white",
            "linecolor": "white",
            "ticks": ""
           },
           "bgcolor": "#E5ECF6",
           "radialaxis": {
            "gridcolor": "white",
            "linecolor": "white",
            "ticks": ""
           }
          },
          "scene": {
           "xaxis": {
            "backgroundcolor": "#E5ECF6",
            "gridcolor": "white",
            "gridwidth": 2,
            "linecolor": "white",
            "showbackground": true,
            "ticks": "",
            "zerolinecolor": "white"
           },
           "yaxis": {
            "backgroundcolor": "#E5ECF6",
            "gridcolor": "white",
            "gridwidth": 2,
            "linecolor": "white",
            "showbackground": true,
            "ticks": "",
            "zerolinecolor": "white"
           },
           "zaxis": {
            "backgroundcolor": "#E5ECF6",
            "gridcolor": "white",
            "gridwidth": 2,
            "linecolor": "white",
            "showbackground": true,
            "ticks": "",
            "zerolinecolor": "white"
           }
          },
          "shapedefaults": {
           "line": {
            "color": "#2a3f5f"
           }
          },
          "ternary": {
           "aaxis": {
            "gridcolor": "white",
            "linecolor": "white",
            "ticks": ""
           },
           "baxis": {
            "gridcolor": "white",
            "linecolor": "white",
            "ticks": ""
           },
           "bgcolor": "#E5ECF6",
           "caxis": {
            "gridcolor": "white",
            "linecolor": "white",
            "ticks": ""
           }
          },
          "title": {
           "x": 0.05
          },
          "xaxis": {
           "automargin": true,
           "gridcolor": "white",
           "linecolor": "white",
           "ticks": "",
           "title": {
            "standoff": 15
           },
           "zerolinecolor": "white",
           "zerolinewidth": 2
          },
          "yaxis": {
           "automargin": true,
           "gridcolor": "white",
           "linecolor": "white",
           "ticks": "",
           "title": {
            "standoff": 15
           },
           "zerolinecolor": "white",
           "zerolinewidth": 2
          }
         }
        },
        "xaxis": {
         "autorange": true,
         "range": [
          5,
          9.223766687906233
         ],
         "title": {
          "font": {
           "size": 16
          },
          "text": "Passengers"
         },
         "type": "log"
        },
        "yaxis": {
         "autorange": true,
         "range": [
          0.8118829876328705,
          5.256327432077315
         ],
         "title": {
          "font": {
           "size": 16
          },
          "text": "Found items"
         },
         "type": "log"
        }
       }
      },
      "image/png": "[encoded data removed]",
      "text/html": [
       "<div>\n",
       "        \n",
       "        \n",
       "            <div id=\"971890b1-73af-4d47-b851-825259c19a5c\" class=\"plotly-graph-div\" style=\"height:525px; width:100%;\"></div>\n",
       "            <script type=\"text/javascript\">\n",
       "                require([\"plotly\"], function(Plotly) {\n",
       "                    window.PLOTLYENV=window.PLOTLYENV || {};\n",
       "                    \n",
       "                if (document.getElementById(\"971890b1-73af-4d47-b851-825259c19a5c\")) {\n",
       "                    Plotly.newPlot(\n",
       "                        '971890b1-73af-4d47-b851-825259c19a5c',\n",
       "                        [{\"hovertemplate\": \"%{text}<br>Found items: %{y}<br>Passengers: %{x}<br>Found items per 100k passengers: %{marker.size:.1f}\", \"marker\": {\"color\": \"#007bff\", \"size\": [69.29215142857514, 68.03257534482265, 64.96071092079197, 54.06659523828144, 49.999549054699976, 43.514221346557534, 42.58175014608794, 41.903943268507575, 41.721668593159016, 41.45516925078289, 40.46702296802866, 38.714220777440566, 38.627241355658, 35.75948516701735, 35.60047286381317, 34.53601763025844, 32.01136300503511, 30.817926301130534, 30.17360724729, 29.04033885445824, 28.852998813342182, 28.228282310830657, 28.163710907078432, 28.11222094328142, 28.00089188025989, 27.440767102406955, 26.861549409398197, 25.896962467175296, 25.39061299974809, 24.67235379876972, 24.652234560684338, 24.45633533413551, 24.244901722027773, 23.883652008949845, 23.88228470607731, 22.16009597076167, 22.064417157867805, 22.050899567747894, 21.877205137395578, 21.49268318027207, 19.648434514262107, 19.5838317072324, 18.61056046221714, 18.24070372530441, 17.296044788439975, 17.28919724058094, 16.71448867593392, 16.374390341352765, 16.36841792572133, 16.27387503532912, 16.255135245936643, 15.624527484047862, 15.402670639176348, 15.167534995773707, 15.127535344259776, 14.39535308199608, 14.331149423140786, 13.752780603056218, 13.732913897039877, 13.624725919495647, 13.557258608806668, 13.517091022346804, 13.418920678156201, 13.346413117771537, 13.308752240522349, 13.195360542464892, 13.154311203871147, 12.87316256823837, 12.635082570264597, 12.369049938661526, 12.041898992324047, 11.18163910963118, 10.897312463395041, 10.826795560187243, 10.747852900190743, 10.532680567204354, 10.372673729531684, 10.07146947547635, 9.714868606402097, 9.69106897785234, 9.664757412950841, 9.505522094034186, 9.393423860235947, 9.378458032495919, 9.140335448428292, 8.544905088589909, 8.39813124323404, 8.376763258672005, 8.369613581379111, 8.342234155682482, 8.258186672478613, 7.805110688146495, 7.783320262401562, 7.719304508646619, 7.666130331264947, 7.604010764817165, 7.552831546340194, 7.525781681777025, 7.451283695836714, 7.432672647665992, 7.420039608878103, 7.383464321459629, 7.318046901400306, 7.250175272987225, 7.176178262882039, 7.106644945182746, 7.041720740486403, 7.031953933354919, 6.9344365437252, 6.748562456953103, 6.522751368358539, 6.383622815666408, 6.368588953786522, 6.356917497248124, 6.022576632268832, 5.992316296016414, 5.877340457382372, 5.81253901376186, 5.664635775519571, 5.573083388987404, 5.414655400791703, 5.3131127312404525, 5.291209364183484, 5.23465382710776, 4.887314480951465, 4.660244534512488, 4.590892162630451, 4.563439588875579, 4.459855291269271, 4.153937493709993, 4.090029282398835, 3.6411258421040014, 3.6369115347247116, 3.613799006205273, 3.6005496839184117, 3.4358143783923434, 3.411796417335878, 3.40557382764564, 3.3695024996187897, 3.2892167506875065, 2.992701549097139, 2.9499764001887985, 2.841167969503873, 2.673578716403718, 2.5333833576015374, 2.5086740130821896, 2.353842134566591, 2.2198940508532576, 1.9031193686385894, 1.7320076876398365, 1.7315909372686162, 1.7145278913503674, 1.6696972815955902, 1.618296207958532, 1.3762793663609798, 1.323278308585666, 1.2353631526467657, 1.2266704798594725, 1.0327848051640927, 0.9504044989433539, 0.7564956211036015, 0.6814944719440085, 0.6673253724196926, 0.489616972642302, 0.20713229125177668, 0.20403375475083324, 0.18552463514377393, 0.1830168010831216], \"sizemin\": 2.5, \"sizemode\": \"area\", \"sizeref\": 1}, \"mode\": \"markers\", \"name\": \"\", \"showlegend\": false, \"text\": [\"La Rochelle\", \"Tourcoing\", \"Lille Europe\", \"Tarbes\", \"Perpignan\", \"Lyon Perrache\", \"Bourges\", \"Brive-la-Gaillarde\", \"Remiremont\", \"Bourg-Saint-Maurice\", \"Granville\", \"Rennes\", \"Le Havre\", \"Caen\", \"Mulhouse\", \"P\\u00e9rigueux\", \"Vierzon\", \"Montpellier Saint-Roch\", \"Orl\\u00e9ans\", \"Saint-Nazaire\", \"Nice\", \"Marseille Saint-Charles\", \"Saintes\", \"Nantes\", \"Agen\", \"Boulogne\", \"Nevers\", \"Tours\", \"Limoges B\\u00e9n\\u00e9dictins\", \"Bordeaux Saint-Jean\", \"Strasbourg\", \"Annecy\", \"Poitiers\", \"B\\u00e9ziers\", \"Montpellier Sud de France\", \"Laroche - Migennes\", \"Le Mans\", \"Valence\", \"Pau\", \"Toulouse Matabiau\", \"Dunkerque\", \"Bayonne\", \"Clermont-Ferrand\", \"Toulon\", \"Paris Bercy Bourgogne - Pays d'Auvergne\", \"Besan\\u00e7on Viotte\", \"Cerb\\u00e8re\", \"Dax\", \"Saint-L\\u00f4\", \"Narbonne\", \"Chamb\\u00e9ry - Challes-les-Eaux\", \"Roanne\", \"Royan\", \"Brian\\u00e7on\", \"Guingamp\", \"Avignon Centre\", \"Niort\", \"Angers Saint-Laud\", \"Dijon\", \"Saint-\\u00c9tienne Ch\\u00e2teaucreux\", \"Rouen Rive Droite\", \"Lorient Bretagne Sud\", \"Saint-Di\\u00e9-des-Vosges\", \"Morlaix\", \"Les Aubrais\", \"Aix-en-Provence TGV\", \"Chartres\", \"Saint-Brieuc\", \"Nancy\", \"Paris Montparnasse\", \"Bellegarde\", \"Metz Ville\", \"Marne-la-Vall\\u00e9e Chessy\", \"Grenoble\", \"Modane\", \"Avignon TGV\", \"La Roche-sur-Yon\", \"Calais Ville\", \"\\u00c9vian-les-Bains\", \"\\u00c9pinal\", \"Ch\\u00e2teauroux\", \"Carcassonne\", \"Saint-Pierre-des-Corps\", \"Massy TGV\", \"Amiens\", \"Paris Austerlitz\", \"Angoul\\u00eame\", \"Saint-Malo\", \"Bourg-en-Bresse\", \"Arcachon\", \"Argentan\", \"Lourdes\", \"Blois - Chambord\", \"Colmar\", \"Saint-Quentin\", \"Lyon Part Dieu\", \"Trouville - Deauville\", \"Elbeuf - Saint-Aubin\", \"Ch\\u00e2lons-en-Champagne\", \"Laon\", \"Troyes\", \"Cannes\", \"Paris Gare de Lyon\", \"Montlu\\u00e7on\", \"Compi\\u00e8gne\", \"N\\u00eemes\", \"Marmande\", \"Reims\", \"Paris Est\", \"Saint-Gervais-les-Bains Le Fayet\", \"S\\u00e9lestat\", \"Ch\\u00e2tellerault\", \"Saverne\", \"Belfort - Montb\\u00e9liard TGV\", \"Mo\\u00fbtiers - Salins - Brides-les-Bains\", \"A\\u00e9roport Charles de Gaulle 2 TGV\", \"Beauvais\", \"Valence TGV Rh\\u00f4ne-Alpes Sud\", \"Libourne\", \"Montauban Ville Bourbon\", \"Vannes\", \"Creil\", \"Mantes-la-Jolie\", \"Amb\\u00e9rieu-en-Bugey\", \"Paris Gare du Nord\", \"\\u00c9taples - Le Touquet\", \"Lisieux\", \"Douai\", \"Laval\", \"Annemasse\", \"Lun\\u00e9ville\", \"Hazebrouck\", \"Coutances\", \"Redon\", \"\\u00c9vreux Normandie\", \"Arras\", \"Haguenau\", \"Riom - Ch\\u00e2tel-Guyon\", \"Aix-les-Bains le Revard\", \"Paris Saint-Lazare\", \"Saint-Pol-sur-Ternoise\", \"Dieppe\", \"Calais - Fr\\u00e9thun\", \"Valenciennes\", \"Vichy\", \"Yvetot\", \"Charleville-M\\u00e9zi\\u00e8res\", \"Chalon-sur-Sa\\u00f4ne\", \"Auray\", \"Thionville\", \"Moulins sur Allier\", \"Maubeuge\", \"Belfort\", \"Alen\\u00e7on\", \"B\\u00e9thune\", \"Lens\", \"Bergerac\", \"Sarrebourg\", \"M\\u00e2con\", \"Abbeville\", \"Vernon - Giverny\", \"Cambrai\", \"Aulnoye-Aymeries\", \"Conflans-Sainte-Honorine\", \"Saint-Cloud\", \"Cergy le Haut\", \"Poissy\", \"Versailles Rive Droite\"], \"type\": \"scatter\", \"x\": [7710830.0, 2789840.0, 28434110.0, 1918005.0, 6320057.0, 22758077.0, 3595437.0, 3350520.0, 1023449.0, 1292963.0, 835248.0, 39649513.0, 6764656.0, 12354764.0, 20193552.0, 3434096.0, 3401917.0, 31935958.0, 14081843.0, 3564008.0, 33868230.0, 55270809.0, 1981273.0, 45485556.0, 4628424.0, 3421916.0, 3406356.0, 18963614.0, 6510280.0, 55321029.0, 76865243.0, 9052869.0, 12192254.0, 5288136.0, 410346.0, 1538802.0, 20657695.0, 8076768.0, 3121971.0, 38571266.0, 6855508.0, 3370127.0, 14454159.0, 15306427.0, 15512217.0, 8230573.0, 215382.0, 3566545.0, 824759.0, 5671667.0, 14635375.0, 3769714.0, 869979.0, 679082.0, 2445871.0, 9384973.0, 4926332.0, 21799228.0, 24066269.0, 13556236.0, 23787995.0, 4816125.0, 1497885.0, 2225317.0, 6567107.0, 14088285.0, 10688511.0, 4948279.0, 31024728.0, 211236919.0, 5281559.0, 28484196.0, 21977896.0, 29519353.0, 809464.0, 15124355.0, 3528502.0, 3951757.0, 699958.0, 4344206.0, 3052327.0, 3092939.0, 14265299.0, 9127300.0, 21246485.0, 91481414.0, 6953928.0, 4500545.0, 6989570.0, 3416351.0, 1174592.0, 1627139.0, 6077098.0, 15014306.0, 4539448.0, 132245999.0, 2939295.0, 850410.0, 3180660.0, 3040629.0, 3962243.0, 14383492.0, 437480115.0, 1379277.0, 9071681.0, 15506614.0, 1718330.0, 15244696.0, 145621060.0, 1511433.0, 8631327.0, 2005131.0, 4804832.0, 2988870.0, 1494377.0, 55838174.0, 5427625.0, 10752616.0, 5172442.0, 4342300.0, 5503582.0, 19367178.0, 17500725.0, 4775865.0, 981766166.0, 1480609.0, 4465363.0, 11570220.0, 5157118.0, 2961046.0, 3618556.0, 6673760.0, 577413.0, 3154575.0, 4499313.0, 16706374.0, 6477526.0, 3464908.0, 5253001.0, 438919083.0, 801951.0, 2000016.0, 2886137.0, 12567425.0, 4973586.0, 3667276.0, 4290857.0, 5315569.0, 3205264.0, 11316347.0, 2887518.0, 1866403.0, 4372050.0, 1606628.0, 7193307.0, 6347871.0, 1133270.0, 2853252.0, 4744454.0, 2946114.0, 7005989.0, 2641254.0, 2397631.0, 18585957.0, 33312044.0, 26956324.0, 43120958.0, 21309519.0], \"y\": [5343, 1898, 18471, 1037, 3160, 9903, 1531, 1404, 427, 536, 338, 15350, 2613, 4418, 7189, 1186, 1089, 9842, 4249, 1035, 9772, 15602, 558, 12787, 1296, 939, 915, 4911, 1653, 13649, 18949, 2214, 2956, 1263, 98, 341, 4558, 1781, 683, 8290, 1347, 660, 2690, 2792, 2683, 1423, 36, 584, 135, 923, 2379, 589, 134, 103, 370, 1351, 706, 2998, 3305, 1847, 3225, 651, 201, 297, 874, 1859, 1406, 637, 3920, 26128, 636, 3185, 2395, 3196, 87, 1593, 366, 398, 68, 421, 295, 294, 1340, 856, 1942, 7817, 584, 377, 585, 285, 97, 127, 473, 1159, 348, 10056, 222, 64, 237, 226, 294, 1062, 32015, 100, 651, 1102, 121, 1072, 10098, 102, 563, 128, 306, 190, 90, 3346, 319, 625, 293, 242, 298, 1029, 926, 250, 47982, 69, 205, 528, 230, 123, 148, 243, 21, 114, 162, 574, 221, 118, 177, 14437, 24, 59, 82, 336, 126, 92, 101, 118, 61, 196, 50, 32, 73, 26, 99, 84, 14, 35, 49, 28, 53, 18, 16, 91, 69, 55, 80, 39]}, {\"hovertemplate\": \"%{text}<br>Found items: %{y}<br>Passengers: %{x}<br>Found items per 100k passengers: %{marker.size:.1f}\", \"marker\": {\"color\": \"#007bff\", \"size\": [131.17820742788777, 127.28042860556542, 125.10733041389202], \"sizemin\": 2.5, \"sizemode\": \"area\", \"sizeref\": 0.5}, \"mode\": \"markers+text\", \"name\": \"\", \"showlegend\": false, \"text\": [\"Cherbourg\", \"Brest\", \"Quimper\"], \"textposition\": \"top center\", \"type\": \"scatter\", \"x\": [2236652.0, 6716665.0, 3700023.0], \"y\": [2934, 8549, 4629]}, {\"hovertemplate\": \"%{text}<br>Found items: %{y:d}<br>Passengers: %{x}<br>Found items per 100k passengers: %{marker.size:.1f}\", \"marker\": {\"color\": \"#007bff\", \"size\": [323.3595100555759, 201.9510453233536], \"sizemin\": 2.5, \"sizemode\": \"area\", \"sizeref\": 0.5}, \"mode\": \"markers+text\", \"name\": \"\", \"showlegend\": false, \"text\": [\"Le Croisic\", \"Hendaye\"], \"textposition\": \"bottom center\", \"type\": \"scatter\", \"x\": [419966.0, 1422622.0], \"y\": [1358, 2873]}, {\"hovertemplate\": \"%{text}<br>Found items: %{y:d}<br>Passengers: %{x}<br>Found items per 100k passengers: %{marker.size:.1f}\", \"marker\": {\"color\": \"#007bff\", \"size\": [0.20403375475083324, 0.18552463514377393, 0.1830168010831216], \"sizemin\": 2.5, \"sizemode\": \"area\", \"sizeref\": 0.5}, \"mode\": \"markers+text\", \"name\": \"\", \"showlegend\": false, \"text\": [\"Cergy le Haut\", \"Poissy\", \"Versailles Rive Droite\"], \"textposition\": \"bottom right\", \"type\": \"scatter\", \"x\": [26956324.0, 43120958.0, 21309519.0], \"y\": [55, 80, 39]}, {\"hoverinfo\": \"skip\", \"marker\": {\"color\": \"#F16E00\"}, \"mode\": \"lines\", \"name\": \"France average found items per 100k pax:  10.6\", \"type\": \"scatter\", \"x\": [100000.0, 278255.94022071257, 774263.6826811278, 2154434.6900318824, 5994842.503189409, 16681005.372000592, 46415888.33612773, 129154966.50148827, 359381366.3804626, 1000000000.0], \"y\": [10.816959654305785, 30.0988327893837, 83.75179017355975, 233.0443311991166, 648.4596949091733, 1804.3776210218844, 5020.787914506561, 13970.640617998137, 38874.13740646749, 108169.59654305785]}],\n",
       "                        {\"legend\": {\"orientation\": \"h\", \"y\": -0.125}, \"margin\": {\"b\": 0, \"l\": 0, \"r\": 0, \"t\": 0}, \"template\": {\"data\": {\"bar\": [{\"error_x\": {\"color\": \"#2a3f5f\"}, \"error_y\": {\"color\": \"#2a3f5f\"}, \"marker\": {\"line\": {\"color\": \"#E5ECF6\", \"width\": 0.5}}, \"type\": \"bar\"}], \"barpolar\": [{\"marker\": {\"line\": {\"color\": \"#E5ECF6\", \"width\": 0.5}}, \"type\": \"barpolar\"}], \"carpet\": [{\"aaxis\": {\"endlinecolor\": \"#2a3f5f\", \"gridcolor\": \"white\", \"linecolor\": \"white\", \"minorgridcolor\": \"white\", \"startlinecolor\": \"#2a3f5f\"}, \"baxis\": {\"endlinecolor\": \"#2a3f5f\", \"gridcolor\": \"white\", \"linecolor\": \"white\", \"minorgridcolor\": \"white\", \"startlinecolor\": \"#2a3f5f\"}, \"type\": \"carpet\"}], \"choropleth\": [{\"colorbar\": {\"outlinewidth\": 0, \"ticks\": \"\"}, \"type\": \"choropleth\"}], \"contour\": [{\"colorbar\": {\"outlinewidth\": 0, \"ticks\": \"\"}, \"colorscale\": [[0.0, \"#0d0887\"], [0.1111111111111111, \"#46039f\"], [0.2222222222222222, \"#7201a8\"], [0.3333333333333333, \"#9c179e\"], [0.4444444444444444, \"#bd3786\"], [0.5555555555555556, \"#d8576b\"], [0.6666666666666666, \"#ed7953\"], [0.7777777777777778, \"#fb9f3a\"], [0.8888888888888888, \"#fdca26\"], [1.0, \"#f0f921\"]], \"type\": \"contour\"}], \"contourcarpet\": [{\"colorbar\": {\"outlinewidth\": 0, \"ticks\": \"\"}, \"type\": \"contourcarpet\"}], \"heatmap\": [{\"colorbar\": {\"outlinewidth\": 0, \"ticks\": \"\"}, \"colorscale\": [[0.0, \"#0d0887\"], [0.1111111111111111, \"#46039f\"], [0.2222222222222222, \"#7201a8\"], [0.3333333333333333, \"#9c179e\"], [0.4444444444444444, \"#bd3786\"], [0.5555555555555556, \"#d8576b\"], [0.6666666666666666, \"#ed7953\"], [0.7777777777777778, \"#fb9f3a\"], [0.8888888888888888, \"#fdca26\"], [1.0, \"#f0f921\"]], \"type\": \"heatmap\"}], \"heatmapgl\": [{\"colorbar\": {\"outlinewidth\": 0, \"ticks\": \"\"}, \"colorscale\": [[0.0, \"#0d0887\"], [0.1111111111111111, \"#46039f\"], [0.2222222222222222, \"#7201a8\"], [0.3333333333333333, \"#9c179e\"], [0.4444444444444444, \"#bd3786\"], [0.5555555555555556, \"#d8576b\"], [0.6666666666666666, \"#ed7953\"], [0.7777777777777778, \"#fb9f3a\"], [0.8888888888888888, \"#fdca26\"], [1.0, \"#f0f921\"]], \"type\": \"heatmapgl\"}], \"histogram\": [{\"marker\": {\"colorbar\": {\"outlinewidth\": 0, \"ticks\": \"\"}}, \"type\": \"histogram\"}], \"histogram2d\": [{\"colorbar\": {\"outlinewidth\": 0, \"ticks\": \"\"}, \"colorscale\": [[0.0, \"#0d0887\"], [0.1111111111111111, \"#46039f\"], [0.2222222222222222, \"#7201a8\"], [0.3333333333333333, \"#9c179e\"], [0.4444444444444444, \"#bd3786\"], [0.5555555555555556, \"#d8576b\"], [0.6666666666666666, \"#ed7953\"], [0.7777777777777778, \"#fb9f3a\"], [0.8888888888888888, \"#fdca26\"], [1.0, \"#f0f921\"]], \"type\": \"histogram2d\"}], \"histogram2dcontour\": [{\"colorbar\": {\"outlinewidth\": 0, \"ticks\": \"\"}, \"colorscale\": [[0.0, \"#0d0887\"], [0.1111111111111111, \"#46039f\"], [0.2222222222222222, \"#7201a8\"], [0.3333333333333333, \"#9c179e\"], [0.4444444444444444, \"#bd3786\"], [0.5555555555555556, \"#d8576b\"], [0.6666666666666666, \"#ed7953\"], [0.7777777777777778, \"#fb9f3a\"], [0.8888888888888888, \"#fdca26\"], [1.0, \"#f0f921\"]], \"type\": \"histogram2dcontour\"}], \"mesh3d\": [{\"colorbar\": {\"outlinewidth\": 0, \"ticks\": \"\"}, \"type\": \"mesh3d\"}], \"parcoords\": [{\"line\": {\"colorbar\": {\"outlinewidth\": 0, \"ticks\": \"\"}}, \"type\": \"parcoords\"}], \"pie\": [{\"automargin\": true, \"type\": \"pie\"}], \"scatter\": [{\"marker\": {\"colorbar\": {\"outlinewidth\": 0, \"ticks\": \"\"}}, \"type\": \"scatter\"}], \"scatter3d\": [{\"line\": {\"colorbar\": {\"outlinewidth\": 0, \"ticks\": \"\"}}, \"marker\": {\"colorbar\": {\"outlinewidth\": 0, \"ticks\": \"\"}}, \"type\": \"scatter3d\"}], \"scattercarpet\": [{\"marker\": {\"colorbar\": {\"outlinewidth\": 0, \"ticks\": \"\"}}, \"type\": \"scattercarpet\"}], \"scattergeo\": [{\"marker\": {\"colorbar\": {\"outlinewidth\": 0, \"ticks\": \"\"}}, \"type\": \"scattergeo\"}], \"scattergl\": [{\"marker\": {\"colorbar\": {\"outlinewidth\": 0, \"ticks\": \"\"}}, \"type\": \"scattergl\"}], \"scattermapbox\": [{\"marker\": {\"colorbar\": {\"outlinewidth\": 0, \"ticks\": \"\"}}, \"type\": \"scattermapbox\"}], \"scatterpolar\": [{\"marker\": {\"colorbar\": {\"outlinewidth\": 0, \"ticks\": \"\"}}, \"type\": \"scatterpolar\"}], \"scatterpolargl\": [{\"marker\": {\"colorbar\": {\"outlinewidth\": 0, \"ticks\": \"\"}}, \"type\": \"scatterpolargl\"}], \"scatterternary\": [{\"marker\": {\"colorbar\": {\"outlinewidth\": 0, \"ticks\": \"\"}}, \"type\": \"scatterternary\"}], \"surface\": [{\"colorbar\": {\"outlinewidth\": 0, \"ticks\": \"\"}, \"colorscale\": [[0.0, \"#0d0887\"], [0.1111111111111111, \"#46039f\"], [0.2222222222222222, \"#7201a8\"], [0.3333333333333333, \"#9c179e\"], [0.4444444444444444, \"#bd3786\"], [0.5555555555555556, \"#d8576b\"], [0.6666666666666666, \"#ed7953\"], [0.7777777777777778, \"#fb9f3a\"], [0.8888888888888888, \"#fdca26\"], [1.0, \"#f0f921\"]], \"type\": \"surface\"}], \"table\": [{\"cells\": {\"fill\": {\"color\": \"#EBF0F8\"}, \"line\": {\"color\": \"white\"}}, \"header\": {\"fill\": {\"color\": \"#C8D4E3\"}, \"line\": {\"color\": \"white\"}}, \"type\": \"table\"}]}, \"layout\": {\"annotationdefaults\": {\"arrowcolor\": \"#2a3f5f\", \"arrowhead\": 0, \"arrowwidth\": 1}, \"coloraxis\": {\"colorbar\": {\"outlinewidth\": 0, \"ticks\": \"\"}}, \"colorscale\": {\"diverging\": [[0, \"#8e0152\"], [0.1, \"#c51b7d\"], [0.2, \"#de77ae\"], [0.3, \"#f1b6da\"], [0.4, \"#fde0ef\"], [0.5, \"#f7f7f7\"], [0.6, \"#e6f5d0\"], [0.7, \"#b8e186\"], [0.8, \"#7fbc41\"], [0.9, \"#4d9221\"], [1, \"#276419\"]], \"sequential\": [[0.0, \"#0d0887\"], [0.1111111111111111, \"#46039f\"], [0.2222222222222222, \"#7201a8\"], [0.3333333333333333, \"#9c179e\"], [0.4444444444444444, \"#bd3786\"], [0.5555555555555556, \"#d8576b\"], [0.6666666666666666, \"#ed7953\"], [0.7777777777777778, \"#fb9f3a\"], [0.8888888888888888, \"#fdca26\"], [1.0, \"#f0f921\"]], \"sequentialminus\": [[0.0, \"#0d0887\"], [0.1111111111111111, \"#46039f\"], [0.2222222222222222, \"#7201a8\"], [0.3333333333333333, \"#9c179e\"], [0.4444444444444444, \"#bd3786\"], [0.5555555555555556, \"#d8576b\"], [0.6666666666666666, \"#ed7953\"], [0.7777777777777778, \"#fb9f3a\"], [0.8888888888888888, \"#fdca26\"], [1.0, \"#f0f921\"]]}, \"colorway\": [\"#636efa\", \"#EF553B\", \"#00cc96\", \"#ab63fa\", \"#FFA15A\", \"#19d3f3\", \"#FF6692\", \"#B6E880\", \"#FF97FF\", \"#FECB52\"], \"font\": {\"color\": \"#2a3f5f\"}, \"geo\": {\"bgcolor\": \"white\", \"lakecolor\": \"white\", \"landcolor\": \"#E5ECF6\", \"showlakes\": true, \"showland\": true, \"subunitcolor\": \"white\"}, \"hoverlabel\": {\"align\": \"left\"}, \"hovermode\": \"closest\", \"mapbox\": {\"style\": \"light\"}, \"paper_bgcolor\": \"white\", \"plot_bgcolor\": \"#E5ECF6\", \"polar\": {\"angularaxis\": {\"gridcolor\": \"white\", \"linecolor\": \"white\", \"ticks\": \"\"}, \"bgcolor\": \"#E5ECF6\", \"radialaxis\": {\"gridcolor\": \"white\", \"linecolor\": \"white\", \"ticks\": \"\"}}, \"scene\": {\"xaxis\": {\"backgroundcolor\": \"#E5ECF6\", \"gridcolor\": \"white\", \"gridwidth\": 2, \"linecolor\": \"white\", \"showbackground\": true, \"ticks\": \"\", \"zerolinecolor\": \"white\"}, \"yaxis\": {\"backgroundcolor\": \"#E5ECF6\", \"gridcolor\": \"white\", \"gridwidth\": 2, \"linecolor\": \"white\", \"showbackground\": true, \"ticks\": \"\", \"zerolinecolor\": \"white\"}, \"zaxis\": {\"backgroundcolor\": \"#E5ECF6\", \"gridcolor\": \"white\", \"gridwidth\": 2, \"linecolor\": \"white\", \"showbackground\": true, \"ticks\": \"\", \"zerolinecolor\": \"white\"}}, \"shapedefaults\": {\"line\": {\"color\": \"#2a3f5f\"}}, \"ternary\": {\"aaxis\": {\"gridcolor\": \"white\", \"linecolor\": \"white\", \"ticks\": \"\"}, \"baxis\": {\"gridcolor\": \"white\", \"linecolor\": \"white\", \"ticks\": \"\"}, \"bgcolor\": \"#E5ECF6\", \"caxis\": {\"gridcolor\": \"white\", \"linecolor\": \"white\", \"ticks\": \"\"}}, \"title\": {\"x\": 0.05}, \"xaxis\": {\"automargin\": true, \"gridcolor\": \"white\", \"linecolor\": \"white\", \"ticks\": \"\", \"title\": {\"standoff\": 15}, \"zerolinecolor\": \"white\", \"zerolinewidth\": 2}, \"yaxis\": {\"automargin\": true, \"gridcolor\": \"white\", \"linecolor\": \"white\", \"ticks\": \"\", \"title\": {\"standoff\": 15}, \"zerolinecolor\": \"white\", \"zerolinewidth\": 2}}}, \"xaxis\": {\"title\": {\"font\": {\"size\": 16}, \"text\": \"Passengers\"}, \"type\": \"log\"}, \"yaxis\": {\"title\": {\"font\": {\"size\": 16}, \"text\": \"Found items\"}, \"type\": \"log\"}},\n",
       "                        {\"scrollZoom\": true, \"displayModeBar\": false, \"responsive\": true}\n",
       "                    ).then(function(){\n",
       "                            \n",
       "var gd = document.getElementById('971890b1-73af-4d47-b851-825259c19a5c');\n",
       "var x = new MutationObserver(function (mutations, observer) {{\n",
       "        var display = window.getComputedStyle(gd).display;\n",
       "        if (!display || display === 'none') {{\n",
       "            console.log([gd, 'removed!']);\n",
       "            Plotly.purge(gd);\n",
       "            observer.disconnect();\n",
       "        }}\n",
       "}});\n",
       "\n",
       "// Listen for the removal of the full notebook cells\n",
       "var notebookContainer = gd.closest('#notebook-container');\n",
       "if (notebookContainer) {{\n",
       "    x.observe(notebookContainer, {childList: true});\n",
       "}}\n",
       "\n",
       "// Listen for the clearing of the current output cell\n",
       "var outputEl = gd.closest('.output');\n",
       "if (outputEl) {{\n",
       "    x.observe(outputEl, {childList: true});\n",
       "}}\n",
       "\n",
       "                        })\n",
       "                };\n",
       "                });\n",
       "            </script>\n",
       "        </div>"
      ]
     },
     "metadata": {},
     "output_type": "display_data"
    }
   ],
   "source": [
    "fig = go.Figure()\n",
    "\n",
    "df_sub=df.iloc[5:]\n",
    "fig.add_trace(go.Scatter(\n",
    "    x=df_sub.Passengers,\n",
    "    y=df_sub.item_count, \n",
    "    mode='markers',\n",
    "    marker=dict(\n",
    "        size=df_sub.count_per_100kpax,\n",
    "        sizemode='area',\n",
    "        sizemin=2.5,\n",
    "        sizeref=1,\n",
    "        color=\"#007bff\"\n",
    "    ),\n",
    "    text=df_sub.index,\n",
    "    hovertemplate=\"%{text}<br>\" \n",
    "                    + \"Found items: %{y}<br>\" \n",
    "                    + \"Passengers: %{x}<br>\"\n",
    "                    + \"Found items per 100k passengers: %{marker.size:.1f}\",\n",
    "    name=\"\",\n",
    "    showlegend=False,\n",
    "))\n",
    "\n",
    "df_sub=df.iloc[2:5]\n",
    "fig.add_trace(go.Scatter(\n",
    "    x=df_sub.Passengers,\n",
    "    y=df_sub.item_count, \n",
    "    mode='markers+text',\n",
    "    marker=dict(\n",
    "        size=df_sub.count_per_100kpax,\n",
    "        sizemode='area',\n",
    "        sizemin=2.5,\n",
    "        sizeref=.5,\n",
    "        color=\"#007bff\"\n",
    "    ),\n",
    "    text=df_sub.index,\n",
    "    textposition='top center',\n",
    "    hovertemplate=\"%{text}<br>\" \n",
    "                    + \"Found items: %{y}<br>\" \n",
    "                    + \"Passengers: %{x}<br>\"\n",
    "                    + \"Found items per 100k passengers: %{marker.size:.1f}\",\n",
    "    name=\"\",\n",
    "    showlegend=False,\n",
    "))\n",
    "\n",
    "df_sub=df.iloc[:2]\n",
    "fig.add_trace(go.Scatter(\n",
    "    x=df_sub.Passengers,\n",
    "    y=df_sub.item_count, \n",
    "    mode='markers+text',\n",
    "    marker=dict(\n",
    "        size=df_sub.count_per_100kpax,\n",
    "        sizemode='area',\n",
    "        sizemin=2.5,\n",
    "        sizeref=.5,\n",
    "        color=\"#007bff\"\n",
    "    ),\n",
    "    text=df_sub.index,\n",
    "    textposition='bottom center',\n",
    "    hovertemplate=\"%{text}<br>\" \n",
    "                    + \"Found items: %{y:d}<br>\" \n",
    "                    + \"Passengers: %{x}<br>\"\n",
    "                    + \"Found items per 100k passengers: %{marker.size:.1f}\",\n",
    "    name=\"\",\n",
    "    showlegend=False,\n",
    "))\n",
    "\n",
    "df_sub=df.iloc[-3:]\n",
    "fig.add_trace(go.Scatter(\n",
    "    x=df_sub.Passengers,\n",
    "    y=df_sub.item_count, \n",
    "    mode='markers+text',\n",
    "    marker=dict(\n",
    "        size=df_sub.count_per_100kpax,\n",
    "        sizemode='area',\n",
    "        sizemin=2.5,\n",
    "        sizeref=.5,\n",
    "        color=\"#007bff\"\n",
    "    ),\n",
    "    text=df_sub.index,\n",
    "    textposition='bottom right',\n",
    "    hovertemplate=\"%{text}<br>\" \n",
    "                    + \"Found items: %{y:d}<br>\" \n",
    "                    + \"Passengers: %{x}<br>\"\n",
    "                    + \"Found items per 100k passengers: %{marker.size:.1f}\",\n",
    "    name=\"\",\n",
    "    showlegend=False,\n",
    "))\n",
    "\n",
    "fig.add_trace(go.Scatter(\n",
    "    x=np.logspace(5, 9, 10),\n",
    "    y=np.logspace(5, 9, 10) * df.item_count.sum() / df.Passengers.sum(),\n",
    "    mode='lines',\n",
    "    name=f'France average found items per 100k pax: {df_stations.item_count.sum() / df_stations.Passengers.sum() * 1e5: .1f}',\n",
    "    hoverinfo='skip',\n",
    "    marker=dict(color=\"#F16E00\")\n",
    "))\n",
    "\n",
    "fig.update_layout(\n",
    "    margin={'l': 0, 'r': 0, 't': 0, 'b': 0},\n",
    "    xaxis=dict(type='log', title_text=\"Passengers\", titlefont=dict(size=16)),\n",
    "    yaxis=dict(type='log', title_text=\"Found items\", titlefont=dict(size=16)),\n",
    "    legend=dict(orientation='h', y=-.125)\n",
    ")\n",
    "\n",
    "fig.show(config={'scrollZoom': True,  \"displayModeBar\": False})"
   ]
  }
 ],
 "metadata": {
  "kernelspec": {
   "display_name": "Python 3",
   "language": "python",
   "name": "python3"
  },
  "language_info": {
   "codemirror_mode": {
    "name": "ipython",
    "version": 3
   },
   "file_extension": ".py",
   "mimetype": "text/x-python",
   "name": "python",
   "nbconvert_exporter": "python",
   "pygments_lexer": "ipython3",
   "version": "3.7.6"
  }
 },
 "nbformat": 4,
 "nbformat_minor": 4
}
