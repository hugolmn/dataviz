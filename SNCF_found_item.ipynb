{
 "cells": [
  {
   "cell_type": "code",
   "execution_count": 1,
   "metadata": {},
   "outputs": [],
   "source": [
    "import pandas as pd\n",
    "import numpy as np\n",
    "import matplotlib.pyplot as plt\n",
    "import plotly.express as px\n",
    "import chart_studio.plotly as py\n",
    "import plotly.graph_objects as go\n",
    "from plotly.subplots import make_subplots"
   ]
  },
  {
   "cell_type": "code",
   "execution_count": 8,
   "metadata": {},
   "outputs": [],
   "source": [
    "df_objects = pd.read_csv('data/objets-trouves-gares.csv', sep=';')"
   ]
  },
  {
   "cell_type": "code",
   "execution_count": 49,
   "metadata": {},
   "outputs": [],
   "source": [
    "df_objects['Date'] = pd.to_datetime(df_objects.Date, utc=True)\n",
    "df_objects['Date'] = pd.to_datetime(df_objects.Date).dt.tz_convert('Europe/Paris')\n",
    "df_objects = df_objects[df_objects.Date.dt.year >= 2015]"
   ]
  },
  {
   "cell_type": "code",
   "execution_count": 52,
   "metadata": {},
   "outputs": [],
   "source": [
    "df_grouped = (df_objects\n",
    "    .groupby(by='Gare')\n",
    "    .count()\n",
    "    .Date\n",
    "    .rename('Count')\n",
    "    .sort_values(ascending=False)\n",
    "    .iloc[:100])\n",
    "\n",
    "df_cumsum = df_grouped.cumsum()\n",
    "\n",
    "pareto = (df_cumsum < df_cumsum.max() * 0.8).sum()"
   ]
  },
  {
   "cell_type": "code",
   "execution_count": 124,
   "metadata": {},
   "outputs": [
    {
     "data": {
      "application/vnd.plotly.v1+json": {
       "config": {
        "plotlyServerURL": "https://plotly.com"
       },
       "data": [
        {
         "hoverinfo": "text+y",
         "marker": {
          "color": "#007bff"
         },
         "meta": [
          33156,
          23222,
          22784,
          21104,
          11851,
          11583,
          9978,
          9151,
          7660,
          7505,
          6159,
          5622,
          4917,
          4685,
          4541,
          4540,
          4376,
          3830,
          3758,
          3118,
          3042,
          2661,
          2441,
          2345,
          2309,
          2302,
          2202,
          2107,
          1765,
          1714,
          1545,
          1493,
          1465,
          1464,
          1303,
          1251,
          1208,
          1140,
          1115,
          1087,
          1056,
          1018,
          962,
          952,
          934,
          906,
          896,
          877,
          876,
          864,
          833,
          831,
          827,
          823,
          804,
          798,
          763,
          743,
          740,
          736,
          734,
          706,
          682,
          679,
          652,
          628,
          603,
          592,
          581,
          567,
          547,
          544,
          539,
          536,
          533,
          529,
          520,
          518,
          508,
          468,
          461,
          444,
          442,
          438,
          354,
          349,
          347,
          340,
          316,
          316,
          311,
          272,
          261,
          256,
          248,
          242,
          237,
          236,
          225,
          215
         ],
         "name": "Found items",
         "text": [
          "Paris Gare de Lyon",
          "Paris Montparnasse",
          "Paris Gare du Nord",
          "Paris Saint-Lazare",
          "Bordeaux Saint-Jean",
          "Strasbourg",
          "Paris Est",
          "Lyon Part Dieu",
          "Lille Europe",
          "Lyon Perrache",
          "Marseille Saint-Charles",
          "Nice",
          "Montpellier Saint-Roch",
          "Nantes",
          "Rennes",
          "Paris Austerlitz",
          "Rouen Rive Droite",
          "Toulouse Matabiau",
          "Dijon",
          "Metz Ville",
          "Orléans",
          "Tours",
          "Caen",
          "Avignon TGV",
          "Nancy",
          "Mulhouse",
          "Poitiers",
          "La Rochelle",
          "Cannes",
          "Amiens",
          "Grenoble",
          "Quimper",
          "Colmar",
          "Toulon",
          "Annecy",
          "Bellegarde",
          "Aix-en-Provence TGV",
          "Brest",
          "Hendaye",
          "Saint-Pierre-des-Corps",
          "Perpignan",
          "Aéroport Charles de Gaulle 2 TGV",
          "Les Aubrais",
          "Agen",
          "Angoulême",
          "Valence",
          "Limoges Bénédictins",
          "Brive-la-Gaillarde",
          "Reims",
          "Bourges",
          "Clermont-Ferrand",
          "Le Mans",
          "Paris Bercy",
          "Angers Saint-Laud",
          "Vierzon",
          "Mantes-la-Jolie",
          "Creil",
          "Nevers",
          "Saint-Étienne Châteaucreux",
          "Béziers",
          "Besançon Viotte",
          "Massy TGV",
          "Chambéry - Challes-les-Eaux",
          "Bourg-en-Bresse",
          "Niort",
          "Cherbourg",
          "Le Havre",
          "Narbonne",
          "Périgueux",
          "Arras",
          "Douai",
          "Sélestat",
          "Nîmes",
          "Bayonne",
          "Pau",
          "Dunkerque",
          "Dax",
          "Marne-la-Vallée Chessy",
          "Tourcoing",
          "Boulogne Ville",
          "Tarbes",
          "Blois - Chambord",
          "Saint-Nazaire",
          "Avignon Centre",
          "Compiègne",
          "Valence TGV Rhône-Alpes Sud",
          "Châteauroux",
          "Le Croisic",
          "Chartres",
          "Belfort - Montbéliard TGV",
          "Valenciennes",
          "Saverne",
          "Vannes",
          "Lisieux",
          "Roanne",
          "Carcassonne",
          "Granville",
          "Trouville - Deauville",
          "Saintes",
          "Laval"
         ],
         "type": "bar",
         "x": [
          0,
          1,
          2,
          3,
          4,
          5,
          6,
          7,
          8,
          9,
          10,
          11,
          12,
          13,
          14,
          15,
          16,
          17,
          18,
          19,
          20,
          21,
          22,
          23,
          24,
          25,
          26,
          27,
          28,
          29,
          30,
          31,
          32,
          33,
          34,
          35,
          36,
          37,
          38,
          39,
          40,
          41,
          42,
          43,
          44,
          45,
          46,
          47,
          48,
          49,
          50,
          51,
          52,
          53,
          54,
          55,
          56,
          57,
          58,
          59,
          60,
          61,
          62,
          63,
          64,
          65,
          66,
          67,
          68,
          69,
          70,
          71,
          72,
          73,
          74,
          75,
          76,
          77,
          78,
          79,
          80,
          81,
          82,
          83,
          84,
          85,
          86,
          87,
          88,
          89,
          90,
          91,
          92,
          93,
          94,
          95,
          96,
          97,
          98,
          99
         ],
         "xaxis": "x",
         "y": [
          33156,
          23222,
          22784,
          21104,
          11851,
          11583,
          9978,
          9151,
          7660,
          7505,
          6159,
          5622,
          4917,
          4685,
          4541,
          4540,
          4376,
          3830,
          3758,
          3118,
          3042,
          2661,
          2441,
          2345,
          2309,
          2302,
          2202,
          2107,
          1765,
          1714,
          1545,
          1493,
          1465,
          1464,
          1303,
          1251,
          1208,
          1140,
          1115,
          1087,
          1056,
          1018,
          962,
          952,
          934,
          906,
          896,
          877,
          876,
          864,
          833,
          831,
          827,
          823,
          804,
          798,
          763,
          743,
          740,
          736,
          734,
          706,
          682,
          679,
          652,
          628,
          603,
          592,
          581,
          567,
          547,
          544,
          539,
          536,
          533,
          529,
          520,
          518,
          508,
          468,
          461,
          444,
          442,
          438,
          354,
          349,
          347,
          340,
          316,
          316,
          311,
          272,
          261,
          256,
          248,
          242,
          237,
          236,
          225,
          215
         ],
         "yaxis": "y2"
        },
        {
         "hoverinfo": "y",
         "meta": [
          33156,
          23222,
          22784,
          21104,
          11851,
          11583,
          9978,
          9151,
          7660,
          7505,
          6159,
          5622,
          4917,
          4685,
          4541,
          4540,
          4376,
          3830,
          3758,
          3118,
          3042,
          2661,
          2441,
          2345,
          2309,
          2302,
          2202,
          2107,
          1765,
          1714,
          1545,
          1493,
          1465,
          1464,
          1303,
          1251,
          1208,
          1140,
          1115,
          1087,
          1056,
          1018,
          962,
          952,
          934,
          906,
          896,
          877,
          876,
          864,
          833,
          831,
          827,
          823,
          804,
          798,
          763,
          743,
          740,
          736,
          734,
          706,
          682,
          679,
          652,
          628,
          603,
          592,
          581,
          567,
          547,
          544,
          539,
          536,
          533,
          529,
          520,
          518,
          508,
          468,
          461,
          444,
          442,
          438,
          354,
          349,
          347,
          340,
          316,
          316,
          311,
          272,
          261,
          256,
          248,
          242,
          237,
          236,
          225,
          215
         ],
         "name": "Cumulative sum",
         "text": [
          "Paris Gare de Lyon",
          "Paris Montparnasse",
          "Paris Gare du Nord",
          "Paris Saint-Lazare",
          "Bordeaux Saint-Jean",
          "Strasbourg",
          "Paris Est",
          "Lyon Part Dieu",
          "Lille Europe",
          "Lyon Perrache",
          "Marseille Saint-Charles",
          "Nice",
          "Montpellier Saint-Roch",
          "Nantes",
          "Rennes",
          "Paris Austerlitz",
          "Rouen Rive Droite",
          "Toulouse Matabiau",
          "Dijon",
          "Metz Ville",
          "Orléans",
          "Tours",
          "Caen",
          "Avignon TGV",
          "Nancy",
          "Mulhouse",
          "Poitiers",
          "La Rochelle",
          "Cannes",
          "Amiens",
          "Grenoble",
          "Quimper",
          "Colmar",
          "Toulon",
          "Annecy",
          "Bellegarde",
          "Aix-en-Provence TGV",
          "Brest",
          "Hendaye",
          "Saint-Pierre-des-Corps",
          "Perpignan",
          "Aéroport Charles de Gaulle 2 TGV",
          "Les Aubrais",
          "Agen",
          "Angoulême",
          "Valence",
          "Limoges Bénédictins",
          "Brive-la-Gaillarde",
          "Reims",
          "Bourges",
          "Clermont-Ferrand",
          "Le Mans",
          "Paris Bercy",
          "Angers Saint-Laud",
          "Vierzon",
          "Mantes-la-Jolie",
          "Creil",
          "Nevers",
          "Saint-Étienne Châteaucreux",
          "Béziers",
          "Besançon Viotte",
          "Massy TGV",
          "Chambéry - Challes-les-Eaux",
          "Bourg-en-Bresse",
          "Niort",
          "Cherbourg",
          "Le Havre",
          "Narbonne",
          "Périgueux",
          "Arras",
          "Douai",
          "Sélestat",
          "Nîmes",
          "Bayonne",
          "Pau",
          "Dunkerque",
          "Dax",
          "Marne-la-Vallée Chessy",
          "Tourcoing",
          "Boulogne Ville",
          "Tarbes",
          "Blois - Chambord",
          "Saint-Nazaire",
          "Avignon Centre",
          "Compiègne",
          "Valence TGV Rhône-Alpes Sud",
          "Châteauroux",
          "Le Croisic",
          "Chartres",
          "Belfort - Montbéliard TGV",
          "Valenciennes",
          "Saverne",
          "Vannes",
          "Lisieux",
          "Roanne",
          "Carcassonne",
          "Granville",
          "Trouville - Deauville",
          "Saintes",
          "Laval"
         ],
         "type": "scatter",
         "x": [
          0,
          1,
          2,
          3,
          4,
          5,
          6,
          7,
          8,
          9,
          10,
          11,
          12,
          13,
          14,
          15,
          16,
          17,
          18,
          19,
          20,
          21,
          22,
          23,
          24,
          25,
          26,
          27,
          28,
          29,
          30,
          31,
          32,
          33,
          34,
          35,
          36,
          37,
          38,
          39,
          40,
          41,
          42,
          43,
          44,
          45,
          46,
          47,
          48,
          49,
          50,
          51,
          52,
          53,
          54,
          55,
          56,
          57,
          58,
          59,
          60,
          61,
          62,
          63,
          64,
          65,
          66,
          67,
          68,
          69,
          70,
          71,
          72,
          73,
          74,
          75,
          76,
          77,
          78,
          79,
          80,
          81,
          82,
          83,
          84,
          85,
          86,
          87,
          88,
          89,
          90,
          91,
          92,
          93,
          94,
          95,
          96,
          97,
          98,
          99
         ],
         "y": [
          33156,
          56378,
          79162,
          100266,
          112117,
          123700,
          133678,
          142829,
          150489,
          157994,
          164153,
          169775,
          174692,
          179377,
          183918,
          188458,
          192834,
          196664,
          200422,
          203540,
          206582,
          209243,
          211684,
          214029,
          216338,
          218640,
          220842,
          222949,
          224714,
          226428,
          227973,
          229466,
          230931,
          232395,
          233698,
          234949,
          236157,
          237297,
          238412,
          239499,
          240555,
          241573,
          242535,
          243487,
          244421,
          245327,
          246223,
          247100,
          247976,
          248840,
          249673,
          250504,
          251331,
          252154,
          252958,
          253756,
          254519,
          255262,
          256002,
          256738,
          257472,
          258178,
          258860,
          259539,
          260191,
          260819,
          261422,
          262014,
          262595,
          263162,
          263709,
          264253,
          264792,
          265328,
          265861,
          266390,
          266910,
          267428,
          267936,
          268404,
          268865,
          269309,
          269751,
          270189,
          270543,
          270892,
          271239,
          271579,
          271895,
          272211,
          272522,
          272794,
          273055,
          273311,
          273559,
          273801,
          274038,
          274274,
          274499,
          274714
         ]
        }
       ],
       "layout": {
        "autosize": true,
        "margin": {
         "b": 0,
         "l": 30,
         "r": 30,
         "t": 50
        },
        "template": {
         "data": {
          "bar": [
           {
            "error_x": {
             "color": "#2a3f5f"
            },
            "error_y": {
             "color": "#2a3f5f"
            },
            "marker": {
             "line": {
              "color": "#E5ECF6",
              "width": 0.5
             }
            },
            "type": "bar"
           }
          ],
          "barpolar": [
           {
            "marker": {
             "line": {
              "color": "#E5ECF6",
              "width": 0.5
             }
            },
            "type": "barpolar"
           }
          ],
          "carpet": [
           {
            "aaxis": {
             "endlinecolor": "#2a3f5f",
             "gridcolor": "white",
             "linecolor": "white",
             "minorgridcolor": "white",
             "startlinecolor": "#2a3f5f"
            },
            "baxis": {
             "endlinecolor": "#2a3f5f",
             "gridcolor": "white",
             "linecolor": "white",
             "minorgridcolor": "white",
             "startlinecolor": "#2a3f5f"
            },
            "type": "carpet"
           }
          ],
          "choropleth": [
           {
            "colorbar": {
             "outlinewidth": 0,
             "ticks": ""
            },
            "type": "choropleth"
           }
          ],
          "contour": [
           {
            "colorbar": {
             "outlinewidth": 0,
             "ticks": ""
            },
            "colorscale": [
             [
              0,
              "#0d0887"
             ],
             [
              0.1111111111111111,
              "#46039f"
             ],
             [
              0.2222222222222222,
              "#7201a8"
             ],
             [
              0.3333333333333333,
              "#9c179e"
             ],
             [
              0.4444444444444444,
              "#bd3786"
             ],
             [
              0.5555555555555556,
              "#d8576b"
             ],
             [
              0.6666666666666666,
              "#ed7953"
             ],
             [
              0.7777777777777778,
              "#fb9f3a"
             ],
             [
              0.8888888888888888,
              "#fdca26"
             ],
             [
              1,
              "#f0f921"
             ]
            ],
            "type": "contour"
           }
          ],
          "contourcarpet": [
           {
            "colorbar": {
             "outlinewidth": 0,
             "ticks": ""
            },
            "type": "contourcarpet"
           }
          ],
          "heatmap": [
           {
            "colorbar": {
             "outlinewidth": 0,
             "ticks": ""
            },
            "colorscale": [
             [
              0,
              "#0d0887"
             ],
             [
              0.1111111111111111,
              "#46039f"
             ],
             [
              0.2222222222222222,
              "#7201a8"
             ],
             [
              0.3333333333333333,
              "#9c179e"
             ],
             [
              0.4444444444444444,
              "#bd3786"
             ],
             [
              0.5555555555555556,
              "#d8576b"
             ],
             [
              0.6666666666666666,
              "#ed7953"
             ],
             [
              0.7777777777777778,
              "#fb9f3a"
             ],
             [
              0.8888888888888888,
              "#fdca26"
             ],
             [
              1,
              "#f0f921"
             ]
            ],
            "type": "heatmap"
           }
          ],
          "heatmapgl": [
           {
            "colorbar": {
             "outlinewidth": 0,
             "ticks": ""
            },
            "colorscale": [
             [
              0,
              "#0d0887"
             ],
             [
              0.1111111111111111,
              "#46039f"
             ],
             [
              0.2222222222222222,
              "#7201a8"
             ],
             [
              0.3333333333333333,
              "#9c179e"
             ],
             [
              0.4444444444444444,
              "#bd3786"
             ],
             [
              0.5555555555555556,
              "#d8576b"
             ],
             [
              0.6666666666666666,
              "#ed7953"
             ],
             [
              0.7777777777777778,
              "#fb9f3a"
             ],
             [
              0.8888888888888888,
              "#fdca26"
             ],
             [
              1,
              "#f0f921"
             ]
            ],
            "type": "heatmapgl"
           }
          ],
          "histogram": [
           {
            "marker": {
             "colorbar": {
              "outlinewidth": 0,
              "ticks": ""
             }
            },
            "type": "histogram"
           }
          ],
          "histogram2d": [
           {
            "colorbar": {
             "outlinewidth": 0,
             "ticks": ""
            },
            "colorscale": [
             [
              0,
              "#0d0887"
             ],
             [
              0.1111111111111111,
              "#46039f"
             ],
             [
              0.2222222222222222,
              "#7201a8"
             ],
             [
              0.3333333333333333,
              "#9c179e"
             ],
             [
              0.4444444444444444,
              "#bd3786"
             ],
             [
              0.5555555555555556,
              "#d8576b"
             ],
             [
              0.6666666666666666,
              "#ed7953"
             ],
             [
              0.7777777777777778,
              "#fb9f3a"
             ],
             [
              0.8888888888888888,
              "#fdca26"
             ],
             [
              1,
              "#f0f921"
             ]
            ],
            "type": "histogram2d"
           }
          ],
          "histogram2dcontour": [
           {
            "colorbar": {
             "outlinewidth": 0,
             "ticks": ""
            },
            "colorscale": [
             [
              0,
              "#0d0887"
             ],
             [
              0.1111111111111111,
              "#46039f"
             ],
             [
              0.2222222222222222,
              "#7201a8"
             ],
             [
              0.3333333333333333,
              "#9c179e"
             ],
             [
              0.4444444444444444,
              "#bd3786"
             ],
             [
              0.5555555555555556,
              "#d8576b"
             ],
             [
              0.6666666666666666,
              "#ed7953"
             ],
             [
              0.7777777777777778,
              "#fb9f3a"
             ],
             [
              0.8888888888888888,
              "#fdca26"
             ],
             [
              1,
              "#f0f921"
             ]
            ],
            "type": "histogram2dcontour"
           }
          ],
          "mesh3d": [
           {
            "colorbar": {
             "outlinewidth": 0,
             "ticks": ""
            },
            "type": "mesh3d"
           }
          ],
          "parcoords": [
           {
            "line": {
             "colorbar": {
              "outlinewidth": 0,
              "ticks": ""
             }
            },
            "type": "parcoords"
           }
          ],
          "pie": [
           {
            "automargin": true,
            "type": "pie"
           }
          ],
          "scatter": [
           {
            "marker": {
             "colorbar": {
              "outlinewidth": 0,
              "ticks": ""
             }
            },
            "type": "scatter"
           }
          ],
          "scatter3d": [
           {
            "line": {
             "colorbar": {
              "outlinewidth": 0,
              "ticks": ""
             }
            },
            "marker": {
             "colorbar": {
              "outlinewidth": 0,
              "ticks": ""
             }
            },
            "type": "scatter3d"
           }
          ],
          "scattercarpet": [
           {
            "marker": {
             "colorbar": {
              "outlinewidth": 0,
              "ticks": ""
             }
            },
            "type": "scattercarpet"
           }
          ],
          "scattergeo": [
           {
            "marker": {
             "colorbar": {
              "outlinewidth": 0,
              "ticks": ""
             }
            },
            "type": "scattergeo"
           }
          ],
          "scattergl": [
           {
            "marker": {
             "colorbar": {
              "outlinewidth": 0,
              "ticks": ""
             }
            },
            "type": "scattergl"
           }
          ],
          "scattermapbox": [
           {
            "marker": {
             "colorbar": {
              "outlinewidth": 0,
              "ticks": ""
             }
            },
            "type": "scattermapbox"
           }
          ],
          "scatterpolar": [
           {
            "marker": {
             "colorbar": {
              "outlinewidth": 0,
              "ticks": ""
             }
            },
            "type": "scatterpolar"
           }
          ],
          "scatterpolargl": [
           {
            "marker": {
             "colorbar": {
              "outlinewidth": 0,
              "ticks": ""
             }
            },
            "type": "scatterpolargl"
           }
          ],
          "scatterternary": [
           {
            "marker": {
             "colorbar": {
              "outlinewidth": 0,
              "ticks": ""
             }
            },
            "type": "scatterternary"
           }
          ],
          "surface": [
           {
            "colorbar": {
             "outlinewidth": 0,
             "ticks": ""
            },
            "colorscale": [
             [
              0,
              "#0d0887"
             ],
             [
              0.1111111111111111,
              "#46039f"
             ],
             [
              0.2222222222222222,
              "#7201a8"
             ],
             [
              0.3333333333333333,
              "#9c179e"
             ],
             [
              0.4444444444444444,
              "#bd3786"
             ],
             [
              0.5555555555555556,
              "#d8576b"
             ],
             [
              0.6666666666666666,
              "#ed7953"
             ],
             [
              0.7777777777777778,
              "#fb9f3a"
             ],
             [
              0.8888888888888888,
              "#fdca26"
             ],
             [
              1,
              "#f0f921"
             ]
            ],
            "type": "surface"
           }
          ],
          "table": [
           {
            "cells": {
             "fill": {
              "color": "#EBF0F8"
             },
             "line": {
              "color": "white"
             }
            },
            "header": {
             "fill": {
              "color": "#C8D4E3"
             },
             "line": {
              "color": "white"
             }
            },
            "type": "table"
           }
          ]
         },
         "layout": {
          "annotationdefaults": {
           "arrowcolor": "#2a3f5f",
           "arrowhead": 0,
           "arrowwidth": 1
          },
          "coloraxis": {
           "colorbar": {
            "outlinewidth": 0,
            "ticks": ""
           }
          },
          "colorscale": {
           "diverging": [
            [
             0,
             "#8e0152"
            ],
            [
             0.1,
             "#c51b7d"
            ],
            [
             0.2,
             "#de77ae"
            ],
            [
             0.3,
             "#f1b6da"
            ],
            [
             0.4,
             "#fde0ef"
            ],
            [
             0.5,
             "#f7f7f7"
            ],
            [
             0.6,
             "#e6f5d0"
            ],
            [
             0.7,
             "#b8e186"
            ],
            [
             0.8,
             "#7fbc41"
            ],
            [
             0.9,
             "#4d9221"
            ],
            [
             1,
             "#276419"
            ]
           ],
           "sequential": [
            [
             0,
             "#0d0887"
            ],
            [
             0.1111111111111111,
             "#46039f"
            ],
            [
             0.2222222222222222,
             "#7201a8"
            ],
            [
             0.3333333333333333,
             "#9c179e"
            ],
            [
             0.4444444444444444,
             "#bd3786"
            ],
            [
             0.5555555555555556,
             "#d8576b"
            ],
            [
             0.6666666666666666,
             "#ed7953"
            ],
            [
             0.7777777777777778,
             "#fb9f3a"
            ],
            [
             0.8888888888888888,
             "#fdca26"
            ],
            [
             1,
             "#f0f921"
            ]
           ],
           "sequentialminus": [
            [
             0,
             "#0d0887"
            ],
            [
             0.1111111111111111,
             "#46039f"
            ],
            [
             0.2222222222222222,
             "#7201a8"
            ],
            [
             0.3333333333333333,
             "#9c179e"
            ],
            [
             0.4444444444444444,
             "#bd3786"
            ],
            [
             0.5555555555555556,
             "#d8576b"
            ],
            [
             0.6666666666666666,
             "#ed7953"
            ],
            [
             0.7777777777777778,
             "#fb9f3a"
            ],
            [
             0.8888888888888888,
             "#fdca26"
            ],
            [
             1,
             "#f0f921"
            ]
           ]
          },
          "colorway": [
           "#636efa",
           "#EF553B",
           "#00cc96",
           "#ab63fa",
           "#FFA15A",
           "#19d3f3",
           "#FF6692",
           "#B6E880",
           "#FF97FF",
           "#FECB52"
          ],
          "font": {
           "color": "#2a3f5f"
          },
          "geo": {
           "bgcolor": "white",
           "lakecolor": "white",
           "landcolor": "#E5ECF6",
           "showlakes": true,
           "showland": true,
           "subunitcolor": "white"
          },
          "hoverlabel": {
           "align": "left"
          },
          "hovermode": "closest",
          "mapbox": {
           "style": "light"
          },
          "paper_bgcolor": "white",
          "plot_bgcolor": "#E5ECF6",
          "polar": {
           "angularaxis": {
            "gridcolor": "white",
            "linecolor": "white",
            "ticks": ""
           },
           "bgcolor": "#E5ECF6",
           "radialaxis": {
            "gridcolor": "white",
            "linecolor": "white",
            "ticks": ""
           }
          },
          "scene": {
           "xaxis": {
            "backgroundcolor": "#E5ECF6",
            "gridcolor": "white",
            "gridwidth": 2,
            "linecolor": "white",
            "showbackground": true,
            "ticks": "",
            "zerolinecolor": "white"
           },
           "yaxis": {
            "backgroundcolor": "#E5ECF6",
            "gridcolor": "white",
            "gridwidth": 2,
            "linecolor": "white",
            "showbackground": true,
            "ticks": "",
            "zerolinecolor": "white"
           },
           "zaxis": {
            "backgroundcolor": "#E5ECF6",
            "gridcolor": "white",
            "gridwidth": 2,
            "linecolor": "white",
            "showbackground": true,
            "ticks": "",
            "zerolinecolor": "white"
           }
          },
          "shapedefaults": {
           "line": {
            "color": "#2a3f5f"
           }
          },
          "ternary": {
           "aaxis": {
            "gridcolor": "white",
            "linecolor": "white",
            "ticks": ""
           },
           "baxis": {
            "gridcolor": "white",
            "linecolor": "white",
            "ticks": ""
           },
           "bgcolor": "#E5ECF6",
           "caxis": {
            "gridcolor": "white",
            "linecolor": "white",
            "ticks": ""
           }
          },
          "title": {
           "x": 0.05
          },
          "xaxis": {
           "automargin": true,
           "gridcolor": "white",
           "linecolor": "white",
           "ticks": "",
           "title": {
            "standoff": 15
           },
           "zerolinecolor": "white",
           "zerolinewidth": 2
          },
          "yaxis": {
           "automargin": true,
           "gridcolor": "white",
           "linecolor": "white",
           "ticks": "",
           "title": {
            "standoff": 15
           },
           "zerolinecolor": "white",
           "zerolinewidth": 2
          }
         }
        },
        "title": {
         "text": " 26% of train stations account for 80% of found items"
        },
        "xaxis": {
         "anchor": "y",
         "autorange": true,
         "domain": [
          0,
          0.94
         ],
         "range": [
          -0.5,
          99.5
         ],
         "title": {
          "text": "Number of train stations"
         },
         "type": "linear"
        },
        "yaxis": {
         "anchor": "x",
         "autorange": true,
         "domain": [
          0,
          1
         ],
         "range": [
          19736.111111111117,
          288133.8888888889
         ],
         "title": {
          "text": "Cumulative count of found items"
         },
         "type": "linear"
        },
        "yaxis2": {
         "anchor": "x",
         "autorange": true,
         "overlaying": "y",
         "range": [
          2.210876033746242,
          4.642124557133498
         ],
         "side": "right",
         "title": {
          "text": "Found items per station"
         },
         "type": "log"
        }
       }
      },
      "image/png": "[encoded data removed]",
      "text/html": [
       "<div>\n",
       "        \n",
       "        \n",
       "            <div id=\"d159d56c-0199-4841-98d6-7fe16d272d0e\" class=\"plotly-graph-div\" style=\"height:525px; width:100%;\"></div>\n",
       "            <script type=\"text/javascript\">\n",
       "                require([\"plotly\"], function(Plotly) {\n",
       "                    window.PLOTLYENV=window.PLOTLYENV || {};\n",
       "                    \n",
       "                if (document.getElementById(\"d159d56c-0199-4841-98d6-7fe16d272d0e\")) {\n",
       "                    Plotly.newPlot(\n",
       "                        'd159d56c-0199-4841-98d6-7fe16d272d0e',\n",
       "                        [{\"hoverinfo\": \"text+y\", \"marker\": {\"color\": \"#007bff\"}, \"meta\": [33156, 23222, 22784, 21104, 11851, 11583, 9978, 9151, 7660, 7505, 6159, 5622, 4917, 4685, 4541, 4540, 4376, 3830, 3758, 3118, 3042, 2661, 2441, 2345, 2309, 2302, 2202, 2107, 1765, 1714, 1545, 1493, 1465, 1464, 1303, 1251, 1208, 1140, 1115, 1087, 1056, 1018, 962, 952, 934, 906, 896, 877, 876, 864, 833, 831, 827, 823, 804, 798, 763, 743, 740, 736, 734, 706, 682, 679, 652, 628, 603, 592, 581, 567, 547, 544, 539, 536, 533, 529, 520, 518, 508, 468, 461, 444, 442, 438, 354, 349, 347, 340, 316, 316, 311, 272, 261, 256, 248, 242, 237, 236, 225, 215], \"name\": \"Found items\", \"text\": [\"Paris Gare de Lyon\", \"Paris Montparnasse\", \"Paris Gare du Nord\", \"Paris Saint-Lazare\", \"Bordeaux Saint-Jean\", \"Strasbourg\", \"Paris Est\", \"Lyon Part Dieu\", \"Lille Europe\", \"Lyon Perrache\", \"Marseille Saint-Charles\", \"Nice\", \"Montpellier Saint-Roch\", \"Nantes\", \"Rennes\", \"Paris Austerlitz\", \"Rouen Rive Droite\", \"Toulouse Matabiau\", \"Dijon\", \"Metz Ville\", \"Orl\\u00e9ans\", \"Tours\", \"Caen\", \"Avignon TGV\", \"Nancy\", \"Mulhouse\", \"Poitiers\", \"La Rochelle\", \"Cannes\", \"Amiens\", \"Grenoble\", \"Quimper\", \"Colmar\", \"Toulon\", \"Annecy\", \"Bellegarde\", \"Aix-en-Provence TGV\", \"Brest\", \"Hendaye\", \"Saint-Pierre-des-Corps\", \"Perpignan\", \"A\\u00e9roport Charles de Gaulle 2 TGV\", \"Les Aubrais\", \"Agen\", \"Angoul\\u00eame\", \"Valence\", \"Limoges B\\u00e9n\\u00e9dictins\", \"Brive-la-Gaillarde\", \"Reims\", \"Bourges\", \"Clermont-Ferrand\", \"Le Mans\", \"Paris Bercy\", \"Angers Saint-Laud\", \"Vierzon\", \"Mantes-la-Jolie\", \"Creil\", \"Nevers\", \"Saint-\\u00c9tienne Ch\\u00e2teaucreux\", \"B\\u00e9ziers\", \"Besan\\u00e7on Viotte\", \"Massy TGV\", \"Chamb\\u00e9ry - Challes-les-Eaux\", \"Bourg-en-Bresse\", \"Niort\", \"Cherbourg\", \"Le Havre\", \"Narbonne\", \"P\\u00e9rigueux\", \"Arras\", \"Douai\", \"S\\u00e9lestat\", \"N\\u00eemes\", \"Bayonne\", \"Pau\", \"Dunkerque\", \"Dax\", \"Marne-la-Vall\\u00e9e Chessy\", \"Tourcoing\", \"Boulogne Ville\", \"Tarbes\", \"Blois - Chambord\", \"Saint-Nazaire\", \"Avignon Centre\", \"Compi\\u00e8gne\", \"Valence TGV Rh\\u00f4ne-Alpes Sud\", \"Ch\\u00e2teauroux\", \"Le Croisic\", \"Chartres\", \"Belfort - Montb\\u00e9liard TGV\", \"Valenciennes\", \"Saverne\", \"Vannes\", \"Lisieux\", \"Roanne\", \"Carcassonne\", \"Granville\", \"Trouville - Deauville\", \"Saintes\", \"Laval\"], \"type\": \"bar\", \"x\": [0, 1, 2, 3, 4, 5, 6, 7, 8, 9, 10, 11, 12, 13, 14, 15, 16, 17, 18, 19, 20, 21, 22, 23, 24, 25, 26, 27, 28, 29, 30, 31, 32, 33, 34, 35, 36, 37, 38, 39, 40, 41, 42, 43, 44, 45, 46, 47, 48, 49, 50, 51, 52, 53, 54, 55, 56, 57, 58, 59, 60, 61, 62, 63, 64, 65, 66, 67, 68, 69, 70, 71, 72, 73, 74, 75, 76, 77, 78, 79, 80, 81, 82, 83, 84, 85, 86, 87, 88, 89, 90, 91, 92, 93, 94, 95, 96, 97, 98, 99], \"xaxis\": \"x\", \"y\": [33156, 23222, 22784, 21104, 11851, 11583, 9978, 9151, 7660, 7505, 6159, 5622, 4917, 4685, 4541, 4540, 4376, 3830, 3758, 3118, 3042, 2661, 2441, 2345, 2309, 2302, 2202, 2107, 1765, 1714, 1545, 1493, 1465, 1464, 1303, 1251, 1208, 1140, 1115, 1087, 1056, 1018, 962, 952, 934, 906, 896, 877, 876, 864, 833, 831, 827, 823, 804, 798, 763, 743, 740, 736, 734, 706, 682, 679, 652, 628, 603, 592, 581, 567, 547, 544, 539, 536, 533, 529, 520, 518, 508, 468, 461, 444, 442, 438, 354, 349, 347, 340, 316, 316, 311, 272, 261, 256, 248, 242, 237, 236, 225, 215], \"yaxis\": \"y2\"}, {\"hoverinfo\": \"y\", \"meta\": [33156, 23222, 22784, 21104, 11851, 11583, 9978, 9151, 7660, 7505, 6159, 5622, 4917, 4685, 4541, 4540, 4376, 3830, 3758, 3118, 3042, 2661, 2441, 2345, 2309, 2302, 2202, 2107, 1765, 1714, 1545, 1493, 1465, 1464, 1303, 1251, 1208, 1140, 1115, 1087, 1056, 1018, 962, 952, 934, 906, 896, 877, 876, 864, 833, 831, 827, 823, 804, 798, 763, 743, 740, 736, 734, 706, 682, 679, 652, 628, 603, 592, 581, 567, 547, 544, 539, 536, 533, 529, 520, 518, 508, 468, 461, 444, 442, 438, 354, 349, 347, 340, 316, 316, 311, 272, 261, 256, 248, 242, 237, 236, 225, 215], \"name\": \"Cumulative sum\", \"text\": [\"Paris Gare de Lyon\", \"Paris Montparnasse\", \"Paris Gare du Nord\", \"Paris Saint-Lazare\", \"Bordeaux Saint-Jean\", \"Strasbourg\", \"Paris Est\", \"Lyon Part Dieu\", \"Lille Europe\", \"Lyon Perrache\", \"Marseille Saint-Charles\", \"Nice\", \"Montpellier Saint-Roch\", \"Nantes\", \"Rennes\", \"Paris Austerlitz\", \"Rouen Rive Droite\", \"Toulouse Matabiau\", \"Dijon\", \"Metz Ville\", \"Orl\\u00e9ans\", \"Tours\", \"Caen\", \"Avignon TGV\", \"Nancy\", \"Mulhouse\", \"Poitiers\", \"La Rochelle\", \"Cannes\", \"Amiens\", \"Grenoble\", \"Quimper\", \"Colmar\", \"Toulon\", \"Annecy\", \"Bellegarde\", \"Aix-en-Provence TGV\", \"Brest\", \"Hendaye\", \"Saint-Pierre-des-Corps\", \"Perpignan\", \"A\\u00e9roport Charles de Gaulle 2 TGV\", \"Les Aubrais\", \"Agen\", \"Angoul\\u00eame\", \"Valence\", \"Limoges B\\u00e9n\\u00e9dictins\", \"Brive-la-Gaillarde\", \"Reims\", \"Bourges\", \"Clermont-Ferrand\", \"Le Mans\", \"Paris Bercy\", \"Angers Saint-Laud\", \"Vierzon\", \"Mantes-la-Jolie\", \"Creil\", \"Nevers\", \"Saint-\\u00c9tienne Ch\\u00e2teaucreux\", \"B\\u00e9ziers\", \"Besan\\u00e7on Viotte\", \"Massy TGV\", \"Chamb\\u00e9ry - Challes-les-Eaux\", \"Bourg-en-Bresse\", \"Niort\", \"Cherbourg\", \"Le Havre\", \"Narbonne\", \"P\\u00e9rigueux\", \"Arras\", \"Douai\", \"S\\u00e9lestat\", \"N\\u00eemes\", \"Bayonne\", \"Pau\", \"Dunkerque\", \"Dax\", \"Marne-la-Vall\\u00e9e Chessy\", \"Tourcoing\", \"Boulogne Ville\", \"Tarbes\", \"Blois - Chambord\", \"Saint-Nazaire\", \"Avignon Centre\", \"Compi\\u00e8gne\", \"Valence TGV Rh\\u00f4ne-Alpes Sud\", \"Ch\\u00e2teauroux\", \"Le Croisic\", \"Chartres\", \"Belfort - Montb\\u00e9liard TGV\", \"Valenciennes\", \"Saverne\", \"Vannes\", \"Lisieux\", \"Roanne\", \"Carcassonne\", \"Granville\", \"Trouville - Deauville\", \"Saintes\", \"Laval\"], \"type\": \"scatter\", \"x\": [0, 1, 2, 3, 4, 5, 6, 7, 8, 9, 10, 11, 12, 13, 14, 15, 16, 17, 18, 19, 20, 21, 22, 23, 24, 25, 26, 27, 28, 29, 30, 31, 32, 33, 34, 35, 36, 37, 38, 39, 40, 41, 42, 43, 44, 45, 46, 47, 48, 49, 50, 51, 52, 53, 54, 55, 56, 57, 58, 59, 60, 61, 62, 63, 64, 65, 66, 67, 68, 69, 70, 71, 72, 73, 74, 75, 76, 77, 78, 79, 80, 81, 82, 83, 84, 85, 86, 87, 88, 89, 90, 91, 92, 93, 94, 95, 96, 97, 98, 99], \"y\": [33156, 56378, 79162, 100266, 112117, 123700, 133678, 142829, 150489, 157994, 164153, 169775, 174692, 179377, 183918, 188458, 192834, 196664, 200422, 203540, 206582, 209243, 211684, 214029, 216338, 218640, 220842, 222949, 224714, 226428, 227973, 229466, 230931, 232395, 233698, 234949, 236157, 237297, 238412, 239499, 240555, 241573, 242535, 243487, 244421, 245327, 246223, 247100, 247976, 248840, 249673, 250504, 251331, 252154, 252958, 253756, 254519, 255262, 256002, 256738, 257472, 258178, 258860, 259539, 260191, 260819, 261422, 262014, 262595, 263162, 263709, 264253, 264792, 265328, 265861, 266390, 266910, 267428, 267936, 268404, 268865, 269309, 269751, 270189, 270543, 270892, 271239, 271579, 271895, 272211, 272522, 272794, 273055, 273311, 273559, 273801, 274038, 274274, 274499, 274714]}],\n",
       "                        {\"margin\": {\"b\": 0, \"l\": 30, \"r\": 30, \"t\": 50}, \"template\": {\"data\": {\"bar\": [{\"error_x\": {\"color\": \"#2a3f5f\"}, \"error_y\": {\"color\": \"#2a3f5f\"}, \"marker\": {\"line\": {\"color\": \"#E5ECF6\", \"width\": 0.5}}, \"type\": \"bar\"}], \"barpolar\": [{\"marker\": {\"line\": {\"color\": \"#E5ECF6\", \"width\": 0.5}}, \"type\": \"barpolar\"}], \"carpet\": [{\"aaxis\": {\"endlinecolor\": \"#2a3f5f\", \"gridcolor\": \"white\", \"linecolor\": \"white\", \"minorgridcolor\": \"white\", \"startlinecolor\": \"#2a3f5f\"}, \"baxis\": {\"endlinecolor\": \"#2a3f5f\", \"gridcolor\": \"white\", \"linecolor\": \"white\", \"minorgridcolor\": \"white\", \"startlinecolor\": \"#2a3f5f\"}, \"type\": \"carpet\"}], \"choropleth\": [{\"colorbar\": {\"outlinewidth\": 0, \"ticks\": \"\"}, \"type\": \"choropleth\"}], \"contour\": [{\"colorbar\": {\"outlinewidth\": 0, \"ticks\": \"\"}, \"colorscale\": [[0.0, \"#0d0887\"], [0.1111111111111111, \"#46039f\"], [0.2222222222222222, \"#7201a8\"], [0.3333333333333333, \"#9c179e\"], [0.4444444444444444, \"#bd3786\"], [0.5555555555555556, \"#d8576b\"], [0.6666666666666666, \"#ed7953\"], [0.7777777777777778, \"#fb9f3a\"], [0.8888888888888888, \"#fdca26\"], [1.0, \"#f0f921\"]], \"type\": \"contour\"}], \"contourcarpet\": [{\"colorbar\": {\"outlinewidth\": 0, \"ticks\": \"\"}, \"type\": \"contourcarpet\"}], \"heatmap\": [{\"colorbar\": {\"outlinewidth\": 0, \"ticks\": \"\"}, \"colorscale\": [[0.0, \"#0d0887\"], [0.1111111111111111, \"#46039f\"], [0.2222222222222222, \"#7201a8\"], [0.3333333333333333, \"#9c179e\"], [0.4444444444444444, \"#bd3786\"], [0.5555555555555556, \"#d8576b\"], [0.6666666666666666, \"#ed7953\"], [0.7777777777777778, \"#fb9f3a\"], [0.8888888888888888, \"#fdca26\"], [1.0, \"#f0f921\"]], \"type\": \"heatmap\"}], \"heatmapgl\": [{\"colorbar\": {\"outlinewidth\": 0, \"ticks\": \"\"}, \"colorscale\": [[0.0, \"#0d0887\"], [0.1111111111111111, \"#46039f\"], [0.2222222222222222, \"#7201a8\"], [0.3333333333333333, \"#9c179e\"], [0.4444444444444444, \"#bd3786\"], [0.5555555555555556, \"#d8576b\"], [0.6666666666666666, \"#ed7953\"], [0.7777777777777778, \"#fb9f3a\"], [0.8888888888888888, \"#fdca26\"], [1.0, \"#f0f921\"]], \"type\": \"heatmapgl\"}], \"histogram\": [{\"marker\": {\"colorbar\": {\"outlinewidth\": 0, \"ticks\": \"\"}}, \"type\": \"histogram\"}], \"histogram2d\": [{\"colorbar\": {\"outlinewidth\": 0, \"ticks\": \"\"}, \"colorscale\": [[0.0, \"#0d0887\"], [0.1111111111111111, \"#46039f\"], [0.2222222222222222, \"#7201a8\"], [0.3333333333333333, \"#9c179e\"], [0.4444444444444444, \"#bd3786\"], [0.5555555555555556, \"#d8576b\"], [0.6666666666666666, \"#ed7953\"], [0.7777777777777778, \"#fb9f3a\"], [0.8888888888888888, \"#fdca26\"], [1.0, \"#f0f921\"]], \"type\": \"histogram2d\"}], \"histogram2dcontour\": [{\"colorbar\": {\"outlinewidth\": 0, \"ticks\": \"\"}, \"colorscale\": [[0.0, \"#0d0887\"], [0.1111111111111111, \"#46039f\"], [0.2222222222222222, \"#7201a8\"], [0.3333333333333333, \"#9c179e\"], [0.4444444444444444, \"#bd3786\"], [0.5555555555555556, \"#d8576b\"], [0.6666666666666666, \"#ed7953\"], [0.7777777777777778, \"#fb9f3a\"], [0.8888888888888888, \"#fdca26\"], [1.0, \"#f0f921\"]], \"type\": \"histogram2dcontour\"}], \"mesh3d\": [{\"colorbar\": {\"outlinewidth\": 0, \"ticks\": \"\"}, \"type\": \"mesh3d\"}], \"parcoords\": [{\"line\": {\"colorbar\": {\"outlinewidth\": 0, \"ticks\": \"\"}}, \"type\": \"parcoords\"}], \"pie\": [{\"automargin\": true, \"type\": \"pie\"}], \"scatter\": [{\"marker\": {\"colorbar\": {\"outlinewidth\": 0, \"ticks\": \"\"}}, \"type\": \"scatter\"}], \"scatter3d\": [{\"line\": {\"colorbar\": {\"outlinewidth\": 0, \"ticks\": \"\"}}, \"marker\": {\"colorbar\": {\"outlinewidth\": 0, \"ticks\": \"\"}}, \"type\": \"scatter3d\"}], \"scattercarpet\": [{\"marker\": {\"colorbar\": {\"outlinewidth\": 0, \"ticks\": \"\"}}, \"type\": \"scattercarpet\"}], \"scattergeo\": [{\"marker\": {\"colorbar\": {\"outlinewidth\": 0, \"ticks\": \"\"}}, \"type\": \"scattergeo\"}], \"scattergl\": [{\"marker\": {\"colorbar\": {\"outlinewidth\": 0, \"ticks\": \"\"}}, \"type\": \"scattergl\"}], \"scattermapbox\": [{\"marker\": {\"colorbar\": {\"outlinewidth\": 0, \"ticks\": \"\"}}, \"type\": \"scattermapbox\"}], \"scatterpolar\": [{\"marker\": {\"colorbar\": {\"outlinewidth\": 0, \"ticks\": \"\"}}, \"type\": \"scatterpolar\"}], \"scatterpolargl\": [{\"marker\": {\"colorbar\": {\"outlinewidth\": 0, \"ticks\": \"\"}}, \"type\": \"scatterpolargl\"}], \"scatterternary\": [{\"marker\": {\"colorbar\": {\"outlinewidth\": 0, \"ticks\": \"\"}}, \"type\": \"scatterternary\"}], \"surface\": [{\"colorbar\": {\"outlinewidth\": 0, \"ticks\": \"\"}, \"colorscale\": [[0.0, \"#0d0887\"], [0.1111111111111111, \"#46039f\"], [0.2222222222222222, \"#7201a8\"], [0.3333333333333333, \"#9c179e\"], [0.4444444444444444, \"#bd3786\"], [0.5555555555555556, \"#d8576b\"], [0.6666666666666666, \"#ed7953\"], [0.7777777777777778, \"#fb9f3a\"], [0.8888888888888888, \"#fdca26\"], [1.0, \"#f0f921\"]], \"type\": \"surface\"}], \"table\": [{\"cells\": {\"fill\": {\"color\": \"#EBF0F8\"}, \"line\": {\"color\": \"white\"}}, \"header\": {\"fill\": {\"color\": \"#C8D4E3\"}, \"line\": {\"color\": \"white\"}}, \"type\": \"table\"}]}, \"layout\": {\"annotationdefaults\": {\"arrowcolor\": \"#2a3f5f\", \"arrowhead\": 0, \"arrowwidth\": 1}, \"coloraxis\": {\"colorbar\": {\"outlinewidth\": 0, \"ticks\": \"\"}}, \"colorscale\": {\"diverging\": [[0, \"#8e0152\"], [0.1, \"#c51b7d\"], [0.2, \"#de77ae\"], [0.3, \"#f1b6da\"], [0.4, \"#fde0ef\"], [0.5, \"#f7f7f7\"], [0.6, \"#e6f5d0\"], [0.7, \"#b8e186\"], [0.8, \"#7fbc41\"], [0.9, \"#4d9221\"], [1, \"#276419\"]], \"sequential\": [[0.0, \"#0d0887\"], [0.1111111111111111, \"#46039f\"], [0.2222222222222222, \"#7201a8\"], [0.3333333333333333, \"#9c179e\"], [0.4444444444444444, \"#bd3786\"], [0.5555555555555556, \"#d8576b\"], [0.6666666666666666, \"#ed7953\"], [0.7777777777777778, \"#fb9f3a\"], [0.8888888888888888, \"#fdca26\"], [1.0, \"#f0f921\"]], \"sequentialminus\": [[0.0, \"#0d0887\"], [0.1111111111111111, \"#46039f\"], [0.2222222222222222, \"#7201a8\"], [0.3333333333333333, \"#9c179e\"], [0.4444444444444444, \"#bd3786\"], [0.5555555555555556, \"#d8576b\"], [0.6666666666666666, \"#ed7953\"], [0.7777777777777778, \"#fb9f3a\"], [0.8888888888888888, \"#fdca26\"], [1.0, \"#f0f921\"]]}, \"colorway\": [\"#636efa\", \"#EF553B\", \"#00cc96\", \"#ab63fa\", \"#FFA15A\", \"#19d3f3\", \"#FF6692\", \"#B6E880\", \"#FF97FF\", \"#FECB52\"], \"font\": {\"color\": \"#2a3f5f\"}, \"geo\": {\"bgcolor\": \"white\", \"lakecolor\": \"white\", \"landcolor\": \"#E5ECF6\", \"showlakes\": true, \"showland\": true, \"subunitcolor\": \"white\"}, \"hoverlabel\": {\"align\": \"left\"}, \"hovermode\": \"closest\", \"mapbox\": {\"style\": \"light\"}, \"paper_bgcolor\": \"white\", \"plot_bgcolor\": \"#E5ECF6\", \"polar\": {\"angularaxis\": {\"gridcolor\": \"white\", \"linecolor\": \"white\", \"ticks\": \"\"}, \"bgcolor\": \"#E5ECF6\", \"radialaxis\": {\"gridcolor\": \"white\", \"linecolor\": \"white\", \"ticks\": \"\"}}, \"scene\": {\"xaxis\": {\"backgroundcolor\": \"#E5ECF6\", \"gridcolor\": \"white\", \"gridwidth\": 2, \"linecolor\": \"white\", \"showbackground\": true, \"ticks\": \"\", \"zerolinecolor\": \"white\"}, \"yaxis\": {\"backgroundcolor\": \"#E5ECF6\", \"gridcolor\": \"white\", \"gridwidth\": 2, \"linecolor\": \"white\", \"showbackground\": true, \"ticks\": \"\", \"zerolinecolor\": \"white\"}, \"zaxis\": {\"backgroundcolor\": \"#E5ECF6\", \"gridcolor\": \"white\", \"gridwidth\": 2, \"linecolor\": \"white\", \"showbackground\": true, \"ticks\": \"\", \"zerolinecolor\": \"white\"}}, \"shapedefaults\": {\"line\": {\"color\": \"#2a3f5f\"}}, \"ternary\": {\"aaxis\": {\"gridcolor\": \"white\", \"linecolor\": \"white\", \"ticks\": \"\"}, \"baxis\": {\"gridcolor\": \"white\", \"linecolor\": \"white\", \"ticks\": \"\"}, \"bgcolor\": \"#E5ECF6\", \"caxis\": {\"gridcolor\": \"white\", \"linecolor\": \"white\", \"ticks\": \"\"}}, \"title\": {\"x\": 0.05}, \"xaxis\": {\"automargin\": true, \"gridcolor\": \"white\", \"linecolor\": \"white\", \"ticks\": \"\", \"title\": {\"standoff\": 15}, \"zerolinecolor\": \"white\", \"zerolinewidth\": 2}, \"yaxis\": {\"automargin\": true, \"gridcolor\": \"white\", \"linecolor\": \"white\", \"ticks\": \"\", \"title\": {\"standoff\": 15}, \"zerolinecolor\": \"white\", \"zerolinewidth\": 2}}}, \"title\": {\"text\": \" 26% of train stations account for 80% of found items\"}, \"xaxis\": {\"anchor\": \"y\", \"domain\": [0.0, 0.94], \"title\": {\"text\": \"Number of train stations\"}}, \"yaxis\": {\"anchor\": \"x\", \"domain\": [0.0, 1.0], \"title\": {\"text\": \"Cumulative count of found items\"}}, \"yaxis2\": {\"anchor\": \"x\", \"overlaying\": \"y\", \"side\": \"right\", \"title\": {\"text\": \"Found items per station\"}, \"type\": \"log\"}},\n",
       "                        {\"responsive\": true}\n",
       "                    ).then(function(){\n",
       "                            \n",
       "var gd = document.getElementById('d159d56c-0199-4841-98d6-7fe16d272d0e');\n",
       "var x = new MutationObserver(function (mutations, observer) {{\n",
       "        var display = window.getComputedStyle(gd).display;\n",
       "        if (!display || display === 'none') {{\n",
       "            console.log([gd, 'removed!']);\n",
       "            Plotly.purge(gd);\n",
       "            observer.disconnect();\n",
       "        }}\n",
       "}});\n",
       "\n",
       "// Listen for the removal of the full notebook cells\n",
       "var notebookContainer = gd.closest('#notebook-container');\n",
       "if (notebookContainer) {{\n",
       "    x.observe(notebookContainer, {childList: true});\n",
       "}}\n",
       "\n",
       "// Listen for the clearing of the current output cell\n",
       "var outputEl = gd.closest('.output');\n",
       "if (outputEl) {{\n",
       "    x.observe(outputEl, {childList: true});\n",
       "}}\n",
       "\n",
       "                        })\n",
       "                };\n",
       "                });\n",
       "            </script>\n",
       "        </div>"
      ]
     },
     "metadata": {},
     "output_type": "display_data"
    }
   ],
   "source": [
    "fig = go.Figure()\n",
    "fig = make_subplots(specs=[[{\"secondary_y\": True}]])\n",
    "\n",
    "fig.add_trace(\n",
    "    go.Bar(\n",
    "        x=np.arange(len(df_grouped)), \n",
    "        y=df_grouped, \n",
    "        text=df_grouped.index,\n",
    "        meta = df_grouped,\n",
    "        hoverinfo=\"text+y\",\n",
    "        name=\"Found items\",\n",
    "        marker_color=\"#007bff\"\n",
    "    ),\n",
    "    secondary_y=True,\n",
    ")\n",
    "\n",
    "\n",
    "fig.add_trace(go.Scatter(\n",
    "    x=np.arange(len(df_cumsum)), \n",
    "    y=df_cumsum, \n",
    "    text=df_cumsum.index,\n",
    "    meta = df_grouped,\n",
    "    hoverinfo=\"y\",\n",
    "    name='Cumulative sum'\n",
    "))\n",
    "\n",
    "\n",
    "fig.update_layout(\n",
    "    title=f'{pareto/len(df_cumsum) : 2.0%} of train stations account for 80% of found items',\n",
    "    margin={'l': 30, 'r': 30, 't': 50, 'b': 0},\n",
    "\n",
    ")\n",
    "\n",
    "fig.update_xaxes(title_text=\"Number of train stations\")\n",
    "fig.update_yaxes(title_text=\"Cumulative count of found items\", secondary_y=False)\n",
    "fig.update_yaxes(title_text=\"Found items per station\", secondary_y=True, type=\"log\")\n",
    "fig.show()"
   ]
  },
  {
   "cell_type": "code",
   "execution_count": 103,
   "metadata": {},
   "outputs": [
    {
     "data": {
      "text/plain": [
       "'https://plotly.com/~hugolmn/14/'"
      ]
     },
     "execution_count": 103,
     "metadata": {},
     "output_type": "execute_result"
    }
   ],
   "source": [
    "py.plot(fig, filename = 'sncf-found-items', auto_open=True)"
   ]
  },
  {
   "cell_type": "code",
   "execution_count": 105,
   "metadata": {},
   "outputs": [
    {
     "data": {
      "application/vnd.plotly.v1+json": {
       "config": {
        "plotlyServerURL": "https://plotly.com"
       },
       "data": [
        {
         "hoverinfo": "text+y",
         "marker": {
          "color": "#007bff"
         },
         "meta": [
          33156,
          23222,
          22784,
          21104,
          11851,
          11583,
          9978,
          9151,
          7660,
          7505,
          6159,
          5622,
          4917,
          4685,
          4541,
          4540,
          4376,
          3830,
          3758,
          3118,
          3042,
          2661,
          2441,
          2345,
          2309,
          2302,
          2202,
          2107,
          1765,
          1714,
          1545,
          1493,
          1465,
          1464,
          1303,
          1251,
          1208,
          1140,
          1115,
          1087,
          1056,
          1018,
          962,
          952,
          934,
          906,
          896,
          877,
          876,
          864,
          833,
          831,
          827,
          823,
          804,
          798,
          763,
          743,
          740,
          736,
          734,
          706,
          682,
          679,
          652,
          628,
          603,
          592,
          581,
          567,
          547,
          544,
          539,
          536,
          533,
          529,
          520,
          518,
          508,
          468,
          461,
          444,
          442,
          438,
          354,
          349,
          347,
          340,
          316,
          316,
          311,
          272,
          261,
          256,
          248,
          242,
          237,
          236,
          225,
          215
         ],
         "name": "Found items",
         "text": [
          "Paris Gare de Lyon",
          "Paris Montparnasse",
          "Paris Gare du Nord",
          "Paris Saint-Lazare",
          "Bordeaux Saint-Jean",
          "Strasbourg",
          "Paris Est",
          "Lyon Part Dieu",
          "Lille Europe",
          "Lyon Perrache",
          "Marseille Saint-Charles",
          "Nice",
          "Montpellier Saint-Roch",
          "Nantes",
          "Rennes",
          "Paris Austerlitz",
          "Rouen Rive Droite",
          "Toulouse Matabiau",
          "Dijon",
          "Metz Ville",
          "Orléans",
          "Tours",
          "Caen",
          "Avignon TGV",
          "Nancy",
          "Mulhouse",
          "Poitiers",
          "La Rochelle",
          "Cannes",
          "Amiens",
          "Grenoble",
          "Quimper",
          "Colmar",
          "Toulon",
          "Annecy",
          "Bellegarde",
          "Aix-en-Provence TGV",
          "Brest",
          "Hendaye",
          "Saint-Pierre-des-Corps",
          "Perpignan",
          "Aéroport Charles de Gaulle 2 TGV",
          "Les Aubrais",
          "Agen",
          "Angoulême",
          "Valence",
          "Limoges Bénédictins",
          "Brive-la-Gaillarde",
          "Reims",
          "Bourges",
          "Clermont-Ferrand",
          "Le Mans",
          "Paris Bercy",
          "Angers Saint-Laud",
          "Vierzon",
          "Mantes-la-Jolie",
          "Creil",
          "Nevers",
          "Saint-Étienne Châteaucreux",
          "Béziers",
          "Besançon Viotte",
          "Massy TGV",
          "Chambéry - Challes-les-Eaux",
          "Bourg-en-Bresse",
          "Niort",
          "Cherbourg",
          "Le Havre",
          "Narbonne",
          "Périgueux",
          "Arras",
          "Douai",
          "Sélestat",
          "Nîmes",
          "Bayonne",
          "Pau",
          "Dunkerque",
          "Dax",
          "Marne-la-Vallée Chessy",
          "Tourcoing",
          "Boulogne Ville",
          "Tarbes",
          "Blois - Chambord",
          "Saint-Nazaire",
          "Avignon Centre",
          "Compiègne",
          "Valence TGV Rhône-Alpes Sud",
          "Châteauroux",
          "Le Croisic",
          "Chartres",
          "Belfort - Montbéliard TGV",
          "Valenciennes",
          "Saverne",
          "Vannes",
          "Lisieux",
          "Roanne",
          "Carcassonne",
          "Granville",
          "Trouville - Deauville",
          "Saintes",
          "Laval"
         ],
         "type": "bar",
         "x": [
          0,
          1,
          2,
          3,
          4,
          5,
          6,
          7,
          8,
          9,
          10,
          11,
          12,
          13,
          14,
          15,
          16,
          17,
          18,
          19,
          20,
          21,
          22,
          23,
          24,
          25,
          26,
          27,
          28,
          29,
          30,
          31,
          32,
          33,
          34,
          35,
          36,
          37,
          38,
          39,
          40,
          41,
          42,
          43,
          44,
          45,
          46,
          47,
          48,
          49,
          50,
          51,
          52,
          53,
          54,
          55,
          56,
          57,
          58,
          59,
          60,
          61,
          62,
          63,
          64,
          65,
          66,
          67,
          68,
          69,
          70,
          71,
          72,
          73,
          74,
          75,
          76,
          77,
          78,
          79,
          80,
          81,
          82,
          83,
          84,
          85,
          86,
          87,
          88,
          89,
          90,
          91,
          92,
          93,
          94,
          95,
          96,
          97,
          98,
          99
         ],
         "xaxis": "x",
         "y": [
          33156,
          23222,
          22784,
          21104,
          11851,
          11583,
          9978,
          9151,
          7660,
          7505,
          6159,
          5622,
          4917,
          4685,
          4541,
          4540,
          4376,
          3830,
          3758,
          3118,
          3042,
          2661,
          2441,
          2345,
          2309,
          2302,
          2202,
          2107,
          1765,
          1714,
          1545,
          1493,
          1465,
          1464,
          1303,
          1251,
          1208,
          1140,
          1115,
          1087,
          1056,
          1018,
          962,
          952,
          934,
          906,
          896,
          877,
          876,
          864,
          833,
          831,
          827,
          823,
          804,
          798,
          763,
          743,
          740,
          736,
          734,
          706,
          682,
          679,
          652,
          628,
          603,
          592,
          581,
          567,
          547,
          544,
          539,
          536,
          533,
          529,
          520,
          518,
          508,
          468,
          461,
          444,
          442,
          438,
          354,
          349,
          347,
          340,
          316,
          316,
          311,
          272,
          261,
          256,
          248,
          242,
          237,
          236,
          225,
          215
         ],
         "yaxis": "y"
        },
        {
         "hoverinfo": "y",
         "meta": [
          33156,
          23222,
          22784,
          21104,
          11851,
          11583,
          9978,
          9151,
          7660,
          7505,
          6159,
          5622,
          4917,
          4685,
          4541,
          4540,
          4376,
          3830,
          3758,
          3118,
          3042,
          2661,
          2441,
          2345,
          2309,
          2302,
          2202,
          2107,
          1765,
          1714,
          1545,
          1493,
          1465,
          1464,
          1303,
          1251,
          1208,
          1140,
          1115,
          1087,
          1056,
          1018,
          962,
          952,
          934,
          906,
          896,
          877,
          876,
          864,
          833,
          831,
          827,
          823,
          804,
          798,
          763,
          743,
          740,
          736,
          734,
          706,
          682,
          679,
          652,
          628,
          603,
          592,
          581,
          567,
          547,
          544,
          539,
          536,
          533,
          529,
          520,
          518,
          508,
          468,
          461,
          444,
          442,
          438,
          354,
          349,
          347,
          340,
          316,
          316,
          311,
          272,
          261,
          256,
          248,
          242,
          237,
          236,
          225,
          215
         ],
         "name": "Cumulative sum",
         "text": [
          "Paris Gare de Lyon",
          "Paris Montparnasse",
          "Paris Gare du Nord",
          "Paris Saint-Lazare",
          "Bordeaux Saint-Jean",
          "Strasbourg",
          "Paris Est",
          "Lyon Part Dieu",
          "Lille Europe",
          "Lyon Perrache",
          "Marseille Saint-Charles",
          "Nice",
          "Montpellier Saint-Roch",
          "Nantes",
          "Rennes",
          "Paris Austerlitz",
          "Rouen Rive Droite",
          "Toulouse Matabiau",
          "Dijon",
          "Metz Ville",
          "Orléans",
          "Tours",
          "Caen",
          "Avignon TGV",
          "Nancy",
          "Mulhouse",
          "Poitiers",
          "La Rochelle",
          "Cannes",
          "Amiens",
          "Grenoble",
          "Quimper",
          "Colmar",
          "Toulon",
          "Annecy",
          "Bellegarde",
          "Aix-en-Provence TGV",
          "Brest",
          "Hendaye",
          "Saint-Pierre-des-Corps",
          "Perpignan",
          "Aéroport Charles de Gaulle 2 TGV",
          "Les Aubrais",
          "Agen",
          "Angoulême",
          "Valence",
          "Limoges Bénédictins",
          "Brive-la-Gaillarde",
          "Reims",
          "Bourges",
          "Clermont-Ferrand",
          "Le Mans",
          "Paris Bercy",
          "Angers Saint-Laud",
          "Vierzon",
          "Mantes-la-Jolie",
          "Creil",
          "Nevers",
          "Saint-Étienne Châteaucreux",
          "Béziers",
          "Besançon Viotte",
          "Massy TGV",
          "Chambéry - Challes-les-Eaux",
          "Bourg-en-Bresse",
          "Niort",
          "Cherbourg",
          "Le Havre",
          "Narbonne",
          "Périgueux",
          "Arras",
          "Douai",
          "Sélestat",
          "Nîmes",
          "Bayonne",
          "Pau",
          "Dunkerque",
          "Dax",
          "Marne-la-Vallée Chessy",
          "Tourcoing",
          "Boulogne Ville",
          "Tarbes",
          "Blois - Chambord",
          "Saint-Nazaire",
          "Avignon Centre",
          "Compiègne",
          "Valence TGV Rhône-Alpes Sud",
          "Châteauroux",
          "Le Croisic",
          "Chartres",
          "Belfort - Montbéliard TGV",
          "Valenciennes",
          "Saverne",
          "Vannes",
          "Lisieux",
          "Roanne",
          "Carcassonne",
          "Granville",
          "Trouville - Deauville",
          "Saintes",
          "Laval"
         ],
         "type": "scatter",
         "x": [
          0,
          1,
          2,
          3,
          4,
          5,
          6,
          7,
          8,
          9,
          10,
          11,
          12,
          13,
          14,
          15,
          16,
          17,
          18,
          19,
          20,
          21,
          22,
          23,
          24,
          25,
          26,
          27,
          28,
          29,
          30,
          31,
          32,
          33,
          34,
          35,
          36,
          37,
          38,
          39,
          40,
          41,
          42,
          43,
          44,
          45,
          46,
          47,
          48,
          49,
          50,
          51,
          52,
          53,
          54,
          55,
          56,
          57,
          58,
          59,
          60,
          61,
          62,
          63,
          64,
          65,
          66,
          67,
          68,
          69,
          70,
          71,
          72,
          73,
          74,
          75,
          76,
          77,
          78,
          79,
          80,
          81,
          82,
          83,
          84,
          85,
          86,
          87,
          88,
          89,
          90,
          91,
          92,
          93,
          94,
          95,
          96,
          97,
          98,
          99
         ],
         "xaxis": "x2",
         "y": [
          33156,
          56378,
          79162,
          100266,
          112117,
          123700,
          133678,
          142829,
          150489,
          157994,
          164153,
          169775,
          174692,
          179377,
          183918,
          188458,
          192834,
          196664,
          200422,
          203540,
          206582,
          209243,
          211684,
          214029,
          216338,
          218640,
          220842,
          222949,
          224714,
          226428,
          227973,
          229466,
          230931,
          232395,
          233698,
          234949,
          236157,
          237297,
          238412,
          239499,
          240555,
          241573,
          242535,
          243487,
          244421,
          245327,
          246223,
          247100,
          247976,
          248840,
          249673,
          250504,
          251331,
          252154,
          252958,
          253756,
          254519,
          255262,
          256002,
          256738,
          257472,
          258178,
          258860,
          259539,
          260191,
          260819,
          261422,
          262014,
          262595,
          263162,
          263709,
          264253,
          264792,
          265328,
          265861,
          266390,
          266910,
          267428,
          267936,
          268404,
          268865,
          269309,
          269751,
          270189,
          270543,
          270892,
          271239,
          271579,
          271895,
          272211,
          272522,
          272794,
          273055,
          273311,
          273559,
          273801,
          274038,
          274274,
          274499,
          274714
         ],
         "yaxis": "y2"
        }
       ],
       "layout": {
        "autosize": true,
        "margin": {
         "b": 0,
         "l": 0,
         "r": 0,
         "t": 35
        },
        "template": {
         "data": {
          "bar": [
           {
            "error_x": {
             "color": "#2a3f5f"
            },
            "error_y": {
             "color": "#2a3f5f"
            },
            "marker": {
             "line": {
              "color": "#E5ECF6",
              "width": 0.5
             }
            },
            "type": "bar"
           }
          ],
          "barpolar": [
           {
            "marker": {
             "line": {
              "color": "#E5ECF6",
              "width": 0.5
             }
            },
            "type": "barpolar"
           }
          ],
          "carpet": [
           {
            "aaxis": {
             "endlinecolor": "#2a3f5f",
             "gridcolor": "white",
             "linecolor": "white",
             "minorgridcolor": "white",
             "startlinecolor": "#2a3f5f"
            },
            "baxis": {
             "endlinecolor": "#2a3f5f",
             "gridcolor": "white",
             "linecolor": "white",
             "minorgridcolor": "white",
             "startlinecolor": "#2a3f5f"
            },
            "type": "carpet"
           }
          ],
          "choropleth": [
           {
            "colorbar": {
             "outlinewidth": 0,
             "ticks": ""
            },
            "type": "choropleth"
           }
          ],
          "contour": [
           {
            "colorbar": {
             "outlinewidth": 0,
             "ticks": ""
            },
            "colorscale": [
             [
              0,
              "#0d0887"
             ],
             [
              0.1111111111111111,
              "#46039f"
             ],
             [
              0.2222222222222222,
              "#7201a8"
             ],
             [
              0.3333333333333333,
              "#9c179e"
             ],
             [
              0.4444444444444444,
              "#bd3786"
             ],
             [
              0.5555555555555556,
              "#d8576b"
             ],
             [
              0.6666666666666666,
              "#ed7953"
             ],
             [
              0.7777777777777778,
              "#fb9f3a"
             ],
             [
              0.8888888888888888,
              "#fdca26"
             ],
             [
              1,
              "#f0f921"
             ]
            ],
            "type": "contour"
           }
          ],
          "contourcarpet": [
           {
            "colorbar": {
             "outlinewidth": 0,
             "ticks": ""
            },
            "type": "contourcarpet"
           }
          ],
          "heatmap": [
           {
            "colorbar": {
             "outlinewidth": 0,
             "ticks": ""
            },
            "colorscale": [
             [
              0,
              "#0d0887"
             ],
             [
              0.1111111111111111,
              "#46039f"
             ],
             [
              0.2222222222222222,
              "#7201a8"
             ],
             [
              0.3333333333333333,
              "#9c179e"
             ],
             [
              0.4444444444444444,
              "#bd3786"
             ],
             [
              0.5555555555555556,
              "#d8576b"
             ],
             [
              0.6666666666666666,
              "#ed7953"
             ],
             [
              0.7777777777777778,
              "#fb9f3a"
             ],
             [
              0.8888888888888888,
              "#fdca26"
             ],
             [
              1,
              "#f0f921"
             ]
            ],
            "type": "heatmap"
           }
          ],
          "heatmapgl": [
           {
            "colorbar": {
             "outlinewidth": 0,
             "ticks": ""
            },
            "colorscale": [
             [
              0,
              "#0d0887"
             ],
             [
              0.1111111111111111,
              "#46039f"
             ],
             [
              0.2222222222222222,
              "#7201a8"
             ],
             [
              0.3333333333333333,
              "#9c179e"
             ],
             [
              0.4444444444444444,
              "#bd3786"
             ],
             [
              0.5555555555555556,
              "#d8576b"
             ],
             [
              0.6666666666666666,
              "#ed7953"
             ],
             [
              0.7777777777777778,
              "#fb9f3a"
             ],
             [
              0.8888888888888888,
              "#fdca26"
             ],
             [
              1,
              "#f0f921"
             ]
            ],
            "type": "heatmapgl"
           }
          ],
          "histogram": [
           {
            "marker": {
             "colorbar": {
              "outlinewidth": 0,
              "ticks": ""
             }
            },
            "type": "histogram"
           }
          ],
          "histogram2d": [
           {
            "colorbar": {
             "outlinewidth": 0,
             "ticks": ""
            },
            "colorscale": [
             [
              0,
              "#0d0887"
             ],
             [
              0.1111111111111111,
              "#46039f"
             ],
             [
              0.2222222222222222,
              "#7201a8"
             ],
             [
              0.3333333333333333,
              "#9c179e"
             ],
             [
              0.4444444444444444,
              "#bd3786"
             ],
             [
              0.5555555555555556,
              "#d8576b"
             ],
             [
              0.6666666666666666,
              "#ed7953"
             ],
             [
              0.7777777777777778,
              "#fb9f3a"
             ],
             [
              0.8888888888888888,
              "#fdca26"
             ],
             [
              1,
              "#f0f921"
             ]
            ],
            "type": "histogram2d"
           }
          ],
          "histogram2dcontour": [
           {
            "colorbar": {
             "outlinewidth": 0,
             "ticks": ""
            },
            "colorscale": [
             [
              0,
              "#0d0887"
             ],
             [
              0.1111111111111111,
              "#46039f"
             ],
             [
              0.2222222222222222,
              "#7201a8"
             ],
             [
              0.3333333333333333,
              "#9c179e"
             ],
             [
              0.4444444444444444,
              "#bd3786"
             ],
             [
              0.5555555555555556,
              "#d8576b"
             ],
             [
              0.6666666666666666,
              "#ed7953"
             ],
             [
              0.7777777777777778,
              "#fb9f3a"
             ],
             [
              0.8888888888888888,
              "#fdca26"
             ],
             [
              1,
              "#f0f921"
             ]
            ],
            "type": "histogram2dcontour"
           }
          ],
          "mesh3d": [
           {
            "colorbar": {
             "outlinewidth": 0,
             "ticks": ""
            },
            "type": "mesh3d"
           }
          ],
          "parcoords": [
           {
            "line": {
             "colorbar": {
              "outlinewidth": 0,
              "ticks": ""
             }
            },
            "type": "parcoords"
           }
          ],
          "pie": [
           {
            "automargin": true,
            "type": "pie"
           }
          ],
          "scatter": [
           {
            "marker": {
             "colorbar": {
              "outlinewidth": 0,
              "ticks": ""
             }
            },
            "type": "scatter"
           }
          ],
          "scatter3d": [
           {
            "line": {
             "colorbar": {
              "outlinewidth": 0,
              "ticks": ""
             }
            },
            "marker": {
             "colorbar": {
              "outlinewidth": 0,
              "ticks": ""
             }
            },
            "type": "scatter3d"
           }
          ],
          "scattercarpet": [
           {
            "marker": {
             "colorbar": {
              "outlinewidth": 0,
              "ticks": ""
             }
            },
            "type": "scattercarpet"
           }
          ],
          "scattergeo": [
           {
            "marker": {
             "colorbar": {
              "outlinewidth": 0,
              "ticks": ""
             }
            },
            "type": "scattergeo"
           }
          ],
          "scattergl": [
           {
            "marker": {
             "colorbar": {
              "outlinewidth": 0,
              "ticks": ""
             }
            },
            "type": "scattergl"
           }
          ],
          "scattermapbox": [
           {
            "marker": {
             "colorbar": {
              "outlinewidth": 0,
              "ticks": ""
             }
            },
            "type": "scattermapbox"
           }
          ],
          "scatterpolar": [
           {
            "marker": {
             "colorbar": {
              "outlinewidth": 0,
              "ticks": ""
             }
            },
            "type": "scatterpolar"
           }
          ],
          "scatterpolargl": [
           {
            "marker": {
             "colorbar": {
              "outlinewidth": 0,
              "ticks": ""
             }
            },
            "type": "scatterpolargl"
           }
          ],
          "scatterternary": [
           {
            "marker": {
             "colorbar": {
              "outlinewidth": 0,
              "ticks": ""
             }
            },
            "type": "scatterternary"
           }
          ],
          "surface": [
           {
            "colorbar": {
             "outlinewidth": 0,
             "ticks": ""
            },
            "colorscale": [
             [
              0,
              "#0d0887"
             ],
             [
              0.1111111111111111,
              "#46039f"
             ],
             [
              0.2222222222222222,
              "#7201a8"
             ],
             [
              0.3333333333333333,
              "#9c179e"
             ],
             [
              0.4444444444444444,
              "#bd3786"
             ],
             [
              0.5555555555555556,
              "#d8576b"
             ],
             [
              0.6666666666666666,
              "#ed7953"
             ],
             [
              0.7777777777777778,
              "#fb9f3a"
             ],
             [
              0.8888888888888888,
              "#fdca26"
             ],
             [
              1,
              "#f0f921"
             ]
            ],
            "type": "surface"
           }
          ],
          "table": [
           {
            "cells": {
             "fill": {
              "color": "#EBF0F8"
             },
             "line": {
              "color": "white"
             }
            },
            "header": {
             "fill": {
              "color": "#C8D4E3"
             },
             "line": {
              "color": "white"
             }
            },
            "type": "table"
           }
          ]
         },
         "layout": {
          "annotationdefaults": {
           "arrowcolor": "#2a3f5f",
           "arrowhead": 0,
           "arrowwidth": 1
          },
          "coloraxis": {
           "colorbar": {
            "outlinewidth": 0,
            "ticks": ""
           }
          },
          "colorscale": {
           "diverging": [
            [
             0,
             "#8e0152"
            ],
            [
             0.1,
             "#c51b7d"
            ],
            [
             0.2,
             "#de77ae"
            ],
            [
             0.3,
             "#f1b6da"
            ],
            [
             0.4,
             "#fde0ef"
            ],
            [
             0.5,
             "#f7f7f7"
            ],
            [
             0.6,
             "#e6f5d0"
            ],
            [
             0.7,
             "#b8e186"
            ],
            [
             0.8,
             "#7fbc41"
            ],
            [
             0.9,
             "#4d9221"
            ],
            [
             1,
             "#276419"
            ]
           ],
           "sequential": [
            [
             0,
             "#0d0887"
            ],
            [
             0.1111111111111111,
             "#46039f"
            ],
            [
             0.2222222222222222,
             "#7201a8"
            ],
            [
             0.3333333333333333,
             "#9c179e"
            ],
            [
             0.4444444444444444,
             "#bd3786"
            ],
            [
             0.5555555555555556,
             "#d8576b"
            ],
            [
             0.6666666666666666,
             "#ed7953"
            ],
            [
             0.7777777777777778,
             "#fb9f3a"
            ],
            [
             0.8888888888888888,
             "#fdca26"
            ],
            [
             1,
             "#f0f921"
            ]
           ],
           "sequentialminus": [
            [
             0,
             "#0d0887"
            ],
            [
             0.1111111111111111,
             "#46039f"
            ],
            [
             0.2222222222222222,
             "#7201a8"
            ],
            [
             0.3333333333333333,
             "#9c179e"
            ],
            [
             0.4444444444444444,
             "#bd3786"
            ],
            [
             0.5555555555555556,
             "#d8576b"
            ],
            [
             0.6666666666666666,
             "#ed7953"
            ],
            [
             0.7777777777777778,
             "#fb9f3a"
            ],
            [
             0.8888888888888888,
             "#fdca26"
            ],
            [
             1,
             "#f0f921"
            ]
           ]
          },
          "colorway": [
           "#636efa",
           "#EF553B",
           "#00cc96",
           "#ab63fa",
           "#FFA15A",
           "#19d3f3",
           "#FF6692",
           "#B6E880",
           "#FF97FF",
           "#FECB52"
          ],
          "font": {
           "color": "#2a3f5f"
          },
          "geo": {
           "bgcolor": "white",
           "lakecolor": "white",
           "landcolor": "#E5ECF6",
           "showlakes": true,
           "showland": true,
           "subunitcolor": "white"
          },
          "hoverlabel": {
           "align": "left"
          },
          "hovermode": "closest",
          "mapbox": {
           "style": "light"
          },
          "paper_bgcolor": "white",
          "plot_bgcolor": "#E5ECF6",
          "polar": {
           "angularaxis": {
            "gridcolor": "white",
            "linecolor": "white",
            "ticks": ""
           },
           "bgcolor": "#E5ECF6",
           "radialaxis": {
            "gridcolor": "white",
            "linecolor": "white",
            "ticks": ""
           }
          },
          "scene": {
           "xaxis": {
            "backgroundcolor": "#E5ECF6",
            "gridcolor": "white",
            "gridwidth": 2,
            "linecolor": "white",
            "showbackground": true,
            "ticks": "",
            "zerolinecolor": "white"
           },
           "yaxis": {
            "backgroundcolor": "#E5ECF6",
            "gridcolor": "white",
            "gridwidth": 2,
            "linecolor": "white",
            "showbackground": true,
            "ticks": "",
            "zerolinecolor": "white"
           },
           "zaxis": {
            "backgroundcolor": "#E5ECF6",
            "gridcolor": "white",
            "gridwidth": 2,
            "linecolor": "white",
            "showbackground": true,
            "ticks": "",
            "zerolinecolor": "white"
           }
          },
          "shapedefaults": {
           "line": {
            "color": "#2a3f5f"
           }
          },
          "ternary": {
           "aaxis": {
            "gridcolor": "white",
            "linecolor": "white",
            "ticks": ""
           },
           "baxis": {
            "gridcolor": "white",
            "linecolor": "white",
            "ticks": ""
           },
           "bgcolor": "#E5ECF6",
           "caxis": {
            "gridcolor": "white",
            "linecolor": "white",
            "ticks": ""
           }
          },
          "title": {
           "x": 0.05
          },
          "xaxis": {
           "automargin": true,
           "gridcolor": "white",
           "linecolor": "white",
           "ticks": "",
           "title": {
            "standoff": 15
           },
           "zerolinecolor": "white",
           "zerolinewidth": 2
          },
          "yaxis": {
           "automargin": true,
           "gridcolor": "white",
           "linecolor": "white",
           "ticks": "",
           "title": {
            "standoff": 15
           },
           "zerolinecolor": "white",
           "zerolinewidth": 2
          }
         }
        },
        "title": {
         "text": " 26% of train stations account for 80% of found items"
        },
        "xaxis": {
         "anchor": "y",
         "autorange": true,
         "domain": [
          0,
          1
         ],
         "range": [
          -0.5,
          99.5
         ],
         "title": {
          "text": "Number of train stations"
         },
         "type": "linear"
        },
        "xaxis2": {
         "anchor": "y2",
         "autorange": true,
         "domain": [
          0,
          1
         ],
         "range": [
          0,
          99
         ],
         "title": {
          "text": "Number of train stations"
         },
         "type": "linear"
        },
        "yaxis": {
         "anchor": "x",
         "autorange": true,
         "domain": [
          0.575,
          1
         ],
         "range": [
          0,
          34901.05263157895
         ],
         "type": "linear"
        },
        "yaxis2": {
         "anchor": "x2",
         "autorange": true,
         "domain": [
          0,
          0.425
         ],
         "range": [
          19736.11111111111,
          288133.8888888889
         ],
         "type": "linear"
        }
       }
      },
      "image/png": "[encoded data removed]",
      "text/html": [
       "<div>\n",
       "        \n",
       "        \n",
       "            <div id=\"f770a358-f11c-469f-a65b-7e002395938a\" class=\"plotly-graph-div\" style=\"height:525px; width:100%;\"></div>\n",
       "            <script type=\"text/javascript\">\n",
       "                require([\"plotly\"], function(Plotly) {\n",
       "                    window.PLOTLYENV=window.PLOTLYENV || {};\n",
       "                    \n",
       "                if (document.getElementById(\"f770a358-f11c-469f-a65b-7e002395938a\")) {\n",
       "                    Plotly.newPlot(\n",
       "                        'f770a358-f11c-469f-a65b-7e002395938a',\n",
       "                        [{\"hoverinfo\": \"text+y\", \"marker\": {\"color\": \"#007bff\"}, \"meta\": [33156, 23222, 22784, 21104, 11851, 11583, 9978, 9151, 7660, 7505, 6159, 5622, 4917, 4685, 4541, 4540, 4376, 3830, 3758, 3118, 3042, 2661, 2441, 2345, 2309, 2302, 2202, 2107, 1765, 1714, 1545, 1493, 1465, 1464, 1303, 1251, 1208, 1140, 1115, 1087, 1056, 1018, 962, 952, 934, 906, 896, 877, 876, 864, 833, 831, 827, 823, 804, 798, 763, 743, 740, 736, 734, 706, 682, 679, 652, 628, 603, 592, 581, 567, 547, 544, 539, 536, 533, 529, 520, 518, 508, 468, 461, 444, 442, 438, 354, 349, 347, 340, 316, 316, 311, 272, 261, 256, 248, 242, 237, 236, 225, 215], \"name\": \"Found items\", \"text\": [\"Paris Gare de Lyon\", \"Paris Montparnasse\", \"Paris Gare du Nord\", \"Paris Saint-Lazare\", \"Bordeaux Saint-Jean\", \"Strasbourg\", \"Paris Est\", \"Lyon Part Dieu\", \"Lille Europe\", \"Lyon Perrache\", \"Marseille Saint-Charles\", \"Nice\", \"Montpellier Saint-Roch\", \"Nantes\", \"Rennes\", \"Paris Austerlitz\", \"Rouen Rive Droite\", \"Toulouse Matabiau\", \"Dijon\", \"Metz Ville\", \"Orl\\u00e9ans\", \"Tours\", \"Caen\", \"Avignon TGV\", \"Nancy\", \"Mulhouse\", \"Poitiers\", \"La Rochelle\", \"Cannes\", \"Amiens\", \"Grenoble\", \"Quimper\", \"Colmar\", \"Toulon\", \"Annecy\", \"Bellegarde\", \"Aix-en-Provence TGV\", \"Brest\", \"Hendaye\", \"Saint-Pierre-des-Corps\", \"Perpignan\", \"A\\u00e9roport Charles de Gaulle 2 TGV\", \"Les Aubrais\", \"Agen\", \"Angoul\\u00eame\", \"Valence\", \"Limoges B\\u00e9n\\u00e9dictins\", \"Brive-la-Gaillarde\", \"Reims\", \"Bourges\", \"Clermont-Ferrand\", \"Le Mans\", \"Paris Bercy\", \"Angers Saint-Laud\", \"Vierzon\", \"Mantes-la-Jolie\", \"Creil\", \"Nevers\", \"Saint-\\u00c9tienne Ch\\u00e2teaucreux\", \"B\\u00e9ziers\", \"Besan\\u00e7on Viotte\", \"Massy TGV\", \"Chamb\\u00e9ry - Challes-les-Eaux\", \"Bourg-en-Bresse\", \"Niort\", \"Cherbourg\", \"Le Havre\", \"Narbonne\", \"P\\u00e9rigueux\", \"Arras\", \"Douai\", \"S\\u00e9lestat\", \"N\\u00eemes\", \"Bayonne\", \"Pau\", \"Dunkerque\", \"Dax\", \"Marne-la-Vall\\u00e9e Chessy\", \"Tourcoing\", \"Boulogne Ville\", \"Tarbes\", \"Blois - Chambord\", \"Saint-Nazaire\", \"Avignon Centre\", \"Compi\\u00e8gne\", \"Valence TGV Rh\\u00f4ne-Alpes Sud\", \"Ch\\u00e2teauroux\", \"Le Croisic\", \"Chartres\", \"Belfort - Montb\\u00e9liard TGV\", \"Valenciennes\", \"Saverne\", \"Vannes\", \"Lisieux\", \"Roanne\", \"Carcassonne\", \"Granville\", \"Trouville - Deauville\", \"Saintes\", \"Laval\"], \"type\": \"bar\", \"x\": [0, 1, 2, 3, 4, 5, 6, 7, 8, 9, 10, 11, 12, 13, 14, 15, 16, 17, 18, 19, 20, 21, 22, 23, 24, 25, 26, 27, 28, 29, 30, 31, 32, 33, 34, 35, 36, 37, 38, 39, 40, 41, 42, 43, 44, 45, 46, 47, 48, 49, 50, 51, 52, 53, 54, 55, 56, 57, 58, 59, 60, 61, 62, 63, 64, 65, 66, 67, 68, 69, 70, 71, 72, 73, 74, 75, 76, 77, 78, 79, 80, 81, 82, 83, 84, 85, 86, 87, 88, 89, 90, 91, 92, 93, 94, 95, 96, 97, 98, 99], \"xaxis\": \"x\", \"y\": [33156, 23222, 22784, 21104, 11851, 11583, 9978, 9151, 7660, 7505, 6159, 5622, 4917, 4685, 4541, 4540, 4376, 3830, 3758, 3118, 3042, 2661, 2441, 2345, 2309, 2302, 2202, 2107, 1765, 1714, 1545, 1493, 1465, 1464, 1303, 1251, 1208, 1140, 1115, 1087, 1056, 1018, 962, 952, 934, 906, 896, 877, 876, 864, 833, 831, 827, 823, 804, 798, 763, 743, 740, 736, 734, 706, 682, 679, 652, 628, 603, 592, 581, 567, 547, 544, 539, 536, 533, 529, 520, 518, 508, 468, 461, 444, 442, 438, 354, 349, 347, 340, 316, 316, 311, 272, 261, 256, 248, 242, 237, 236, 225, 215], \"yaxis\": \"y\"}, {\"hoverinfo\": \"y\", \"meta\": [33156, 23222, 22784, 21104, 11851, 11583, 9978, 9151, 7660, 7505, 6159, 5622, 4917, 4685, 4541, 4540, 4376, 3830, 3758, 3118, 3042, 2661, 2441, 2345, 2309, 2302, 2202, 2107, 1765, 1714, 1545, 1493, 1465, 1464, 1303, 1251, 1208, 1140, 1115, 1087, 1056, 1018, 962, 952, 934, 906, 896, 877, 876, 864, 833, 831, 827, 823, 804, 798, 763, 743, 740, 736, 734, 706, 682, 679, 652, 628, 603, 592, 581, 567, 547, 544, 539, 536, 533, 529, 520, 518, 508, 468, 461, 444, 442, 438, 354, 349, 347, 340, 316, 316, 311, 272, 261, 256, 248, 242, 237, 236, 225, 215], \"name\": \"Cumulative sum\", \"text\": [\"Paris Gare de Lyon\", \"Paris Montparnasse\", \"Paris Gare du Nord\", \"Paris Saint-Lazare\", \"Bordeaux Saint-Jean\", \"Strasbourg\", \"Paris Est\", \"Lyon Part Dieu\", \"Lille Europe\", \"Lyon Perrache\", \"Marseille Saint-Charles\", \"Nice\", \"Montpellier Saint-Roch\", \"Nantes\", \"Rennes\", \"Paris Austerlitz\", \"Rouen Rive Droite\", \"Toulouse Matabiau\", \"Dijon\", \"Metz Ville\", \"Orl\\u00e9ans\", \"Tours\", \"Caen\", \"Avignon TGV\", \"Nancy\", \"Mulhouse\", \"Poitiers\", \"La Rochelle\", \"Cannes\", \"Amiens\", \"Grenoble\", \"Quimper\", \"Colmar\", \"Toulon\", \"Annecy\", \"Bellegarde\", \"Aix-en-Provence TGV\", \"Brest\", \"Hendaye\", \"Saint-Pierre-des-Corps\", \"Perpignan\", \"A\\u00e9roport Charles de Gaulle 2 TGV\", \"Les Aubrais\", \"Agen\", \"Angoul\\u00eame\", \"Valence\", \"Limoges B\\u00e9n\\u00e9dictins\", \"Brive-la-Gaillarde\", \"Reims\", \"Bourges\", \"Clermont-Ferrand\", \"Le Mans\", \"Paris Bercy\", \"Angers Saint-Laud\", \"Vierzon\", \"Mantes-la-Jolie\", \"Creil\", \"Nevers\", \"Saint-\\u00c9tienne Ch\\u00e2teaucreux\", \"B\\u00e9ziers\", \"Besan\\u00e7on Viotte\", \"Massy TGV\", \"Chamb\\u00e9ry - Challes-les-Eaux\", \"Bourg-en-Bresse\", \"Niort\", \"Cherbourg\", \"Le Havre\", \"Narbonne\", \"P\\u00e9rigueux\", \"Arras\", \"Douai\", \"S\\u00e9lestat\", \"N\\u00eemes\", \"Bayonne\", \"Pau\", \"Dunkerque\", \"Dax\", \"Marne-la-Vall\\u00e9e Chessy\", \"Tourcoing\", \"Boulogne Ville\", \"Tarbes\", \"Blois - Chambord\", \"Saint-Nazaire\", \"Avignon Centre\", \"Compi\\u00e8gne\", \"Valence TGV Rh\\u00f4ne-Alpes Sud\", \"Ch\\u00e2teauroux\", \"Le Croisic\", \"Chartres\", \"Belfort - Montb\\u00e9liard TGV\", \"Valenciennes\", \"Saverne\", \"Vannes\", \"Lisieux\", \"Roanne\", \"Carcassonne\", \"Granville\", \"Trouville - Deauville\", \"Saintes\", \"Laval\"], \"type\": \"scatter\", \"x\": [0, 1, 2, 3, 4, 5, 6, 7, 8, 9, 10, 11, 12, 13, 14, 15, 16, 17, 18, 19, 20, 21, 22, 23, 24, 25, 26, 27, 28, 29, 30, 31, 32, 33, 34, 35, 36, 37, 38, 39, 40, 41, 42, 43, 44, 45, 46, 47, 48, 49, 50, 51, 52, 53, 54, 55, 56, 57, 58, 59, 60, 61, 62, 63, 64, 65, 66, 67, 68, 69, 70, 71, 72, 73, 74, 75, 76, 77, 78, 79, 80, 81, 82, 83, 84, 85, 86, 87, 88, 89, 90, 91, 92, 93, 94, 95, 96, 97, 98, 99], \"xaxis\": \"x2\", \"y\": [33156, 56378, 79162, 100266, 112117, 123700, 133678, 142829, 150489, 157994, 164153, 169775, 174692, 179377, 183918, 188458, 192834, 196664, 200422, 203540, 206582, 209243, 211684, 214029, 216338, 218640, 220842, 222949, 224714, 226428, 227973, 229466, 230931, 232395, 233698, 234949, 236157, 237297, 238412, 239499, 240555, 241573, 242535, 243487, 244421, 245327, 246223, 247100, 247976, 248840, 249673, 250504, 251331, 252154, 252958, 253756, 254519, 255262, 256002, 256738, 257472, 258178, 258860, 259539, 260191, 260819, 261422, 262014, 262595, 263162, 263709, 264253, 264792, 265328, 265861, 266390, 266910, 267428, 267936, 268404, 268865, 269309, 269751, 270189, 270543, 270892, 271239, 271579, 271895, 272211, 272522, 272794, 273055, 273311, 273559, 273801, 274038, 274274, 274499, 274714], \"yaxis\": \"y2\"}],\n",
       "                        {\"margin\": {\"b\": 0, \"l\": 0, \"r\": 0, \"t\": 35}, \"template\": {\"data\": {\"bar\": [{\"error_x\": {\"color\": \"#2a3f5f\"}, \"error_y\": {\"color\": \"#2a3f5f\"}, \"marker\": {\"line\": {\"color\": \"#E5ECF6\", \"width\": 0.5}}, \"type\": \"bar\"}], \"barpolar\": [{\"marker\": {\"line\": {\"color\": \"#E5ECF6\", \"width\": 0.5}}, \"type\": \"barpolar\"}], \"carpet\": [{\"aaxis\": {\"endlinecolor\": \"#2a3f5f\", \"gridcolor\": \"white\", \"linecolor\": \"white\", \"minorgridcolor\": \"white\", \"startlinecolor\": \"#2a3f5f\"}, \"baxis\": {\"endlinecolor\": \"#2a3f5f\", \"gridcolor\": \"white\", \"linecolor\": \"white\", \"minorgridcolor\": \"white\", \"startlinecolor\": \"#2a3f5f\"}, \"type\": \"carpet\"}], \"choropleth\": [{\"colorbar\": {\"outlinewidth\": 0, \"ticks\": \"\"}, \"type\": \"choropleth\"}], \"contour\": [{\"colorbar\": {\"outlinewidth\": 0, \"ticks\": \"\"}, \"colorscale\": [[0.0, \"#0d0887\"], [0.1111111111111111, \"#46039f\"], [0.2222222222222222, \"#7201a8\"], [0.3333333333333333, \"#9c179e\"], [0.4444444444444444, \"#bd3786\"], [0.5555555555555556, \"#d8576b\"], [0.6666666666666666, \"#ed7953\"], [0.7777777777777778, \"#fb9f3a\"], [0.8888888888888888, \"#fdca26\"], [1.0, \"#f0f921\"]], \"type\": \"contour\"}], \"contourcarpet\": [{\"colorbar\": {\"outlinewidth\": 0, \"ticks\": \"\"}, \"type\": \"contourcarpet\"}], \"heatmap\": [{\"colorbar\": {\"outlinewidth\": 0, \"ticks\": \"\"}, \"colorscale\": [[0.0, \"#0d0887\"], [0.1111111111111111, \"#46039f\"], [0.2222222222222222, \"#7201a8\"], [0.3333333333333333, \"#9c179e\"], [0.4444444444444444, \"#bd3786\"], [0.5555555555555556, \"#d8576b\"], [0.6666666666666666, \"#ed7953\"], [0.7777777777777778, \"#fb9f3a\"], [0.8888888888888888, \"#fdca26\"], [1.0, \"#f0f921\"]], \"type\": \"heatmap\"}], \"heatmapgl\": [{\"colorbar\": {\"outlinewidth\": 0, \"ticks\": \"\"}, \"colorscale\": [[0.0, \"#0d0887\"], [0.1111111111111111, \"#46039f\"], [0.2222222222222222, \"#7201a8\"], [0.3333333333333333, \"#9c179e\"], [0.4444444444444444, \"#bd3786\"], [0.5555555555555556, \"#d8576b\"], [0.6666666666666666, \"#ed7953\"], [0.7777777777777778, \"#fb9f3a\"], [0.8888888888888888, \"#fdca26\"], [1.0, \"#f0f921\"]], \"type\": \"heatmapgl\"}], \"histogram\": [{\"marker\": {\"colorbar\": {\"outlinewidth\": 0, \"ticks\": \"\"}}, \"type\": \"histogram\"}], \"histogram2d\": [{\"colorbar\": {\"outlinewidth\": 0, \"ticks\": \"\"}, \"colorscale\": [[0.0, \"#0d0887\"], [0.1111111111111111, \"#46039f\"], [0.2222222222222222, \"#7201a8\"], [0.3333333333333333, \"#9c179e\"], [0.4444444444444444, \"#bd3786\"], [0.5555555555555556, \"#d8576b\"], [0.6666666666666666, \"#ed7953\"], [0.7777777777777778, \"#fb9f3a\"], [0.8888888888888888, \"#fdca26\"], [1.0, \"#f0f921\"]], \"type\": \"histogram2d\"}], \"histogram2dcontour\": [{\"colorbar\": {\"outlinewidth\": 0, \"ticks\": \"\"}, \"colorscale\": [[0.0, \"#0d0887\"], [0.1111111111111111, \"#46039f\"], [0.2222222222222222, \"#7201a8\"], [0.3333333333333333, \"#9c179e\"], [0.4444444444444444, \"#bd3786\"], [0.5555555555555556, \"#d8576b\"], [0.6666666666666666, \"#ed7953\"], [0.7777777777777778, \"#fb9f3a\"], [0.8888888888888888, \"#fdca26\"], [1.0, \"#f0f921\"]], \"type\": \"histogram2dcontour\"}], \"mesh3d\": [{\"colorbar\": {\"outlinewidth\": 0, \"ticks\": \"\"}, \"type\": \"mesh3d\"}], \"parcoords\": [{\"line\": {\"colorbar\": {\"outlinewidth\": 0, \"ticks\": \"\"}}, \"type\": \"parcoords\"}], \"pie\": [{\"automargin\": true, \"type\": \"pie\"}], \"scatter\": [{\"marker\": {\"colorbar\": {\"outlinewidth\": 0, \"ticks\": \"\"}}, \"type\": \"scatter\"}], \"scatter3d\": [{\"line\": {\"colorbar\": {\"outlinewidth\": 0, \"ticks\": \"\"}}, \"marker\": {\"colorbar\": {\"outlinewidth\": 0, \"ticks\": \"\"}}, \"type\": \"scatter3d\"}], \"scattercarpet\": [{\"marker\": {\"colorbar\": {\"outlinewidth\": 0, \"ticks\": \"\"}}, \"type\": \"scattercarpet\"}], \"scattergeo\": [{\"marker\": {\"colorbar\": {\"outlinewidth\": 0, \"ticks\": \"\"}}, \"type\": \"scattergeo\"}], \"scattergl\": [{\"marker\": {\"colorbar\": {\"outlinewidth\": 0, \"ticks\": \"\"}}, \"type\": \"scattergl\"}], \"scattermapbox\": [{\"marker\": {\"colorbar\": {\"outlinewidth\": 0, \"ticks\": \"\"}}, \"type\": \"scattermapbox\"}], \"scatterpolar\": [{\"marker\": {\"colorbar\": {\"outlinewidth\": 0, \"ticks\": \"\"}}, \"type\": \"scatterpolar\"}], \"scatterpolargl\": [{\"marker\": {\"colorbar\": {\"outlinewidth\": 0, \"ticks\": \"\"}}, \"type\": \"scatterpolargl\"}], \"scatterternary\": [{\"marker\": {\"colorbar\": {\"outlinewidth\": 0, \"ticks\": \"\"}}, \"type\": \"scatterternary\"}], \"surface\": [{\"colorbar\": {\"outlinewidth\": 0, \"ticks\": \"\"}, \"colorscale\": [[0.0, \"#0d0887\"], [0.1111111111111111, \"#46039f\"], [0.2222222222222222, \"#7201a8\"], [0.3333333333333333, \"#9c179e\"], [0.4444444444444444, \"#bd3786\"], [0.5555555555555556, \"#d8576b\"], [0.6666666666666666, \"#ed7953\"], [0.7777777777777778, \"#fb9f3a\"], [0.8888888888888888, \"#fdca26\"], [1.0, \"#f0f921\"]], \"type\": \"surface\"}], \"table\": [{\"cells\": {\"fill\": {\"color\": \"#EBF0F8\"}, \"line\": {\"color\": \"white\"}}, \"header\": {\"fill\": {\"color\": \"#C8D4E3\"}, \"line\": {\"color\": \"white\"}}, \"type\": \"table\"}]}, \"layout\": {\"annotationdefaults\": {\"arrowcolor\": \"#2a3f5f\", \"arrowhead\": 0, \"arrowwidth\": 1}, \"coloraxis\": {\"colorbar\": {\"outlinewidth\": 0, \"ticks\": \"\"}}, \"colorscale\": {\"diverging\": [[0, \"#8e0152\"], [0.1, \"#c51b7d\"], [0.2, \"#de77ae\"], [0.3, \"#f1b6da\"], [0.4, \"#fde0ef\"], [0.5, \"#f7f7f7\"], [0.6, \"#e6f5d0\"], [0.7, \"#b8e186\"], [0.8, \"#7fbc41\"], [0.9, \"#4d9221\"], [1, \"#276419\"]], \"sequential\": [[0.0, \"#0d0887\"], [0.1111111111111111, \"#46039f\"], [0.2222222222222222, \"#7201a8\"], [0.3333333333333333, \"#9c179e\"], [0.4444444444444444, \"#bd3786\"], [0.5555555555555556, \"#d8576b\"], [0.6666666666666666, \"#ed7953\"], [0.7777777777777778, \"#fb9f3a\"], [0.8888888888888888, \"#fdca26\"], [1.0, \"#f0f921\"]], \"sequentialminus\": [[0.0, \"#0d0887\"], [0.1111111111111111, \"#46039f\"], [0.2222222222222222, \"#7201a8\"], [0.3333333333333333, \"#9c179e\"], [0.4444444444444444, \"#bd3786\"], [0.5555555555555556, \"#d8576b\"], [0.6666666666666666, \"#ed7953\"], [0.7777777777777778, \"#fb9f3a\"], [0.8888888888888888, \"#fdca26\"], [1.0, \"#f0f921\"]]}, \"colorway\": [\"#636efa\", \"#EF553B\", \"#00cc96\", \"#ab63fa\", \"#FFA15A\", \"#19d3f3\", \"#FF6692\", \"#B6E880\", \"#FF97FF\", \"#FECB52\"], \"font\": {\"color\": \"#2a3f5f\"}, \"geo\": {\"bgcolor\": \"white\", \"lakecolor\": \"white\", \"landcolor\": \"#E5ECF6\", \"showlakes\": true, \"showland\": true, \"subunitcolor\": \"white\"}, \"hoverlabel\": {\"align\": \"left\"}, \"hovermode\": \"closest\", \"mapbox\": {\"style\": \"light\"}, \"paper_bgcolor\": \"white\", \"plot_bgcolor\": \"#E5ECF6\", \"polar\": {\"angularaxis\": {\"gridcolor\": \"white\", \"linecolor\": \"white\", \"ticks\": \"\"}, \"bgcolor\": \"#E5ECF6\", \"radialaxis\": {\"gridcolor\": \"white\", \"linecolor\": \"white\", \"ticks\": \"\"}}, \"scene\": {\"xaxis\": {\"backgroundcolor\": \"#E5ECF6\", \"gridcolor\": \"white\", \"gridwidth\": 2, \"linecolor\": \"white\", \"showbackground\": true, \"ticks\": \"\", \"zerolinecolor\": \"white\"}, \"yaxis\": {\"backgroundcolor\": \"#E5ECF6\", \"gridcolor\": \"white\", \"gridwidth\": 2, \"linecolor\": \"white\", \"showbackground\": true, \"ticks\": \"\", \"zerolinecolor\": \"white\"}, \"zaxis\": {\"backgroundcolor\": \"#E5ECF6\", \"gridcolor\": \"white\", \"gridwidth\": 2, \"linecolor\": \"white\", \"showbackground\": true, \"ticks\": \"\", \"zerolinecolor\": \"white\"}}, \"shapedefaults\": {\"line\": {\"color\": \"#2a3f5f\"}}, \"ternary\": {\"aaxis\": {\"gridcolor\": \"white\", \"linecolor\": \"white\", \"ticks\": \"\"}, \"baxis\": {\"gridcolor\": \"white\", \"linecolor\": \"white\", \"ticks\": \"\"}, \"bgcolor\": \"#E5ECF6\", \"caxis\": {\"gridcolor\": \"white\", \"linecolor\": \"white\", \"ticks\": \"\"}}, \"title\": {\"x\": 0.05}, \"xaxis\": {\"automargin\": true, \"gridcolor\": \"white\", \"linecolor\": \"white\", \"ticks\": \"\", \"title\": {\"standoff\": 15}, \"zerolinecolor\": \"white\", \"zerolinewidth\": 2}, \"yaxis\": {\"automargin\": true, \"gridcolor\": \"white\", \"linecolor\": \"white\", \"ticks\": \"\", \"title\": {\"standoff\": 15}, \"zerolinecolor\": \"white\", \"zerolinewidth\": 2}}}, \"title\": {\"text\": \" 26% of train stations account for 80% of found items\"}, \"xaxis\": {\"anchor\": \"y\", \"domain\": [0.0, 1.0], \"title\": {\"text\": \"Number of train stations\"}}, \"xaxis2\": {\"anchor\": \"y2\", \"domain\": [0.0, 1.0], \"title\": {\"text\": \"Number of train stations\"}}, \"yaxis\": {\"anchor\": \"x\", \"domain\": [0.575, 1.0]}, \"yaxis2\": {\"anchor\": \"x2\", \"domain\": [0.0, 0.425]}},\n",
       "                        {\"responsive\": true}\n",
       "                    ).then(function(){\n",
       "                            \n",
       "var gd = document.getElementById('f770a358-f11c-469f-a65b-7e002395938a');\n",
       "var x = new MutationObserver(function (mutations, observer) {{\n",
       "        var display = window.getComputedStyle(gd).display;\n",
       "        if (!display || display === 'none') {{\n",
       "            console.log([gd, 'removed!']);\n",
       "            Plotly.purge(gd);\n",
       "            observer.disconnect();\n",
       "        }}\n",
       "}});\n",
       "\n",
       "// Listen for the removal of the full notebook cells\n",
       "var notebookContainer = gd.closest('#notebook-container');\n",
       "if (notebookContainer) {{\n",
       "    x.observe(notebookContainer, {childList: true});\n",
       "}}\n",
       "\n",
       "// Listen for the clearing of the current output cell\n",
       "var outputEl = gd.closest('.output');\n",
       "if (outputEl) {{\n",
       "    x.observe(outputEl, {childList: true});\n",
       "}}\n",
       "\n",
       "                        })\n",
       "                };\n",
       "                });\n",
       "            </script>\n",
       "        </div>"
      ]
     },
     "metadata": {},
     "output_type": "display_data"
    }
   ],
   "source": [
    "fig = go.Figure()\n",
    "fig = make_subplots(rows=2, cols=1)\n",
    "fig.add_trace(\n",
    "    go.Bar(\n",
    "        x=np.arange(len(df_grouped)), \n",
    "        y=df_grouped, \n",
    "        text=df_grouped.index,\n",
    "        meta = df_grouped,\n",
    "        hoverinfo=\"text+y\",\n",
    "        name=\"Found items\",\n",
    "        marker_color=\"#007bff\"\n",
    "        ),\n",
    "    row=1, \n",
    "    col=1\n",
    ")\n",
    "\n",
    "\n",
    "fig.add_trace(\n",
    "    go.Scatter(\n",
    "        x=np.arange(len(df_cumsum)), \n",
    "        y=df_cumsum, \n",
    "        text=df_cumsum.index,\n",
    "        meta = df_grouped,\n",
    "        hoverinfo=\"y\",\n",
    "        name='Cumulative sum'\n",
    "    ),\n",
    "    row=2, \n",
    "    col=1\n",
    "    )\n",
    "\n",
    "\n",
    "fig.update_layout(\n",
    "    title=f'{pareto/len(df_cumsum) : 2.0%} of train stations account for 80% of found items',\n",
    "    margin={'l': 0, 'r': 0, 't': 35, 'b': 0},\n",
    "\n",
    ")\n",
    "fig.update_xaxes(title_text=\"Number of train stations\")\n",
    "fig.update_yaxes(type=\"log\", secondary_y=True)\n",
    "\n",
    "fig.show()"
   ]
  },
  {
   "cell_type": "code",
   "execution_count": 227,
   "metadata": {},
   "outputs": [],
   "source": [
    "df_months = df_objects.groupby(by=[df_objects.Date.dt.year, df_objects.Date.dt.month]).Date.count()\n",
    "df_months.index = pd.to_datetime(dict(year=[i[0] for i in df_months.index], month=[i[1] for i in df_months.index], day=1))"
   ]
  },
  {
   "cell_type": "code",
   "execution_count": 258,
   "metadata": {},
   "outputs": [
    {
     "data": {
      "application/vnd.plotly.v1+json": {
       "config": {
        "plotlyServerURL": "https://plotly.com"
       },
       "data": [
        {
         "hoverinfo": "x+y",
         "marker": {
          "color": "#007bff"
         },
         "meta": [
          13820,
          13344,
          14325,
          15383,
          14195,
          16128,
          17171,
          15703,
          16237,
          16023,
          14189,
          14581,
          14513,
          13698,
          14707,
          13754,
          13842,
          12563,
          16161,
          15625,
          15072,
          15862,
          15678,
          15768,
          15925,
          14323,
          15562,
          15422,
          16031,
          16297,
          18346,
          16517,
          15818,
          16709,
          15941,
          16038,
          15730,
          14283,
          15310,
          10772,
          11251,
          12876,
          16740,
          15454,
          15588,
          16694,
          14964,
          15294,
          15800,
          14186,
          15330,
          16262,
          15733,
          16978,
          18477,
          16130,
          16736,
          16570,
          15263,
          7603,
          11177,
          13932,
          7802,
          452,
          2171,
          2551
         ],
         "text": [
          13820,
          13344,
          14325,
          15383,
          14195,
          16128,
          17171,
          15703,
          16237,
          16023,
          14189,
          14581,
          14513,
          13698,
          14707,
          13754,
          13842,
          12563,
          16161,
          15625,
          15072,
          15862,
          15678,
          15768,
          15925,
          14323,
          15562,
          15422,
          16031,
          16297,
          18346,
          16517,
          15818,
          16709,
          15941,
          16038,
          15730,
          14283,
          15310,
          10772,
          11251,
          12876,
          16740,
          15454,
          15588,
          16694,
          14964,
          15294,
          15800,
          14186,
          15330,
          16262,
          15733,
          16978,
          18477,
          16130,
          16736,
          16570,
          15263,
          7603,
          11177,
          13932,
          7802,
          452,
          2171,
          2551
         ],
         "type": "bar",
         "x": [
          "2015-01-01T00:00:00",
          "2015-02-01T00:00:00",
          "2015-03-01T00:00:00",
          "2015-04-01T00:00:00",
          "2015-05-01T00:00:00",
          "2015-06-01T00:00:00",
          "2015-07-01T00:00:00",
          "2015-08-01T00:00:00",
          "2015-09-01T00:00:00",
          "2015-10-01T00:00:00",
          "2015-11-01T00:00:00",
          "2015-12-01T00:00:00",
          "2016-01-01T00:00:00",
          "2016-02-01T00:00:00",
          "2016-03-01T00:00:00",
          "2016-04-01T00:00:00",
          "2016-05-01T00:00:00",
          "2016-06-01T00:00:00",
          "2016-07-01T00:00:00",
          "2016-08-01T00:00:00",
          "2016-09-01T00:00:00",
          "2016-10-01T00:00:00",
          "2016-11-01T00:00:00",
          "2016-12-01T00:00:00",
          "2017-01-01T00:00:00",
          "2017-02-01T00:00:00",
          "2017-03-01T00:00:00",
          "2017-04-01T00:00:00",
          "2017-05-01T00:00:00",
          "2017-06-01T00:00:00",
          "2017-07-01T00:00:00",
          "2017-08-01T00:00:00",
          "2017-09-01T00:00:00",
          "2017-10-01T00:00:00",
          "2017-11-01T00:00:00",
          "2017-12-01T00:00:00",
          "2018-01-01T00:00:00",
          "2018-02-01T00:00:00",
          "2018-03-01T00:00:00",
          "2018-04-01T00:00:00",
          "2018-05-01T00:00:00",
          "2018-06-01T00:00:00",
          "2018-07-01T00:00:00",
          "2018-08-01T00:00:00",
          "2018-09-01T00:00:00",
          "2018-10-01T00:00:00",
          "2018-11-01T00:00:00",
          "2018-12-01T00:00:00",
          "2019-01-01T00:00:00",
          "2019-02-01T00:00:00",
          "2019-03-01T00:00:00",
          "2019-04-01T00:00:00",
          "2019-05-01T00:00:00",
          "2019-06-01T00:00:00",
          "2019-07-01T00:00:00",
          "2019-08-01T00:00:00",
          "2019-09-01T00:00:00",
          "2019-10-01T00:00:00",
          "2019-11-01T00:00:00",
          "2019-12-01T00:00:00",
          "2020-01-01T00:00:00",
          "2020-02-01T00:00:00",
          "2020-03-01T00:00:00",
          "2020-04-01T00:00:00",
          "2020-05-01T00:00:00",
          "2020-06-01T00:00:00"
         ],
         "y": [
          13820,
          13344,
          14325,
          15383,
          14195,
          16128,
          17171,
          15703,
          16237,
          16023,
          14189,
          14581,
          14513,
          13698,
          14707,
          13754,
          13842,
          12563,
          16161,
          15625,
          15072,
          15862,
          15678,
          15768,
          15925,
          14323,
          15562,
          15422,
          16031,
          16297,
          18346,
          16517,
          15818,
          16709,
          15941,
          16038,
          15730,
          14283,
          15310,
          10772,
          11251,
          12876,
          16740,
          15454,
          15588,
          16694,
          14964,
          15294,
          15800,
          14186,
          15330,
          16262,
          15733,
          16978,
          18477,
          16130,
          16736,
          16570,
          15263,
          7603,
          11177,
          13932,
          7802,
          452,
          2171,
          2551
         ]
        }
       ],
       "layout": {
        "height": 525,
        "margin": {
         "b": 0,
         "l": 30,
         "r": 30,
         "t": 50
        },
        "template": {
         "data": {
          "bar": [
           {
            "error_x": {
             "color": "#2a3f5f"
            },
            "error_y": {
             "color": "#2a3f5f"
            },
            "marker": {
             "line": {
              "color": "#E5ECF6",
              "width": 0.5
             }
            },
            "type": "bar"
           }
          ],
          "barpolar": [
           {
            "marker": {
             "line": {
              "color": "#E5ECF6",
              "width": 0.5
             }
            },
            "type": "barpolar"
           }
          ],
          "carpet": [
           {
            "aaxis": {
             "endlinecolor": "#2a3f5f",
             "gridcolor": "white",
             "linecolor": "white",
             "minorgridcolor": "white",
             "startlinecolor": "#2a3f5f"
            },
            "baxis": {
             "endlinecolor": "#2a3f5f",
             "gridcolor": "white",
             "linecolor": "white",
             "minorgridcolor": "white",
             "startlinecolor": "#2a3f5f"
            },
            "type": "carpet"
           }
          ],
          "choropleth": [
           {
            "colorbar": {
             "outlinewidth": 0,
             "ticks": ""
            },
            "type": "choropleth"
           }
          ],
          "contour": [
           {
            "colorbar": {
             "outlinewidth": 0,
             "ticks": ""
            },
            "colorscale": [
             [
              0,
              "#0d0887"
             ],
             [
              0.1111111111111111,
              "#46039f"
             ],
             [
              0.2222222222222222,
              "#7201a8"
             ],
             [
              0.3333333333333333,
              "#9c179e"
             ],
             [
              0.4444444444444444,
              "#bd3786"
             ],
             [
              0.5555555555555556,
              "#d8576b"
             ],
             [
              0.6666666666666666,
              "#ed7953"
             ],
             [
              0.7777777777777778,
              "#fb9f3a"
             ],
             [
              0.8888888888888888,
              "#fdca26"
             ],
             [
              1,
              "#f0f921"
             ]
            ],
            "type": "contour"
           }
          ],
          "contourcarpet": [
           {
            "colorbar": {
             "outlinewidth": 0,
             "ticks": ""
            },
            "type": "contourcarpet"
           }
          ],
          "heatmap": [
           {
            "colorbar": {
             "outlinewidth": 0,
             "ticks": ""
            },
            "colorscale": [
             [
              0,
              "#0d0887"
             ],
             [
              0.1111111111111111,
              "#46039f"
             ],
             [
              0.2222222222222222,
              "#7201a8"
             ],
             [
              0.3333333333333333,
              "#9c179e"
             ],
             [
              0.4444444444444444,
              "#bd3786"
             ],
             [
              0.5555555555555556,
              "#d8576b"
             ],
             [
              0.6666666666666666,
              "#ed7953"
             ],
             [
              0.7777777777777778,
              "#fb9f3a"
             ],
             [
              0.8888888888888888,
              "#fdca26"
             ],
             [
              1,
              "#f0f921"
             ]
            ],
            "type": "heatmap"
           }
          ],
          "heatmapgl": [
           {
            "colorbar": {
             "outlinewidth": 0,
             "ticks": ""
            },
            "colorscale": [
             [
              0,
              "#0d0887"
             ],
             [
              0.1111111111111111,
              "#46039f"
             ],
             [
              0.2222222222222222,
              "#7201a8"
             ],
             [
              0.3333333333333333,
              "#9c179e"
             ],
             [
              0.4444444444444444,
              "#bd3786"
             ],
             [
              0.5555555555555556,
              "#d8576b"
             ],
             [
              0.6666666666666666,
              "#ed7953"
             ],
             [
              0.7777777777777778,
              "#fb9f3a"
             ],
             [
              0.8888888888888888,
              "#fdca26"
             ],
             [
              1,
              "#f0f921"
             ]
            ],
            "type": "heatmapgl"
           }
          ],
          "histogram": [
           {
            "marker": {
             "colorbar": {
              "outlinewidth": 0,
              "ticks": ""
             }
            },
            "type": "histogram"
           }
          ],
          "histogram2d": [
           {
            "colorbar": {
             "outlinewidth": 0,
             "ticks": ""
            },
            "colorscale": [
             [
              0,
              "#0d0887"
             ],
             [
              0.1111111111111111,
              "#46039f"
             ],
             [
              0.2222222222222222,
              "#7201a8"
             ],
             [
              0.3333333333333333,
              "#9c179e"
             ],
             [
              0.4444444444444444,
              "#bd3786"
             ],
             [
              0.5555555555555556,
              "#d8576b"
             ],
             [
              0.6666666666666666,
              "#ed7953"
             ],
             [
              0.7777777777777778,
              "#fb9f3a"
             ],
             [
              0.8888888888888888,
              "#fdca26"
             ],
             [
              1,
              "#f0f921"
             ]
            ],
            "type": "histogram2d"
           }
          ],
          "histogram2dcontour": [
           {
            "colorbar": {
             "outlinewidth": 0,
             "ticks": ""
            },
            "colorscale": [
             [
              0,
              "#0d0887"
             ],
             [
              0.1111111111111111,
              "#46039f"
             ],
             [
              0.2222222222222222,
              "#7201a8"
             ],
             [
              0.3333333333333333,
              "#9c179e"
             ],
             [
              0.4444444444444444,
              "#bd3786"
             ],
             [
              0.5555555555555556,
              "#d8576b"
             ],
             [
              0.6666666666666666,
              "#ed7953"
             ],
             [
              0.7777777777777778,
              "#fb9f3a"
             ],
             [
              0.8888888888888888,
              "#fdca26"
             ],
             [
              1,
              "#f0f921"
             ]
            ],
            "type": "histogram2dcontour"
           }
          ],
          "mesh3d": [
           {
            "colorbar": {
             "outlinewidth": 0,
             "ticks": ""
            },
            "type": "mesh3d"
           }
          ],
          "parcoords": [
           {
            "line": {
             "colorbar": {
              "outlinewidth": 0,
              "ticks": ""
             }
            },
            "type": "parcoords"
           }
          ],
          "pie": [
           {
            "automargin": true,
            "type": "pie"
           }
          ],
          "scatter": [
           {
            "marker": {
             "colorbar": {
              "outlinewidth": 0,
              "ticks": ""
             }
            },
            "type": "scatter"
           }
          ],
          "scatter3d": [
           {
            "line": {
             "colorbar": {
              "outlinewidth": 0,
              "ticks": ""
             }
            },
            "marker": {
             "colorbar": {
              "outlinewidth": 0,
              "ticks": ""
             }
            },
            "type": "scatter3d"
           }
          ],
          "scattercarpet": [
           {
            "marker": {
             "colorbar": {
              "outlinewidth": 0,
              "ticks": ""
             }
            },
            "type": "scattercarpet"
           }
          ],
          "scattergeo": [
           {
            "marker": {
             "colorbar": {
              "outlinewidth": 0,
              "ticks": ""
             }
            },
            "type": "scattergeo"
           }
          ],
          "scattergl": [
           {
            "marker": {
             "colorbar": {
              "outlinewidth": 0,
              "ticks": ""
             }
            },
            "type": "scattergl"
           }
          ],
          "scattermapbox": [
           {
            "marker": {
             "colorbar": {
              "outlinewidth": 0,
              "ticks": ""
             }
            },
            "type": "scattermapbox"
           }
          ],
          "scatterpolar": [
           {
            "marker": {
             "colorbar": {
              "outlinewidth": 0,
              "ticks": ""
             }
            },
            "type": "scatterpolar"
           }
          ],
          "scatterpolargl": [
           {
            "marker": {
             "colorbar": {
              "outlinewidth": 0,
              "ticks": ""
             }
            },
            "type": "scatterpolargl"
           }
          ],
          "scatterternary": [
           {
            "marker": {
             "colorbar": {
              "outlinewidth": 0,
              "ticks": ""
             }
            },
            "type": "scatterternary"
           }
          ],
          "surface": [
           {
            "colorbar": {
             "outlinewidth": 0,
             "ticks": ""
            },
            "colorscale": [
             [
              0,
              "#0d0887"
             ],
             [
              0.1111111111111111,
              "#46039f"
             ],
             [
              0.2222222222222222,
              "#7201a8"
             ],
             [
              0.3333333333333333,
              "#9c179e"
             ],
             [
              0.4444444444444444,
              "#bd3786"
             ],
             [
              0.5555555555555556,
              "#d8576b"
             ],
             [
              0.6666666666666666,
              "#ed7953"
             ],
             [
              0.7777777777777778,
              "#fb9f3a"
             ],
             [
              0.8888888888888888,
              "#fdca26"
             ],
             [
              1,
              "#f0f921"
             ]
            ],
            "type": "surface"
           }
          ],
          "table": [
           {
            "cells": {
             "fill": {
              "color": "#EBF0F8"
             },
             "line": {
              "color": "white"
             }
            },
            "header": {
             "fill": {
              "color": "#C8D4E3"
             },
             "line": {
              "color": "white"
             }
            },
            "type": "table"
           }
          ]
         },
         "layout": {
          "annotationdefaults": {
           "arrowcolor": "#2a3f5f",
           "arrowhead": 0,
           "arrowwidth": 1
          },
          "coloraxis": {
           "colorbar": {
            "outlinewidth": 0,
            "ticks": ""
           }
          },
          "colorscale": {
           "diverging": [
            [
             0,
             "#8e0152"
            ],
            [
             0.1,
             "#c51b7d"
            ],
            [
             0.2,
             "#de77ae"
            ],
            [
             0.3,
             "#f1b6da"
            ],
            [
             0.4,
             "#fde0ef"
            ],
            [
             0.5,
             "#f7f7f7"
            ],
            [
             0.6,
             "#e6f5d0"
            ],
            [
             0.7,
             "#b8e186"
            ],
            [
             0.8,
             "#7fbc41"
            ],
            [
             0.9,
             "#4d9221"
            ],
            [
             1,
             "#276419"
            ]
           ],
           "sequential": [
            [
             0,
             "#0d0887"
            ],
            [
             0.1111111111111111,
             "#46039f"
            ],
            [
             0.2222222222222222,
             "#7201a8"
            ],
            [
             0.3333333333333333,
             "#9c179e"
            ],
            [
             0.4444444444444444,
             "#bd3786"
            ],
            [
             0.5555555555555556,
             "#d8576b"
            ],
            [
             0.6666666666666666,
             "#ed7953"
            ],
            [
             0.7777777777777778,
             "#fb9f3a"
            ],
            [
             0.8888888888888888,
             "#fdca26"
            ],
            [
             1,
             "#f0f921"
            ]
           ],
           "sequentialminus": [
            [
             0,
             "#0d0887"
            ],
            [
             0.1111111111111111,
             "#46039f"
            ],
            [
             0.2222222222222222,
             "#7201a8"
            ],
            [
             0.3333333333333333,
             "#9c179e"
            ],
            [
             0.4444444444444444,
             "#bd3786"
            ],
            [
             0.5555555555555556,
             "#d8576b"
            ],
            [
             0.6666666666666666,
             "#ed7953"
            ],
            [
             0.7777777777777778,
             "#fb9f3a"
            ],
            [
             0.8888888888888888,
             "#fdca26"
            ],
            [
             1,
             "#f0f921"
            ]
           ]
          },
          "colorway": [
           "#636efa",
           "#EF553B",
           "#00cc96",
           "#ab63fa",
           "#FFA15A",
           "#19d3f3",
           "#FF6692",
           "#B6E880",
           "#FF97FF",
           "#FECB52"
          ],
          "font": {
           "color": "#2a3f5f"
          },
          "geo": {
           "bgcolor": "white",
           "lakecolor": "white",
           "landcolor": "#E5ECF6",
           "showlakes": true,
           "showland": true,
           "subunitcolor": "white"
          },
          "hoverlabel": {
           "align": "left"
          },
          "hovermode": "closest",
          "mapbox": {
           "style": "light"
          },
          "paper_bgcolor": "white",
          "plot_bgcolor": "#E5ECF6",
          "polar": {
           "angularaxis": {
            "gridcolor": "white",
            "linecolor": "white",
            "ticks": ""
           },
           "bgcolor": "#E5ECF6",
           "radialaxis": {
            "gridcolor": "white",
            "linecolor": "white",
            "ticks": ""
           }
          },
          "scene": {
           "xaxis": {
            "backgroundcolor": "#E5ECF6",
            "gridcolor": "white",
            "gridwidth": 2,
            "linecolor": "white",
            "showbackground": true,
            "ticks": "",
            "zerolinecolor": "white"
           },
           "yaxis": {
            "backgroundcolor": "#E5ECF6",
            "gridcolor": "white",
            "gridwidth": 2,
            "linecolor": "white",
            "showbackground": true,
            "ticks": "",
            "zerolinecolor": "white"
           },
           "zaxis": {
            "backgroundcolor": "#E5ECF6",
            "gridcolor": "white",
            "gridwidth": 2,
            "linecolor": "white",
            "showbackground": true,
            "ticks": "",
            "zerolinecolor": "white"
           }
          },
          "shapedefaults": {
           "line": {
            "color": "#2a3f5f"
           }
          },
          "ternary": {
           "aaxis": {
            "gridcolor": "white",
            "linecolor": "white",
            "ticks": ""
           },
           "baxis": {
            "gridcolor": "white",
            "linecolor": "white",
            "ticks": ""
           },
           "bgcolor": "#E5ECF6",
           "caxis": {
            "gridcolor": "white",
            "linecolor": "white",
            "ticks": ""
           }
          },
          "title": {
           "x": 0.05
          },
          "xaxis": {
           "automargin": true,
           "gridcolor": "white",
           "linecolor": "white",
           "ticks": "",
           "title": {
            "standoff": 15
           },
           "zerolinecolor": "white",
           "zerolinewidth": 2
          },
          "yaxis": {
           "automargin": true,
           "gridcolor": "white",
           "linecolor": "white",
           "ticks": "",
           "title": {
            "standoff": 15
           },
           "zerolinecolor": "white",
           "zerolinewidth": 2
          }
         }
        },
        "title": {
         "font": {
          "size": 20
         },
         "text": "Monthly found items in french train stations (Jan 2015 to June 15th, 2020)"
        },
        "width": 800,
        "xaxis": {
         "autorange": true,
         "range": [
          "2014-12-18",
          "2020-06-15"
         ],
         "title": {
          "font": {
           "size": 20
          },
          "text": "Months"
         },
         "type": "date"
        },
        "yaxis": {
         "autorange": true,
         "range": [
          0,
          19449.473684210527
         ],
         "title": {
          "font": {
           "size": 20
          },
          "text": "Found items in train stations"
         },
         "type": "linear"
        }
       }
      },
      "image/png": "[encoded data removed]",
      "text/html": [
       "<div>\n",
       "        \n",
       "        \n",
       "            <div id=\"bfdfecc1-3195-432e-bf63-e451eaeecd19\" class=\"plotly-graph-div\" style=\"height:525px; width:800px;\"></div>\n",
       "            <script type=\"text/javascript\">\n",
       "                require([\"plotly\"], function(Plotly) {\n",
       "                    window.PLOTLYENV=window.PLOTLYENV || {};\n",
       "                    \n",
       "                if (document.getElementById(\"bfdfecc1-3195-432e-bf63-e451eaeecd19\")) {\n",
       "                    Plotly.newPlot(\n",
       "                        'bfdfecc1-3195-432e-bf63-e451eaeecd19',\n",
       "                        [{\"hoverinfo\": \"x+y\", \"marker\": {\"color\": \"#007bff\"}, \"meta\": [13820, 13344, 14325, 15383, 14195, 16128, 17171, 15703, 16237, 16023, 14189, 14581, 14513, 13698, 14707, 13754, 13842, 12563, 16161, 15625, 15072, 15862, 15678, 15768, 15925, 14323, 15562, 15422, 16031, 16297, 18346, 16517, 15818, 16709, 15941, 16038, 15730, 14283, 15310, 10772, 11251, 12876, 16740, 15454, 15588, 16694, 14964, 15294, 15800, 14186, 15330, 16262, 15733, 16978, 18477, 16130, 16736, 16570, 15263, 7603, 11177, 13932, 7802, 452, 2171, 2551], \"text\": [13820.0, 13344.0, 14325.0, 15383.0, 14195.0, 16128.0, 17171.0, 15703.0, 16237.0, 16023.0, 14189.0, 14581.0, 14513.0, 13698.0, 14707.0, 13754.0, 13842.0, 12563.0, 16161.0, 15625.0, 15072.0, 15862.0, 15678.0, 15768.0, 15925.0, 14323.0, 15562.0, 15422.0, 16031.0, 16297.0, 18346.0, 16517.0, 15818.0, 16709.0, 15941.0, 16038.0, 15730.0, 14283.0, 15310.0, 10772.0, 11251.0, 12876.0, 16740.0, 15454.0, 15588.0, 16694.0, 14964.0, 15294.0, 15800.0, 14186.0, 15330.0, 16262.0, 15733.0, 16978.0, 18477.0, 16130.0, 16736.0, 16570.0, 15263.0, 7603.0, 11177.0, 13932.0, 7802.0, 452.0, 2171.0, 2551.0], \"type\": \"bar\", \"x\": [\"2015-01-01T00:00:00\", \"2015-02-01T00:00:00\", \"2015-03-01T00:00:00\", \"2015-04-01T00:00:00\", \"2015-05-01T00:00:00\", \"2015-06-01T00:00:00\", \"2015-07-01T00:00:00\", \"2015-08-01T00:00:00\", \"2015-09-01T00:00:00\", \"2015-10-01T00:00:00\", \"2015-11-01T00:00:00\", \"2015-12-01T00:00:00\", \"2016-01-01T00:00:00\", \"2016-02-01T00:00:00\", \"2016-03-01T00:00:00\", \"2016-04-01T00:00:00\", \"2016-05-01T00:00:00\", \"2016-06-01T00:00:00\", \"2016-07-01T00:00:00\", \"2016-08-01T00:00:00\", \"2016-09-01T00:00:00\", \"2016-10-01T00:00:00\", \"2016-11-01T00:00:00\", \"2016-12-01T00:00:00\", \"2017-01-01T00:00:00\", \"2017-02-01T00:00:00\", \"2017-03-01T00:00:00\", \"2017-04-01T00:00:00\", \"2017-05-01T00:00:00\", \"2017-06-01T00:00:00\", \"2017-07-01T00:00:00\", \"2017-08-01T00:00:00\", \"2017-09-01T00:00:00\", \"2017-10-01T00:00:00\", \"2017-11-01T00:00:00\", \"2017-12-01T00:00:00\", \"2018-01-01T00:00:00\", \"2018-02-01T00:00:00\", \"2018-03-01T00:00:00\", \"2018-04-01T00:00:00\", \"2018-05-01T00:00:00\", \"2018-06-01T00:00:00\", \"2018-07-01T00:00:00\", \"2018-08-01T00:00:00\", \"2018-09-01T00:00:00\", \"2018-10-01T00:00:00\", \"2018-11-01T00:00:00\", \"2018-12-01T00:00:00\", \"2019-01-01T00:00:00\", \"2019-02-01T00:00:00\", \"2019-03-01T00:00:00\", \"2019-04-01T00:00:00\", \"2019-05-01T00:00:00\", \"2019-06-01T00:00:00\", \"2019-07-01T00:00:00\", \"2019-08-01T00:00:00\", \"2019-09-01T00:00:00\", \"2019-10-01T00:00:00\", \"2019-11-01T00:00:00\", \"2019-12-01T00:00:00\", \"2020-01-01T00:00:00\", \"2020-02-01T00:00:00\", \"2020-03-01T00:00:00\", \"2020-04-01T00:00:00\", \"2020-05-01T00:00:00\", \"2020-06-01T00:00:00\"], \"y\": [13820, 13344, 14325, 15383, 14195, 16128, 17171, 15703, 16237, 16023, 14189, 14581, 14513, 13698, 14707, 13754, 13842, 12563, 16161, 15625, 15072, 15862, 15678, 15768, 15925, 14323, 15562, 15422, 16031, 16297, 18346, 16517, 15818, 16709, 15941, 16038, 15730, 14283, 15310, 10772, 11251, 12876, 16740, 15454, 15588, 16694, 14964, 15294, 15800, 14186, 15330, 16262, 15733, 16978, 18477, 16130, 16736, 16570, 15263, 7603, 11177, 13932, 7802, 452, 2171, 2551]}],\n",
       "                        {\"height\": 525, \"margin\": {\"b\": 0, \"l\": 30, \"r\": 30, \"t\": 50}, \"template\": {\"data\": {\"bar\": [{\"error_x\": {\"color\": \"#2a3f5f\"}, \"error_y\": {\"color\": \"#2a3f5f\"}, \"marker\": {\"line\": {\"color\": \"#E5ECF6\", \"width\": 0.5}}, \"type\": \"bar\"}], \"barpolar\": [{\"marker\": {\"line\": {\"color\": \"#E5ECF6\", \"width\": 0.5}}, \"type\": \"barpolar\"}], \"carpet\": [{\"aaxis\": {\"endlinecolor\": \"#2a3f5f\", \"gridcolor\": \"white\", \"linecolor\": \"white\", \"minorgridcolor\": \"white\", \"startlinecolor\": \"#2a3f5f\"}, \"baxis\": {\"endlinecolor\": \"#2a3f5f\", \"gridcolor\": \"white\", \"linecolor\": \"white\", \"minorgridcolor\": \"white\", \"startlinecolor\": \"#2a3f5f\"}, \"type\": \"carpet\"}], \"choropleth\": [{\"colorbar\": {\"outlinewidth\": 0, \"ticks\": \"\"}, \"type\": \"choropleth\"}], \"contour\": [{\"colorbar\": {\"outlinewidth\": 0, \"ticks\": \"\"}, \"colorscale\": [[0.0, \"#0d0887\"], [0.1111111111111111, \"#46039f\"], [0.2222222222222222, \"#7201a8\"], [0.3333333333333333, \"#9c179e\"], [0.4444444444444444, \"#bd3786\"], [0.5555555555555556, \"#d8576b\"], [0.6666666666666666, \"#ed7953\"], [0.7777777777777778, \"#fb9f3a\"], [0.8888888888888888, \"#fdca26\"], [1.0, \"#f0f921\"]], \"type\": \"contour\"}], \"contourcarpet\": [{\"colorbar\": {\"outlinewidth\": 0, \"ticks\": \"\"}, \"type\": \"contourcarpet\"}], \"heatmap\": [{\"colorbar\": {\"outlinewidth\": 0, \"ticks\": \"\"}, \"colorscale\": [[0.0, \"#0d0887\"], [0.1111111111111111, \"#46039f\"], [0.2222222222222222, \"#7201a8\"], [0.3333333333333333, \"#9c179e\"], [0.4444444444444444, \"#bd3786\"], [0.5555555555555556, \"#d8576b\"], [0.6666666666666666, \"#ed7953\"], [0.7777777777777778, \"#fb9f3a\"], [0.8888888888888888, \"#fdca26\"], [1.0, \"#f0f921\"]], \"type\": \"heatmap\"}], \"heatmapgl\": [{\"colorbar\": {\"outlinewidth\": 0, \"ticks\": \"\"}, \"colorscale\": [[0.0, \"#0d0887\"], [0.1111111111111111, \"#46039f\"], [0.2222222222222222, \"#7201a8\"], [0.3333333333333333, \"#9c179e\"], [0.4444444444444444, \"#bd3786\"], [0.5555555555555556, \"#d8576b\"], [0.6666666666666666, \"#ed7953\"], [0.7777777777777778, \"#fb9f3a\"], [0.8888888888888888, \"#fdca26\"], [1.0, \"#f0f921\"]], \"type\": \"heatmapgl\"}], \"histogram\": [{\"marker\": {\"colorbar\": {\"outlinewidth\": 0, \"ticks\": \"\"}}, \"type\": \"histogram\"}], \"histogram2d\": [{\"colorbar\": {\"outlinewidth\": 0, \"ticks\": \"\"}, \"colorscale\": [[0.0, \"#0d0887\"], [0.1111111111111111, \"#46039f\"], [0.2222222222222222, \"#7201a8\"], [0.3333333333333333, \"#9c179e\"], [0.4444444444444444, \"#bd3786\"], [0.5555555555555556, \"#d8576b\"], [0.6666666666666666, \"#ed7953\"], [0.7777777777777778, \"#fb9f3a\"], [0.8888888888888888, \"#fdca26\"], [1.0, \"#f0f921\"]], \"type\": \"histogram2d\"}], \"histogram2dcontour\": [{\"colorbar\": {\"outlinewidth\": 0, \"ticks\": \"\"}, \"colorscale\": [[0.0, \"#0d0887\"], [0.1111111111111111, \"#46039f\"], [0.2222222222222222, \"#7201a8\"], [0.3333333333333333, \"#9c179e\"], [0.4444444444444444, \"#bd3786\"], [0.5555555555555556, \"#d8576b\"], [0.6666666666666666, \"#ed7953\"], [0.7777777777777778, \"#fb9f3a\"], [0.8888888888888888, \"#fdca26\"], [1.0, \"#f0f921\"]], \"type\": \"histogram2dcontour\"}], \"mesh3d\": [{\"colorbar\": {\"outlinewidth\": 0, \"ticks\": \"\"}, \"type\": \"mesh3d\"}], \"parcoords\": [{\"line\": {\"colorbar\": {\"outlinewidth\": 0, \"ticks\": \"\"}}, \"type\": \"parcoords\"}], \"pie\": [{\"automargin\": true, \"type\": \"pie\"}], \"scatter\": [{\"marker\": {\"colorbar\": {\"outlinewidth\": 0, \"ticks\": \"\"}}, \"type\": \"scatter\"}], \"scatter3d\": [{\"line\": {\"colorbar\": {\"outlinewidth\": 0, \"ticks\": \"\"}}, \"marker\": {\"colorbar\": {\"outlinewidth\": 0, \"ticks\": \"\"}}, \"type\": \"scatter3d\"}], \"scattercarpet\": [{\"marker\": {\"colorbar\": {\"outlinewidth\": 0, \"ticks\": \"\"}}, \"type\": \"scattercarpet\"}], \"scattergeo\": [{\"marker\": {\"colorbar\": {\"outlinewidth\": 0, \"ticks\": \"\"}}, \"type\": \"scattergeo\"}], \"scattergl\": [{\"marker\": {\"colorbar\": {\"outlinewidth\": 0, \"ticks\": \"\"}}, \"type\": \"scattergl\"}], \"scattermapbox\": [{\"marker\": {\"colorbar\": {\"outlinewidth\": 0, \"ticks\": \"\"}}, \"type\": \"scattermapbox\"}], \"scatterpolar\": [{\"marker\": {\"colorbar\": {\"outlinewidth\": 0, \"ticks\": \"\"}}, \"type\": \"scatterpolar\"}], \"scatterpolargl\": [{\"marker\": {\"colorbar\": {\"outlinewidth\": 0, \"ticks\": \"\"}}, \"type\": \"scatterpolargl\"}], \"scatterternary\": [{\"marker\": {\"colorbar\": {\"outlinewidth\": 0, \"ticks\": \"\"}}, \"type\": \"scatterternary\"}], \"surface\": [{\"colorbar\": {\"outlinewidth\": 0, \"ticks\": \"\"}, \"colorscale\": [[0.0, \"#0d0887\"], [0.1111111111111111, \"#46039f\"], [0.2222222222222222, \"#7201a8\"], [0.3333333333333333, \"#9c179e\"], [0.4444444444444444, \"#bd3786\"], [0.5555555555555556, \"#d8576b\"], [0.6666666666666666, \"#ed7953\"], [0.7777777777777778, \"#fb9f3a\"], [0.8888888888888888, \"#fdca26\"], [1.0, \"#f0f921\"]], \"type\": \"surface\"}], \"table\": [{\"cells\": {\"fill\": {\"color\": \"#EBF0F8\"}, \"line\": {\"color\": \"white\"}}, \"header\": {\"fill\": {\"color\": \"#C8D4E3\"}, \"line\": {\"color\": \"white\"}}, \"type\": \"table\"}]}, \"layout\": {\"annotationdefaults\": {\"arrowcolor\": \"#2a3f5f\", \"arrowhead\": 0, \"arrowwidth\": 1}, \"coloraxis\": {\"colorbar\": {\"outlinewidth\": 0, \"ticks\": \"\"}}, \"colorscale\": {\"diverging\": [[0, \"#8e0152\"], [0.1, \"#c51b7d\"], [0.2, \"#de77ae\"], [0.3, \"#f1b6da\"], [0.4, \"#fde0ef\"], [0.5, \"#f7f7f7\"], [0.6, \"#e6f5d0\"], [0.7, \"#b8e186\"], [0.8, \"#7fbc41\"], [0.9, \"#4d9221\"], [1, \"#276419\"]], \"sequential\": [[0.0, \"#0d0887\"], [0.1111111111111111, \"#46039f\"], [0.2222222222222222, \"#7201a8\"], [0.3333333333333333, \"#9c179e\"], [0.4444444444444444, \"#bd3786\"], [0.5555555555555556, \"#d8576b\"], [0.6666666666666666, \"#ed7953\"], [0.7777777777777778, \"#fb9f3a\"], [0.8888888888888888, \"#fdca26\"], [1.0, \"#f0f921\"]], \"sequentialminus\": [[0.0, \"#0d0887\"], [0.1111111111111111, \"#46039f\"], [0.2222222222222222, \"#7201a8\"], [0.3333333333333333, \"#9c179e\"], [0.4444444444444444, \"#bd3786\"], [0.5555555555555556, \"#d8576b\"], [0.6666666666666666, \"#ed7953\"], [0.7777777777777778, \"#fb9f3a\"], [0.8888888888888888, \"#fdca26\"], [1.0, \"#f0f921\"]]}, \"colorway\": [\"#636efa\", \"#EF553B\", \"#00cc96\", \"#ab63fa\", \"#FFA15A\", \"#19d3f3\", \"#FF6692\", \"#B6E880\", \"#FF97FF\", \"#FECB52\"], \"font\": {\"color\": \"#2a3f5f\"}, \"geo\": {\"bgcolor\": \"white\", \"lakecolor\": \"white\", \"landcolor\": \"#E5ECF6\", \"showlakes\": true, \"showland\": true, \"subunitcolor\": \"white\"}, \"hoverlabel\": {\"align\": \"left\"}, \"hovermode\": \"closest\", \"mapbox\": {\"style\": \"light\"}, \"paper_bgcolor\": \"white\", \"plot_bgcolor\": \"#E5ECF6\", \"polar\": {\"angularaxis\": {\"gridcolor\": \"white\", \"linecolor\": \"white\", \"ticks\": \"\"}, \"bgcolor\": \"#E5ECF6\", \"radialaxis\": {\"gridcolor\": \"white\", \"linecolor\": \"white\", \"ticks\": \"\"}}, \"scene\": {\"xaxis\": {\"backgroundcolor\": \"#E5ECF6\", \"gridcolor\": \"white\", \"gridwidth\": 2, \"linecolor\": \"white\", \"showbackground\": true, \"ticks\": \"\", \"zerolinecolor\": \"white\"}, \"yaxis\": {\"backgroundcolor\": \"#E5ECF6\", \"gridcolor\": \"white\", \"gridwidth\": 2, \"linecolor\": \"white\", \"showbackground\": true, \"ticks\": \"\", \"zerolinecolor\": \"white\"}, \"zaxis\": {\"backgroundcolor\": \"#E5ECF6\", \"gridcolor\": \"white\", \"gridwidth\": 2, \"linecolor\": \"white\", \"showbackground\": true, \"ticks\": \"\", \"zerolinecolor\": \"white\"}}, \"shapedefaults\": {\"line\": {\"color\": \"#2a3f5f\"}}, \"ternary\": {\"aaxis\": {\"gridcolor\": \"white\", \"linecolor\": \"white\", \"ticks\": \"\"}, \"baxis\": {\"gridcolor\": \"white\", \"linecolor\": \"white\", \"ticks\": \"\"}, \"bgcolor\": \"#E5ECF6\", \"caxis\": {\"gridcolor\": \"white\", \"linecolor\": \"white\", \"ticks\": \"\"}}, \"title\": {\"x\": 0.05}, \"xaxis\": {\"automargin\": true, \"gridcolor\": \"white\", \"linecolor\": \"white\", \"ticks\": \"\", \"title\": {\"standoff\": 15}, \"zerolinecolor\": \"white\", \"zerolinewidth\": 2}, \"yaxis\": {\"automargin\": true, \"gridcolor\": \"white\", \"linecolor\": \"white\", \"ticks\": \"\", \"title\": {\"standoff\": 15}, \"zerolinecolor\": \"white\", \"zerolinewidth\": 2}}}, \"title\": {\"font\": {\"size\": 20}, \"text\": \"Monthly found items in french train stations (Jan 2015 to June 15th, 2020)\"}, \"width\": 800, \"xaxis\": {\"title\": {\"font\": {\"size\": 20}, \"text\": \"Months\"}}, \"yaxis\": {\"title\": {\"font\": {\"size\": 20}, \"text\": \"Found items in train stations\"}}},\n",
       "                        {\"responsive\": true}\n",
       "                    ).then(function(){\n",
       "                            \n",
       "var gd = document.getElementById('bfdfecc1-3195-432e-bf63-e451eaeecd19');\n",
       "var x = new MutationObserver(function (mutations, observer) {{\n",
       "        var display = window.getComputedStyle(gd).display;\n",
       "        if (!display || display === 'none') {{\n",
       "            console.log([gd, 'removed!']);\n",
       "            Plotly.purge(gd);\n",
       "            observer.disconnect();\n",
       "        }}\n",
       "}});\n",
       "\n",
       "// Listen for the removal of the full notebook cells\n",
       "var notebookContainer = gd.closest('#notebook-container');\n",
       "if (notebookContainer) {{\n",
       "    x.observe(notebookContainer, {childList: true});\n",
       "}}\n",
       "\n",
       "// Listen for the clearing of the current output cell\n",
       "var outputEl = gd.closest('.output');\n",
       "if (outputEl) {{\n",
       "    x.observe(outputEl, {childList: true});\n",
       "}}\n",
       "\n",
       "                        })\n",
       "                };\n",
       "                });\n",
       "            </script>\n",
       "        </div>"
      ]
     },
     "metadata": {},
     "output_type": "display_data"
    }
   ],
   "source": [
    "fig = go.Figure()\n",
    "fig.add_trace(go.Bar(\n",
    "    x=df_months.index,\n",
    "    y=df_months, \n",
    "    text=df_months,\n",
    "    meta = df_months,\n",
    "    hoverinfo=\"x+y\",\n",
    "    marker_color=\"#007bff\",  \n",
    "))\n",
    "\n",
    "fig.update_layout(\n",
    "    width=800,\n",
    "    height=525,\n",
    "    title='Monthly found items in french train stations (Jan 2015 to June 15th, 2020)',\n",
    "    titlefont=dict(size=20),\n",
    "    xaxis=dict(title=\"Months\", titlefont=dict(size=20)),\n",
    "    yaxis=dict(title=\"Found items in train stations\", titlefont=dict(size=20)),\n",
    "    margin={'l': 30, 'r': 30, 't': 50, 'b': 0},\n",
    ")"
   ]
  },
  {
   "cell_type": "code",
   "execution_count": 239,
   "metadata": {},
   "outputs": [
    {
     "data": {
      "text/plain": [
       "'https://plotly.com/~hugolmn/21/'"
      ]
     },
     "execution_count": 239,
     "metadata": {},
     "output_type": "execute_result"
    }
   ],
   "source": [
    "py.plot(fig, filename='sncf-monthly-found-items', auto_open=True)"
   ]
  }
 ],
 "metadata": {
  "kernelspec": {
   "display_name": "Python 3",
   "language": "python",
   "name": "python3"
  },
  "language_info": {
   "codemirror_mode": {
    "name": "ipython",
    "version": 3
   },
   "file_extension": ".py",
   "mimetype": "text/x-python",
   "name": "python",
   "nbconvert_exporter": "python",
   "pygments_lexer": "ipython3",
   "version": "3.7.6"
  }
 },
 "nbformat": 4,
 "nbformat_minor": 4
}
