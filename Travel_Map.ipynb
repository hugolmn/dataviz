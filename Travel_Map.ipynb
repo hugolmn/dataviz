{
 "cells": [
  {
   "cell_type": "code",
   "execution_count": 3,
   "metadata": {},
   "outputs": [],
   "source": [
    "import pandas as pd\n",
    "import numpy as np\n",
    "import plotly.colors\n",
    "import plotly.graph_objects as go\n",
    "import chart_studio.plotly as py\n",
    "import plotly.express as px\n",
    "import json\n",
    "from urllib.request import urlopen\n",
    "import requests"
   ]
  },
  {
   "cell_type": "code",
   "execution_count": 4,
   "metadata": {},
   "outputs": [],
   "source": [
    "url = 'https://raw.githubusercontent.com/eurostat/Nuts2json/master/2016/4326/10M/nutsrg_0.json'\n",
    "nuts2 = requests.get(url).json()"
   ]
  },
  {
   "cell_type": "code",
   "execution_count": null,
   "metadata": {},
   "outputs": [],
   "source": [
    "df = pd.read_excel('data/traveling_history.xlsx').groupby('NUTS0').agg({'year': np.mean, 'duration': np.sum})\n",
    "fig = px.choropleth_mapbox(\n",
    "    df,    \n",
    "    geojson=nuts2, \n",
    "    featureidkey='properties.id',\n",
    "    locations=df.index, \n",
    "    color='duration', \n",
    "    color_continuous_scale=\"Viridis\",\n",
    "    range_color=(0, 20),\n",
    "    mapbox_style=\"carto-positron\",\n",
    "    center={'lon': 2.39, 'lat': 47.09},\n",
    "    zoom=3,height=800, width=1000)\n",
    "fig.show()"
   ]
  }
 ],
 "metadata": {
  "kernelspec": {
   "display_name": "Python 3",
   "language": "python",
   "name": "python3"
  },
  "language_info": {
   "codemirror_mode": {
    "name": "ipython",
    "version": 3
   },
   "file_extension": ".py",
   "mimetype": "text/x-python",
   "name": "python",
   "nbconvert_exporter": "python",
   "pygments_lexer": "ipython3",
   "version": "3.7.6"
  }
 },
 "nbformat": 4,
 "nbformat_minor": 4
}
